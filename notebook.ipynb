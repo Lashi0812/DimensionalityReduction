{
 "cells": [
  {
   "cell_type": "code",
   "execution_count": 1,
   "outputs": [],
   "source": [
    "import pandas as pd\n",
    "import numpy as np\n",
    "\n",
    "import matplotlib.pyplot as plt\n",
    "import seaborn as sns"
   ],
   "metadata": {
    "collapsed": false,
    "pycharm": {
     "name": "#%%\n"
    }
   }
  },
  {
   "metadata": {
    "pycharm": {
     "name": "#%% md\n"
    }
   },
   "outputs": [],
   "source": [
    "# Exploring High Dimensional Data"
   ],
   "execution_count": null,
   "cell_type": "markdown"
  },
  {
   "metadata": {
    "pycharm": {
     "name": "#%% md\n"
    }
   },
   "outputs": [],
   "source": [
    "## Introduction"
   ],
   "execution_count": null,
   "cell_type": "markdown"
  },
  {
   "metadata": {
    "pycharm": {
     "name": "#%% md\n"
    }
   },
   "outputs": [],
   "source": [
    "### 2. Tidy data\n",
    "\n",
    "Before we get going, it's important to clarify some concepts. When I mention dimensionality, I mean the number of columns you have in your dataset, assuming that you are working on a tidy dataset, such as the Pokemon dataset shown here. Working with a tidy dataset makes your life as a data scientist much easier. To do so,"
   ],
   "execution_count": null,
   "cell_type": "markdown"
  },
  {
   "cell_type": "code",
   "execution_count": 5,
   "outputs": [],
   "source": [
    "pokemon_df = pd.read_csv(\"data/pokemon.csv\")\n",
    "pokemon_df = pokemon_df.head(7)"
   ],
   "metadata": {
    "collapsed": false,
    "pycharm": {
     "name": "#%%\n"
    }
   }
  },
  {
   "metadata": {
    "pycharm": {
     "name": "#%% md\n"
    }
   },
   "outputs": [],
   "source": [
    "### 3. Tidy data\n",
    "\n",
    "just make sure every column resembles a variable, or in other words feature, such as the properties of Pokemon like attack and defense in this example. Similarly,"
   ],
   "execution_count": null,
   "cell_type": "markdown"
  },
  {
   "cell_type": "code",
   "execution_count": 6,
   "outputs": [
    {
     "data": {
      "text/plain": "   #                   Name Type 1  Type 2  Total  HP  Attack  Defense  \\\n0  1              Bulbasaur  Grass  Poison    318  45      49       49   \n1  2                Ivysaur  Grass  Poison    405  60      62       63   \n2  3               Venusaur  Grass  Poison    525  80      82       83   \n3  3  VenusaurMega Venusaur  Grass  Poison    625  80     100      123   \n4  4             Charmander   Fire     NaN    309  39      52       43   \n5  5             Charmeleon   Fire     NaN    405  58      64       58   \n6  6              Charizard   Fire  Flying    534  78      84       78   \n\n   Sp. Atk  Sp. Def  Speed  Generation  Legendary  \n0       65       65     45           1      False  \n1       80       80     60           1      False  \n2      100      100     80           1      False  \n3      122      120     80           1      False  \n4       60       50     65           1      False  \n5       80       65     80           1      False  \n6      109       85    100           1      False  ",
      "text/html": "<div>\n<style scoped>\n    .dataframe tbody tr th:only-of-type {\n        vertical-align: middle;\n    }\n\n    .dataframe tbody tr th {\n        vertical-align: top;\n    }\n\n    .dataframe thead th {\n        text-align: right;\n    }\n</style>\n<table border=\"1\" class=\"dataframe\">\n  <thead>\n    <tr style=\"text-align: right;\">\n      <th></th>\n      <th>#</th>\n      <th>Name</th>\n      <th>Type 1</th>\n      <th>Type 2</th>\n      <th>Total</th>\n      <th>HP</th>\n      <th>Attack</th>\n      <th>Defense</th>\n      <th>Sp. Atk</th>\n      <th>Sp. Def</th>\n      <th>Speed</th>\n      <th>Generation</th>\n      <th>Legendary</th>\n    </tr>\n  </thead>\n  <tbody>\n    <tr>\n      <th>0</th>\n      <td>1</td>\n      <td>Bulbasaur</td>\n      <td>Grass</td>\n      <td>Poison</td>\n      <td>318</td>\n      <td>45</td>\n      <td>49</td>\n      <td>49</td>\n      <td>65</td>\n      <td>65</td>\n      <td>45</td>\n      <td>1</td>\n      <td>False</td>\n    </tr>\n    <tr>\n      <th>1</th>\n      <td>2</td>\n      <td>Ivysaur</td>\n      <td>Grass</td>\n      <td>Poison</td>\n      <td>405</td>\n      <td>60</td>\n      <td>62</td>\n      <td>63</td>\n      <td>80</td>\n      <td>80</td>\n      <td>60</td>\n      <td>1</td>\n      <td>False</td>\n    </tr>\n    <tr>\n      <th>2</th>\n      <td>3</td>\n      <td>Venusaur</td>\n      <td>Grass</td>\n      <td>Poison</td>\n      <td>525</td>\n      <td>80</td>\n      <td>82</td>\n      <td>83</td>\n      <td>100</td>\n      <td>100</td>\n      <td>80</td>\n      <td>1</td>\n      <td>False</td>\n    </tr>\n    <tr>\n      <th>3</th>\n      <td>3</td>\n      <td>VenusaurMega Venusaur</td>\n      <td>Grass</td>\n      <td>Poison</td>\n      <td>625</td>\n      <td>80</td>\n      <td>100</td>\n      <td>123</td>\n      <td>122</td>\n      <td>120</td>\n      <td>80</td>\n      <td>1</td>\n      <td>False</td>\n    </tr>\n    <tr>\n      <th>4</th>\n      <td>4</td>\n      <td>Charmander</td>\n      <td>Fire</td>\n      <td>NaN</td>\n      <td>309</td>\n      <td>39</td>\n      <td>52</td>\n      <td>43</td>\n      <td>60</td>\n      <td>50</td>\n      <td>65</td>\n      <td>1</td>\n      <td>False</td>\n    </tr>\n    <tr>\n      <th>5</th>\n      <td>5</td>\n      <td>Charmeleon</td>\n      <td>Fire</td>\n      <td>NaN</td>\n      <td>405</td>\n      <td>58</td>\n      <td>64</td>\n      <td>58</td>\n      <td>80</td>\n      <td>65</td>\n      <td>80</td>\n      <td>1</td>\n      <td>False</td>\n    </tr>\n    <tr>\n      <th>6</th>\n      <td>6</td>\n      <td>Charizard</td>\n      <td>Fire</td>\n      <td>Flying</td>\n      <td>534</td>\n      <td>78</td>\n      <td>84</td>\n      <td>78</td>\n      <td>109</td>\n      <td>85</td>\n      <td>100</td>\n      <td>1</td>\n      <td>False</td>\n    </tr>\n  </tbody>\n</table>\n</div>"
     },
     "execution_count": 6,
     "metadata": {},
     "output_type": "execute_result"
    }
   ],
   "source": [
    "pokemon_df"
   ],
   "metadata": {
    "collapsed": false,
    "pycharm": {
     "name": "#%%\n"
    }
   }
  },
  {
   "metadata": {
    "pycharm": {
     "name": "#%% md\n"
    }
   },
   "outputs": [],
   "source": [
    "### 4. Tidy data\n",
    "\n",
    "each row holds an observation for each variable. The first row gives us all the properties of one specific Pokemon."
   ],
   "execution_count": null,
   "cell_type": "markdown"
  },
  {
   "metadata": {
    "pycharm": {
     "name": "#%% md\n"
    }
   },
   "outputs": [],
   "source": [
    "### 5. Tidy data\n",
    "\n",
    "You end up with a value in each cell of your dataset."
   ],
   "execution_count": null,
   "cell_type": "markdown"
  },
  {
   "metadata": {
    "pycharm": {
     "name": "#%% md\n"
    }
   },
   "outputs": [],
   "source": [
    "### 6. The shape attribute\n",
    "\n",
    "You can learn the number of rows and columns in a pandas DataFrame using the .shape attribute. For our small Pokemon dataset, .shape would return a tuple telling us there are five rows and seven columns. Throughout this course, we'll be using pandas a lot and we'll always pre-import it for you as 'pd'. When you have many columns in your dataset, say, more than 10, the data is considered high dimensional. And if you're new to that dataset, it could be hard to find the most important patterns because of the complexity that comes with high-dimensionality. To overcome this, we can reduce the number of columns using dimensionality reduction techniques. However, these techniques can also be useful for relatively low dimensional datasets"
   ],
   "execution_count": null,
   "cell_type": "markdown"
  },
  {
   "cell_type": "code",
   "execution_count": 9,
   "outputs": [
    {
     "data": {
      "text/plain": "(7, 13)"
     },
     "execution_count": 9,
     "metadata": {},
     "output_type": "execute_result"
    }
   ],
   "source": [
    "pokemon_df.shape"
   ],
   "metadata": {
    "collapsed": false,
    "pycharm": {
     "name": "#%%\n"
    }
   }
  },
  {
   "metadata": {
    "pycharm": {
     "name": "#%% md\n"
    }
   },
   "outputs": [],
   "source": [
    "### 7. When to use dimensionality reduction?\n",
    "\n",
    ", such as this one."
   ],
   "execution_count": null,
   "cell_type": "markdown"
  },
  {
   "metadata": {
    "pycharm": {
     "name": "#%% md\n"
    }
   },
   "outputs": [],
   "source": [
    "### 8. When to use dimensionality reduction?\n",
    "\n",
    "In the dataset shown here, you'll notice that all Pokemon come from the same generation. If we're interested in how Pokemon are different, this feature would not be very useful since it has no variance. We could reduce dimensionality by simply dropping that column."
   ],
   "execution_count": null,
   "cell_type": "markdown"
  },
  {
   "metadata": {
    "pycharm": {
     "name": "#%% md\n"
    }
   },
   "outputs": [],
   "source": [
    "### 9. The describe method\n",
    "\n",
    "To get a quick overview of which columns contain little variance, we can use the pandas DataFrame .describe() method. By default, .describe() gives us a number of summary statistics for each numeric column."
   ],
   "execution_count": null,
   "cell_type": "markdown"
  },
  {
   "cell_type": "code",
   "execution_count": 10,
   "outputs": [
    {
     "data": {
      "text/plain": "              #       Total         HP      Attack     Defense     Sp. Atk  \\\ncount  7.000000    7.000000   7.000000    7.000000    7.000000    7.000000   \nmean   3.428571  445.857143  62.857143   70.428571   71.000000   88.000000   \nstd    1.718249  118.701908  17.014000   18.724824   27.073973   23.028967   \nmin    1.000000  309.000000  39.000000   49.000000   43.000000   60.000000   \n25%    2.500000  361.500000  51.500000   57.000000   53.500000   72.500000   \n50%    3.000000  405.000000  60.000000   64.000000   63.000000   80.000000   \n75%    4.500000  529.500000  79.000000   83.000000   80.500000  104.500000   \nmax    6.000000  625.000000  80.000000  100.000000  123.000000  122.000000   \n\n          Sp. Def       Speed  Generation  \ncount    7.000000    7.000000         7.0  \nmean    80.714286   72.857143         1.0  \nstd     23.704530   17.761649         0.0  \nmin     50.000000   45.000000         1.0  \n25%     65.000000   62.500000         1.0  \n50%     80.000000   80.000000         1.0  \n75%     92.500000   80.000000         1.0  \nmax    120.000000  100.000000         1.0  ",
      "text/html": "<div>\n<style scoped>\n    .dataframe tbody tr th:only-of-type {\n        vertical-align: middle;\n    }\n\n    .dataframe tbody tr th {\n        vertical-align: top;\n    }\n\n    .dataframe thead th {\n        text-align: right;\n    }\n</style>\n<table border=\"1\" class=\"dataframe\">\n  <thead>\n    <tr style=\"text-align: right;\">\n      <th></th>\n      <th>#</th>\n      <th>Total</th>\n      <th>HP</th>\n      <th>Attack</th>\n      <th>Defense</th>\n      <th>Sp. Atk</th>\n      <th>Sp. Def</th>\n      <th>Speed</th>\n      <th>Generation</th>\n    </tr>\n  </thead>\n  <tbody>\n    <tr>\n      <th>count</th>\n      <td>7.000000</td>\n      <td>7.000000</td>\n      <td>7.000000</td>\n      <td>7.000000</td>\n      <td>7.000000</td>\n      <td>7.000000</td>\n      <td>7.000000</td>\n      <td>7.000000</td>\n      <td>7.0</td>\n    </tr>\n    <tr>\n      <th>mean</th>\n      <td>3.428571</td>\n      <td>445.857143</td>\n      <td>62.857143</td>\n      <td>70.428571</td>\n      <td>71.000000</td>\n      <td>88.000000</td>\n      <td>80.714286</td>\n      <td>72.857143</td>\n      <td>1.0</td>\n    </tr>\n    <tr>\n      <th>std</th>\n      <td>1.718249</td>\n      <td>118.701908</td>\n      <td>17.014000</td>\n      <td>18.724824</td>\n      <td>27.073973</td>\n      <td>23.028967</td>\n      <td>23.704530</td>\n      <td>17.761649</td>\n      <td>0.0</td>\n    </tr>\n    <tr>\n      <th>min</th>\n      <td>1.000000</td>\n      <td>309.000000</td>\n      <td>39.000000</td>\n      <td>49.000000</td>\n      <td>43.000000</td>\n      <td>60.000000</td>\n      <td>50.000000</td>\n      <td>45.000000</td>\n      <td>1.0</td>\n    </tr>\n    <tr>\n      <th>25%</th>\n      <td>2.500000</td>\n      <td>361.500000</td>\n      <td>51.500000</td>\n      <td>57.000000</td>\n      <td>53.500000</td>\n      <td>72.500000</td>\n      <td>65.000000</td>\n      <td>62.500000</td>\n      <td>1.0</td>\n    </tr>\n    <tr>\n      <th>50%</th>\n      <td>3.000000</td>\n      <td>405.000000</td>\n      <td>60.000000</td>\n      <td>64.000000</td>\n      <td>63.000000</td>\n      <td>80.000000</td>\n      <td>80.000000</td>\n      <td>80.000000</td>\n      <td>1.0</td>\n    </tr>\n    <tr>\n      <th>75%</th>\n      <td>4.500000</td>\n      <td>529.500000</td>\n      <td>79.000000</td>\n      <td>83.000000</td>\n      <td>80.500000</td>\n      <td>104.500000</td>\n      <td>92.500000</td>\n      <td>80.000000</td>\n      <td>1.0</td>\n    </tr>\n    <tr>\n      <th>max</th>\n      <td>6.000000</td>\n      <td>625.000000</td>\n      <td>80.000000</td>\n      <td>100.000000</td>\n      <td>123.000000</td>\n      <td>122.000000</td>\n      <td>120.000000</td>\n      <td>100.000000</td>\n      <td>1.0</td>\n    </tr>\n  </tbody>\n</table>\n</div>"
     },
     "execution_count": 10,
     "metadata": {},
     "output_type": "execute_result"
    }
   ],
   "source": [
    "pokemon_df.describe()"
   ],
   "metadata": {
    "collapsed": false,
    "pycharm": {
     "name": "#%%\n"
    }
   }
  },
  {
   "metadata": {
    "pycharm": {
     "name": "#%% md\n"
    }
   },
   "outputs": [],
   "source": [
    "### 10. The describe method\n",
    "\n",
    "You'll see that for our small dataset the standard deviation of the generation column is zero, and that the maximum and minimum values are the same."
   ],
   "execution_count": null,
   "cell_type": "markdown"
  },
  {
   "metadata": {
    "pycharm": {
     "name": "#%% md\n"
    }
   },
   "outputs": [],
   "source": [
    "### 11. The describe method\n",
    "\n",
    "By default, .describe() ignores the non-numeric columns in a dataset. We can tell .describe() to do the opposite by passing 'number' to the 'exclude' argument. We'll then get summary statistics adapted to non-numeric data."
   ],
   "execution_count": null,
   "cell_type": "markdown"
  },
  {
   "metadata": {
    "pycharm": {
     "name": "#%% md\n"
    }
   },
   "outputs": [],
   "source": [
    "### 12. The describe method\n",
    "\n",
    "We can see that in 5 observations there are only 2 unique types of Pokemon. The top occurring type is Grass, since it's in the Type column 3 times. Getting comfortable with the shape of your dataset and the properties of the features within is a crucial step you should take before you make the decision to reduce dimensionality. Another important exploration step is to visualize your data and we'll get to that in the next lesson."
   ],
   "execution_count": null,
   "cell_type": "markdown"
  },
  {
   "metadata": {
    "pycharm": {
     "name": "#%% md\n"
    }
   },
   "outputs": [],
   "source": [
    "### 13. Let's practice!\n",
    "\n",
    "But first, we'll practice. It's your turn to explore a larger sample of the Pokemon dataset."
   ],
   "execution_count": null,
   "cell_type": "markdown"
  },
  {
   "metadata": {
    "pycharm": {
     "name": "#%% md\n"
    }
   },
   "outputs": [],
   "source": [
    "## Removing features without variance\n",
    "\n",
    "<p>A sample of the Pokemon dataset has been loaded as <code>pokemon_df</code>. To get an idea of which features have little variance you should use the IPython Shell to calculate summary statistics on this sample. Then adjust the code to create a smaller, easier to understand, dataset.</p>"
   ],
   "execution_count": null,
   "cell_type": "markdown"
  },
  {
   "metadata": {
    "pycharm": {
     "name": "#%% md\n"
    }
   },
   "outputs": [],
   "source": [
    "Use the <code>.describe()</code> method to find the numeric feature without variance and remove its name from the list assigned to <code>number_cols</code>."
   ],
   "execution_count": null,
   "cell_type": "markdown"
  },
  {
   "metadata": {
    "pycharm": {
     "name": "#%% md\n"
    }
   },
   "outputs": [],
   "source": [
    "## Feature selection vs. feature extraction"
   ],
   "execution_count": null,
   "cell_type": "markdown"
  },
  {
   "metadata": {
    "pycharm": {
     "name": "#%% md\n"
    }
   },
   "outputs": [],
   "source": [
    "### 1. Feature selection vs. feature extraction\n",
    "\n",
    "Reducing the number of dimensions in your dataset has multiple benefits."
   ],
   "execution_count": null,
   "cell_type": "markdown"
  },
  {
   "metadata": {
    "pycharm": {
     "name": "#%% md\n"
    }
   },
   "outputs": [],
   "source": [
    "### 2. Why reduce dimensionality?\n",
    "\n",
    "Your dataset will become simpler and thus easier to work with, require less disk space to store and computations will run faster. In addition, models are less likely to overfit on a dataset with fewer dimensions."
   ],
   "execution_count": null,
   "cell_type": "markdown"
  },
  {
   "metadata": {
    "pycharm": {
     "name": "#%% md\n"
    }
   },
   "outputs": [],
   "source": [
    "### 3. Feature selection\n",
    "\n",
    "The simplest way to reduce dimensionality is to only select the features or columns that are important to you from a larger dataset. The hard part here is to decide on which features are important. If you're an expert on what the data is about, you may know this by heart."
   ],
   "execution_count": null,
   "cell_type": "markdown"
  },
  {
   "metadata": {
    "pycharm": {
     "name": "#%% md\n"
    }
   },
   "outputs": [],
   "source": [
    "### 4. Feature selection\n",
    "\n",
    "You would, for example, know that a person's favorite color is irrelevant if you want to predict whether they'll default on a loan. And with the pandas DataFrame .drop() method, you could remove that feature easily. Just make sure to pass the axis argument '1', to specify we're dropping a column instead of a row. If you're new to a dataset, you'll have to do some exploring before you can take a decision on which features can be dropped."
   ],
   "execution_count": null,
   "cell_type": "markdown"
  },
  {
   "metadata": {
    "pycharm": {
     "name": "#%% md\n"
    }
   },
   "outputs": [],
   "source": [
    "### 5. Building a pairplot on ANSUR data\n",
    "\n",
    "Seaborn's pairplot() is excellent to visually explore small to medium sized datasets. It provides a one by one comparison of each numeric feature in the dataset in the form of a scatterplot plus, diagonally, a view of the distribution of each feature. The example shown here, visualizes a sample of the US army body measurement dataset called ANSUR. And we've set the kind of plot to show on the diagonal to 'hist' for histogram."
   ],
   "execution_count": null,
   "cell_type": "markdown"
  },
  {
   "metadata": {
    "pycharm": {
     "name": "#%% md\n"
    }
   },
   "outputs": [],
   "source": [
    "### 6. Building a pairplot on ANSUR data\n",
    "\n",
    "We can spot that the weight in pounds is perfectly correlated to the weight in kilograms since all points fall on a diagonal line. Since both features hold the same information it makes perfect sense to drop one of them."
   ],
   "execution_count": null,
   "cell_type": "markdown"
  },
  {
   "metadata": {
    "pycharm": {
     "name": "#%% md\n"
    }
   },
   "outputs": [],
   "source": [
    "### 7. Building a pairplot on ANSUR data\n",
    "\n",
    "If there would have been a numeric feature without any variance in the dataset such as the constant that has been added here, it too would have been easy to spot visually. Also note, that we used the categorical 'gender' feature to color the points. Since all points in this sample are for males, we could decide to drop that feature too."
   ],
   "execution_count": null,
   "cell_type": "markdown"
  },
  {
   "metadata": {
    "pycharm": {
     "name": "#%% md\n"
    }
   },
   "outputs": [],
   "source": [
    "### 8. Selection vs. extraction\n",
    "\n",
    "When we apply feature selection, we completely remove a feature and the information it holds from the dataset, such as the yellow column in this example. We try to minimize the information loss by only removing features that are irrelevant or hold little unique information, but this is not always possible."
   ],
   "execution_count": null,
   "cell_type": "markdown"
  },
  {
   "metadata": {
    "pycharm": {
     "name": "#%% md\n"
    }
   },
   "outputs": [],
   "source": [
    "### 9. Selection vs. extraction\n",
    "\n",
    "Compared to feature selection, feature extraction is a completely different approach but with the same goal of reducing dimensionality. Instead of selecting a subset of features from our initial dataset, we'll be calculating, or extracting, new features from the original ones. These new features have as little redundant information in them as possible and are therefore fewer in number. One downside is that the newly created features are often less intuitive to understand than the original ones."
   ],
   "execution_count": null,
   "cell_type": "markdown"
  },
  {
   "metadata": {
    "pycharm": {
     "name": "#%% md\n"
    }
   },
   "outputs": [],
   "source": [
    "### 10. Feature extraction - Example\n",
    "\n",
    "The dimensionality of datasets with a lot of strong correlations between the different features in it, such as the one shown here, can be reduced a lot with feature extraction. Intuitively, this makes sense, if I were to tell you that a person has long feet, long hands, long arms and so on, I could probably just summarize that this person is tall."
   ],
   "execution_count": null,
   "cell_type": "markdown"
  },
  {
   "metadata": {
    "pycharm": {
     "name": "#%% md\n"
    }
   },
   "outputs": [],
   "source": [
    "### 11. Feature extraction - Example\n",
    "\n",
    "In fact, we can reduce the number of dimensions in this ANSUR dataset sample from 4 to 2 with a technique called PCA or Principal Component Analysis and keep 96% of the variance in the data. We'll be looking into PCA in detail in chapter 4."
   ],
   "execution_count": null,
   "cell_type": "markdown"
  },
  {
   "metadata": {
    "pycharm": {
     "name": "#%% md\n"
    }
   },
   "outputs": [],
   "source": [
    "### 12. Let's practice!\n",
    "\n",
    "For now, it's your turn to visually explore some datasets."
   ],
   "execution_count": null,
   "cell_type": "markdown"
  },
  {
   "metadata": {
    "pycharm": {
     "name": "#%% md\n"
    }
   },
   "outputs": [],
   "source": [
    "## Visually detecting redundant features\n",
    "\n",
    "<p>Data visualization is a crucial step in any data exploration.\n",
    "Let's use Seaborn to explore some samples of the US Army ANSUR body measurement dataset.</p>\n",
    "<p>Two data samples have been pre-loaded as <code>ansur_df_1</code> and  <code>ansur_df_2</code>.</p>\n",
    "<p>Seaborn has been imported as <code>sns</code>.</p>"
   ],
   "execution_count": null,
   "cell_type": "markdown"
  },
  {
   "metadata": {
    "pycharm": {
     "name": "#%% md\n"
    }
   },
   "outputs": [],
   "source": [
    "Create a pairplot of the <code>ansur_df_1</code> data sample and color the points using the <code>'Gender'</code> feature."
   ],
   "execution_count": null,
   "cell_type": "markdown"
  },
  {
   "metadata": {
    "pycharm": {
     "name": "#%% md\n"
    }
   },
   "outputs": [],
   "source": [
    "## t-SNE visualization of high-dimensional data"
   ],
   "execution_count": null,
   "cell_type": "markdown"
  },
  {
   "metadata": {
    "pycharm": {
     "name": "#%% md\n"
    }
   },
   "outputs": [],
   "source": [
    "### 1. t-SNE visualization of high-dimensional data\n",
    "\n",
    "In this video, you'll learn to apply t-Distributed Stochastic Neighbor Embedding or t-SNE. While this may sound scary, it's just a powerful technique to visualize high dimensional data using feature extraction."
   ],
   "execution_count": null,
   "cell_type": "markdown"
  },
  {
   "cell_type": "code",
   "execution_count": 56,
   "outputs": [
    {
     "data": {
      "text/plain": "(150,)"
     },
     "execution_count": 56,
     "metadata": {},
     "output_type": "execute_result"
    }
   ],
   "source": [
    "from sklearn.datasets import load_iris\n",
    "\n",
    "X = load_iris().data\n",
    "y = load_iris().target\n",
    "y.shape"
   ],
   "metadata": {
    "collapsed": false,
    "pycharm": {
     "name": "#%%\n"
    }
   }
  },
  {
   "cell_type": "code",
   "execution_count": 60,
   "outputs": [
    {
     "name": "stderr",
     "output_type": "stream",
     "text": [
      "C:\\Users\\Lenovo\\anaconda3\\lib\\site-packages\\sklearn\\manifold\\_t_sne.py:800: FutureWarning: The default initialization in TSNE will change from 'random' to 'pca' in 1.2.\n",
      "  warnings.warn(\n"
     ]
    },
    {
     "data": {
      "text/plain": "(150, 2)"
     },
     "execution_count": 60,
     "metadata": {},
     "output_type": "execute_result"
    }
   ],
   "source": [
    "from sklearn.manifold import TSNE\n",
    "\n",
    "tsne = TSNE(learning_rate=50)\n",
    "df = tsne.fit_transform(X)\n",
    "df.shape"
   ],
   "metadata": {
    "collapsed": false,
    "pycharm": {
     "name": "#%%\n"
    }
   }
  },
  {
   "cell_type": "code",
   "execution_count": 61,
   "outputs": [],
   "source": [
    "df = pd.DataFrame(np.c_[df,y],\n",
    "                  columns=[\"X\",\"Y\",\"species\"])"
   ],
   "metadata": {
    "collapsed": false,
    "pycharm": {
     "name": "#%%\n"
    }
   }
  },
  {
   "metadata": {
    "pycharm": {
     "name": "#%% md\n"
    }
   },
   "outputs": [],
   "source": [
    "### 2. t-SNE on IRIS dataset\n",
    "\n",
    "t-SNE will maximize the distance in two-dimensional space between observations that are most different in a high-dimensional space. Because of this, observations that are similar will be close to one another and may become clustered. This is what happens when we apply t-SNE to the Iris dataset."
   ],
   "execution_count": null,
   "cell_type": "markdown"
  },
  {
   "cell_type": "code",
   "execution_count": 62,
   "outputs": [
    {
     "data": {
      "text/plain": "<Figure size 432x432 with 1 Axes>",
      "image/png": "[encoded data removed]"
     },
     "metadata": {},
     "output_type": "display_data"
    }
   ],
   "source": [
    "g = sns.FacetGrid(data=df,hue=\"species\",height=6).map(plt.scatter,\"X\",\"Y\")\n",
    "for i,cls in enumerate(load_iris().target_names):\n",
    "    g.ax.get_children()[i].set_label(cls)\n",
    "plt.legend(title=\"Species\")\n",
    "plt.show()"
   ],
   "metadata": {
    "collapsed": false,
    "pycharm": {
     "name": "#%%\n"
    }
   }
  },
  {
   "metadata": {
    "pycharm": {
     "name": "#%% md\n"
    }
   },
   "outputs": [],
   "source": [
    "### 3. t-SNE on IRIS dataset\n",
    "\n",
    "We can see how the Setosa species forms a separate cluster,"
   ],
   "execution_count": null,
   "cell_type": "markdown"
  },
  {
   "metadata": {
    "pycharm": {
     "name": "#%% md\n"
    }
   },
   "outputs": [],
   "source": [
    "### 4. t-SNE on IRIS dataset\n",
    "\n",
    "while the other two are closer together and therefore more similar. However, the Iris dataset only has 4 dimensions to start with, so let's try this on a more challenging dataset."
   ],
   "execution_count": null,
   "cell_type": "markdown"
  },
  {
   "metadata": {
    "pycharm": {
     "name": "#%% md\n"
    }
   },
   "outputs": [],
   "source": [
    "### 5. t-SNE on female ANSUR dataset\n",
    "\n",
    "Our ANSUR female body measurements dataset has 99 dimensions. Before we apply t-SNE we're going to remove all non-numeric columns from the dataset by passing a list with the unwanted column names to the pandas DataFrame .drop() method. t-SNE does not work with non-numeric data as such. We could use a trick like one-hot encoding to get around this but we'll be using a different approach here."
   ],
   "execution_count": null,
   "cell_type": "markdown"
  },
  {
   "cell_type": "code",
   "execution_count": 64,
   "outputs": [
    {
     "data": {
      "text/plain": "(1986, 99)"
     },
     "execution_count": 64,
     "metadata": {},
     "output_type": "execute_result"
    }
   ],
   "source": [
    "ansur_female = pd.read_csv(\"data/ANSUR_II_FEMALE.csv\")\n",
    "ansur_female.shape"
   ],
   "metadata": {
    "collapsed": false,
    "pycharm": {
     "name": "#%%\n"
    }
   }
  },
  {
   "cell_type": "code",
   "execution_count": 67,
   "outputs": [
    {
     "data": {
      "text/plain": "Index(['Branch', 'Component', 'Gender', 'BMI_class', 'Height_class'], dtype='object')"
     },
     "execution_count": 67,
     "metadata": {},
     "output_type": "execute_result"
    }
   ],
   "source": [
    "non_numeric = ansur_female.select_dtypes(include=\"object\").columns\n",
    "non_numeric"
   ],
   "metadata": {
    "collapsed": false,
    "pycharm": {
     "name": "#%%\n"
    }
   }
  },
  {
   "cell_type": "code",
   "execution_count": 68,
   "outputs": [
    {
     "data": {
      "text/plain": "(1986, 94)"
     },
     "execution_count": 68,
     "metadata": {},
     "output_type": "execute_result"
    }
   ],
   "source": [
    "ansur_female_numeric = ansur_female.drop(non_numeric,axis=1)\n",
    "ansur_female_numeric.shape"
   ],
   "metadata": {
    "collapsed": false,
    "pycharm": {
     "name": "#%%\n"
    }
   }
  },
  {
   "metadata": {
    "pycharm": {
     "name": "#%% md\n"
    }
   },
   "outputs": [],
   "source": [
    "### 6. Fitting t-SNE\n",
    "\n",
    "We'll create a TSNE() model with learning rate 50. While fitting to the dataset, t-SNE will try different configurations and evaluate these with an internal cost function. High learning rates will cause the algorithm to be more adventurous in the configurations it tries out while low learning rates will cause it to be conservative. Usually, learning rates fall in the 10 to 1000 range. Next, we'll fit and transform the TSNE model to our numeric dataset. This will project our high-dimensional dataset onto a NumPy array with two dimensions."
   ],
   "execution_count": null,
   "cell_type": "markdown"
  },
  {
   "cell_type": "code",
   "execution_count": 69,
   "outputs": [
    {
     "name": "stderr",
     "output_type": "stream",
     "text": [
      "C:\\Users\\Lenovo\\anaconda3\\lib\\site-packages\\sklearn\\manifold\\_t_sne.py:800: FutureWarning: The default initialization in TSNE will change from 'random' to 'pca' in 1.2.\n",
      "  warnings.warn(\n"
     ]
    },
    {
     "data": {
      "text/plain": "(1986, 2)"
     },
     "execution_count": 69,
     "metadata": {},
     "output_type": "execute_result"
    }
   ],
   "source": [
    "tsne =TSNE(learning_rate=50)\n",
    "tsne_feature = tsne.fit_transform(ansur_female_numeric)\n",
    "tsne_feature.shape"
   ],
   "metadata": {
    "collapsed": false,
    "pycharm": {
     "name": "#%%\n"
    }
   }
  },
  {
   "metadata": {
    "pycharm": {
     "name": "#%% md\n"
    }
   },
   "outputs": [],
   "source": [
    "### 7. Assigning t-SNE features to our dataset\n",
    "\n",
    "We'll assign these two dimensions back to our original dataset naming them 'x' and 'y'."
   ],
   "execution_count": null,
   "cell_type": "markdown"
  },
  {
   "cell_type": "code",
   "execution_count": 71,
   "outputs": [
    {
     "data": {
      "text/plain": "           X          Y                  Branch     Component  Gender  \\\n0 -20.486465   9.001605          Combat Support  Regular Army  Female   \n1    3.98616 -38.927486  Combat Service Support  Regular Army  Female   \n2  20.093647 -26.719154  Combat Service Support  Regular Army  Female   \n3  21.282249   5.575036  Combat Service Support  Regular Army  Female   \n4  23.932882  32.693844             Combat Arms  Regular Army  Female   \n\n    BMI_class Height_class  \n0  Overweight       Normal  \n1      Normal       Normal  \n2      Normal         Tall  \n3  Overweight       Normal  \n4  Overweight       Normal  ",
      "text/html": "<div>\n<style scoped>\n    .dataframe tbody tr th:only-of-type {\n        vertical-align: middle;\n    }\n\n    .dataframe tbody tr th {\n        vertical-align: top;\n    }\n\n    .dataframe thead th {\n        text-align: right;\n    }\n</style>\n<table border=\"1\" class=\"dataframe\">\n  <thead>\n    <tr style=\"text-align: right;\">\n      <th></th>\n      <th>X</th>\n      <th>Y</th>\n      <th>Branch</th>\n      <th>Component</th>\n      <th>Gender</th>\n      <th>BMI_class</th>\n      <th>Height_class</th>\n    </tr>\n  </thead>\n  <tbody>\n    <tr>\n      <th>0</th>\n      <td>-20.486465</td>\n      <td>9.001605</td>\n      <td>Combat Support</td>\n      <td>Regular Army</td>\n      <td>Female</td>\n      <td>Overweight</td>\n      <td>Normal</td>\n    </tr>\n    <tr>\n      <th>1</th>\n      <td>3.98616</td>\n      <td>-38.927486</td>\n      <td>Combat Service Support</td>\n      <td>Regular Army</td>\n      <td>Female</td>\n      <td>Normal</td>\n      <td>Normal</td>\n    </tr>\n    <tr>\n      <th>2</th>\n      <td>20.093647</td>\n      <td>-26.719154</td>\n      <td>Combat Service Support</td>\n      <td>Regular Army</td>\n      <td>Female</td>\n      <td>Normal</td>\n      <td>Tall</td>\n    </tr>\n    <tr>\n      <th>3</th>\n      <td>21.282249</td>\n      <td>5.575036</td>\n      <td>Combat Service Support</td>\n      <td>Regular Army</td>\n      <td>Female</td>\n      <td>Overweight</td>\n      <td>Normal</td>\n    </tr>\n    <tr>\n      <th>4</th>\n      <td>23.932882</td>\n      <td>32.693844</td>\n      <td>Combat Arms</td>\n      <td>Regular Army</td>\n      <td>Female</td>\n      <td>Overweight</td>\n      <td>Normal</td>\n    </tr>\n  </tbody>\n</table>\n</div>"
     },
     "execution_count": 71,
     "metadata": {},
     "output_type": "execute_result"
    }
   ],
   "source": [
    "tsne_ansur = pd.DataFrame(np.c_[tsne_feature,ansur_female[non_numeric]],\n",
    "                          columns=[\"X\",\"Y\"] + list(non_numeric))\n",
    "tsne_ansur.head()"
   ],
   "metadata": {
    "collapsed": false,
    "pycharm": {
     "name": "#%%\n"
    }
   }
  },
  {
   "metadata": {
    "pycharm": {
     "name": "#%% md\n"
    }
   },
   "outputs": [],
   "source": [
    "### 8. Plotting t-SNE\n",
    "\n",
    "We can now start plotting this data using seaborn's .scatterplot() method on the x and y columns we just added."
   ],
   "execution_count": null,
   "cell_type": "markdown"
  },
  {
   "cell_type": "code",
   "execution_count": 79,
   "outputs": [
    {
     "data": {
      "text/plain": "<Figure size 864x576 with 6 Axes>",
      "image/png": "[encoded data removed]"
     },
     "metadata": {},
     "output_type": "display_data"
    }
   ],
   "source": [
    "plt.style.use(\"seaborn-white\")\n",
    "fig,axes = plt.subplots(nrows=2,ncols=3,figsize=(12,8))\n",
    "for ax,col in zip(axes.ravel(),[None]+list(non_numeric)):\n",
    "    sns.scatterplot(data=tsne_ansur,x=\"X\",y=\"Y\",\n",
    "                    hue=col,\n",
    "                    ax=ax)\n",
    "    ax.set_xticks([])\n",
    "    ax.set_yticks([])\n",
    "\n",
    "plt.xticks([])\n",
    "plt.show()"
   ],
   "metadata": {
    "collapsed": false,
    "pycharm": {
     "name": "#%%\n"
    }
   }
  },
  {
   "metadata": {
    "pycharm": {
     "name": "#%% md\n"
    }
   },
   "outputs": [],
   "source": [
    "### 9. Plotting t-SNE\n",
    "\n",
    "The resulting plot shows one big cluster, and in a sense, this could have been expected. There are no distinct groups of female body shapes with little in between, instead, there is a more continuous distribution of body shapes, and thus, one big cluster. However, using the categorical features we excluded from the analysis, we can check if there are interesting structural patterns within this cluster."
   ],
   "execution_count": null,
   "cell_type": "markdown"
  },
  {
   "metadata": {
    "pycharm": {
     "name": "#%% md\n"
    }
   },
   "outputs": [],
   "source": [
    "### 10. Coloring points according to BMI category\n",
    "\n",
    "The Body Mass Index or BMI is a method to categorize people into weight groups regardless of their height. I added a column 'BMI_class' to the dataset with the BMI category for every person. If we use this column name for the hue, which is the color, of the seaborn scatterplot,"
   ],
   "execution_count": null,
   "cell_type": "markdown"
  },
  {
   "metadata": {
    "pycharm": {
     "name": "#%% md\n"
    }
   },
   "outputs": [],
   "source": [
    "### 11. Coloring points according to BMI category\n",
    "\n",
    "we'll be able to see that weight class indeed shows an interesting pattern."
   ],
   "execution_count": null,
   "cell_type": "markdown"
  },
  {
   "metadata": {
    "pycharm": {
     "name": "#%% md\n"
    }
   },
   "outputs": [],
   "source": [
    "### 12. Coloring points according to BMI category\n",
    "\n",
    "From the 90+ features in the dataset, TSNE picked up that weight explains a lot of variance in the dataset and used that to spread out points along the x-axis, with underweight people on the left and overweight people on the right."
   ],
   "execution_count": null,
   "cell_type": "markdown"
  },
  {
   "metadata": {
    "pycharm": {
     "name": "#%% md\n"
    }
   },
   "outputs": [],
   "source": [
    "### 13. Coloring points according to height category\n",
    "\n",
    "We've also added a column with height categories to the dataset. If we use this 'Height_class' to control the hue of the points"
   ],
   "execution_count": null,
   "cell_type": "markdown"
  },
  {
   "metadata": {
    "pycharm": {
     "name": "#%% md\n"
    }
   },
   "outputs": [],
   "source": [
    "### 14. Coloring points according to height category\n",
    "\n",
    "we'll be able to see that in the vertical direction, variance is explained by a person's height."
   ],
   "execution_count": null,
   "cell_type": "markdown"
  },
  {
   "metadata": {
    "pycharm": {
     "name": "#%% md\n"
    }
   },
   "outputs": [],
   "source": [
    "### 15. Coloring points according to height category\n",
    "\n",
    "Tall people are at the top of the plot and shorter people at the bottom. In conclusion, t-SNE helped us to visually explore our dataset and identify the most important drivers of variance in body shapes."
   ],
   "execution_count": null,
   "cell_type": "markdown"
  },
  {
   "metadata": {
    "pycharm": {
     "name": "#%% md\n"
    }
   },
   "outputs": [],
   "source": [
    "### 16. Let's practice!\n",
    "\n",
    "Now it is your turn to use t-SNE on the combined male and female ANSUR dataset."
   ],
   "execution_count": null,
   "cell_type": "markdown"
  },
  {
   "metadata": {
    "pycharm": {
     "name": "#%% md\n"
    }
   },
   "outputs": [],
   "source": [
    "## Fitting t-SNE to the ANSUR data\n",
    "\n",
    "<p>t-SNE is a great technique for visual exploration of high dimensional datasets. In this exercise, you'll apply it to the ANSUR dataset. You'll remove non-numeric columns from the pre-loaded dataset <code>df</code> and fit <code>TSNE</code> to this numeric dataset.</p>"
   ],
   "execution_count": null,
   "cell_type": "markdown"
  },
  {
   "cell_type": "code",
   "execution_count": null,
   "outputs": [],
   "source": [],
   "metadata": {
    "collapsed": false,
    "pycharm": {
     "name": "#%%\n"
    }
   }
  },
  {
   "metadata": {
    "pycharm": {
     "name": "#%% md\n"
    }
   },
   "outputs": [],
   "source": [
    "Drop the non-numeric columns from the dataset."
   ],
   "execution_count": null,
   "cell_type": "markdown"
  },
  {
   "metadata": {
    "pycharm": {
     "name": "#%% md\n"
    }
   },
   "outputs": [],
   "source": [
    "Create a <code>TSNE</code> model with learning rate 50."
   ],
   "execution_count": null,
   "cell_type": "markdown"
  },
  {
   "metadata": {
    "pycharm": {
     "name": "#%% md\n"
    }
   },
   "outputs": [],
   "source": [
    "Fit and transform the model on the numeric dataset."
   ],
   "execution_count": null,
   "cell_type": "markdown"
  },
  {
   "metadata": {
    "pycharm": {
     "name": "#%% md\n"
    }
   },
   "outputs": [],
   "source": [
    "## t-SNE visualisation of dimensionality\n",
    "\n",
    "<p>Time to look at the results of your hard work. In this exercise, you will visualize the output of t-SNE dimensionality reduction on the combined male and female Ansur dataset.\n",
    "You'll create 3 scatterplots of the 2 t-SNE features (<code>'x'</code> and <code>'y'</code>) which were added to the dataset <code>df</code>. In each scatterplot you'll color the points according to a different categorical variable.</p>\n",
    "<p><code>seaborn</code> has already been imported as <code>sns</code> and <code>matplotlib.pyplot</code> as <code>plt</code>.</p>"
   ],
   "execution_count": null,
   "cell_type": "markdown"
  },
  {
   "metadata": {
    "pycharm": {
     "name": "#%% md\n"
    }
   },
   "outputs": [],
   "source": [
    "Use seaborn's <code>sns.scatterplot</code> to create the plot."
   ],
   "execution_count": null,
   "cell_type": "markdown"
  },
  {
   "metadata": {
    "pycharm": {
     "name": "#%% md\n"
    }
   },
   "outputs": [],
   "source": [
    "Color the points by <code>'Component'</code>."
   ],
   "execution_count": null,
   "cell_type": "markdown"
  },
  {
   "metadata": {
    "pycharm": {
     "name": "#%% md\n"
    }
   },
   "outputs": [],
   "source": [
    "Color the points of the scatterplot by <code>'Branch'</code>."
   ],
   "execution_count": null,
   "cell_type": "markdown"
  },
  {
   "metadata": {
    "pycharm": {
     "name": "#%% md\n"
    }
   },
   "outputs": [],
   "source": [
    "Color the points of the scatterplot by <code>'Gender'</code>."
   ],
   "execution_count": null,
   "cell_type": "markdown"
  },
  {
   "metadata": {
    "pycharm": {
     "name": "#%% md\n"
    }
   },
   "outputs": [],
   "source": [
    "# Feature Selection I - Selecting for Feature Information"
   ],
   "execution_count": null,
   "cell_type": "markdown"
  },
  {
   "metadata": {
    "pycharm": {
     "name": "#%% md\n"
    }
   },
   "outputs": [],
   "source": [
    "## The curse of dimensionality"
   ],
   "execution_count": null,
   "cell_type": "markdown"
  },
  {
   "metadata": {
    "pycharm": {
     "name": "#%% md\n"
    }
   },
   "outputs": [],
   "source": [
    "### 1. The curse of dimensionality\n",
    "\n",
    "As a data scientist, you'd rather have a dataset with a lot of features compared to one with just a few. There is however one downside to high-dimensional datasets that you may not have considered thus far. Models tend to overfit badly on high-dimensional data. The solution is of course to reduce dimensionality, but which features should you drop? In this chapter we'll look into detecting low quality features and how to remove them. But first, we'll build some intuition on why models overfit."
   ],
   "execution_count": null,
   "cell_type": "markdown"
  },
  {
   "metadata": {
    "pycharm": {
     "name": "#%% md\n"
    }
   },
   "outputs": [],
   "source": [
    "### 2. From observation to pattern\n",
    "\n",
    "Let's illustrate this with an example. Say we want to predict the city in which a house is located based on some features of that house. But all we have to train the model is this tiny dataset with the house price in million Euros for two observations,"
   ],
   "execution_count": null,
   "cell_type": "markdown"
  },
  {
   "metadata": {
    "pycharm": {
     "name": "#%% md\n"
    }
   },
   "outputs": [],
   "source": [
    "### 3. From observation to pattern\n",
    "\n",
    "of which we can make a pretty dull distribution plot. Surely the model will overfit. It will just memorize the two training examples instead of deriving a general pattern for houses from each city. If we want the model to generalize we need to give it more observations of house prices for each city."
   ],
   "execution_count": null,
   "cell_type": "markdown"
  },
  {
   "metadata": {
    "pycharm": {
     "name": "#%% md\n"
    }
   },
   "outputs": [],
   "source": [
    "### 4. From observation to pattern\n",
    "\n",
    "When we expand to 1000 observations per city the price distributions become clear and a model should be able to train on this data without overfitting."
   ],
   "execution_count": null,
   "cell_type": "markdown"
  },
  {
   "metadata": {
    "pycharm": {
     "name": "#%% md\n"
    }
   },
   "outputs": [],
   "source": [
    "### 5. Building a city classifier - data split\n",
    "\n",
    "To test this assumption we'll build a model. But before we do so, we'll split the data into a 70% train and 30% test set using scikit learn's train_test_split() function."
   ],
   "execution_count": null,
   "cell_type": "markdown"
  },
  {
   "metadata": {
    "pycharm": {
     "name": "#%% md\n"
    }
   },
   "outputs": [],
   "source": [
    "### 6. Building a city classifier - model fit\n",
    "\n",
    "We'll then instantiate a classifier model, here we chose a support vector machine classifier, and fit it to the training data."
   ],
   "execution_count": null,
   "cell_type": "markdown"
  },
  {
   "metadata": {
    "pycharm": {
     "name": "#%% md\n"
    }
   },
   "outputs": [],
   "source": [
    "### 7. Building a city classifier - predict\n",
    "\n",
    "We can then assess the accuracy of the model on the test set, this is the 30% of the original data that the model didn't see during the training process. Our model is able to assign 82.6% of unseen houses to the correct city. From our visual exploration, this could be expected since there was quite some overlap in the single feature our model was trained on. If we want to know whether our model overfitted to the dataset we can have a look at the accuracy on the training set. If this accuracy is much higher than that on the test set we can conclude that the model didn't generalize well but simply memorized all training examples. Fortunately, this is not the case here."
   ],
   "execution_count": null,
   "cell_type": "markdown"
  },
  {
   "metadata": {
    "pycharm": {
     "name": "#%% md\n"
    }
   },
   "outputs": [],
   "source": [
    "### 8. Adding features\n",
    "\n",
    "If we want to improve the accuracy of our model, we'll have to add features to the dataset, so that in cases where the price of the house doesn't allow us to derive the location, something else will."
   ],
   "execution_count": null,
   "cell_type": "markdown"
  },
  {
   "metadata": {
    "pycharm": {
     "name": "#%% md\n"
    }
   },
   "outputs": [],
   "source": [
    "### 9. Adding features\n",
    "\n",
    "Features like the number of floors, bathrooms, or surface area in the house all could be helpful. However, with each feature that we add, we should also increase the number of observations of houses in our dataset. If we don't we'll end up with a lot of unique combinations of features that models can easily memorize and thus overfit to. In fact, to avoid overfitting the number of observations should increase exponentially with the number of features. Since this becomes really problematic for high dimensional datasets this phenomenon is known as the curse of dimensionality. The solution to this is of course to apply dimensionality reduction."
   ],
   "execution_count": null,
   "cell_type": "markdown"
  },
  {
   "metadata": {
    "pycharm": {
     "name": "#%% md\n"
    }
   },
   "outputs": [],
   "source": [
    "### 10. Let's practice!\n",
    "\n",
    "But first it's your turn to test a model for overfitting."
   ],
   "execution_count": null,
   "cell_type": "markdown"
  },
  {
   "metadata": {
    "pycharm": {
     "name": "#%% md\n"
    }
   },
   "outputs": [],
   "source": [
    "## Train - test split\n",
    "\n",
    "<p>In this chapter, you will keep working with the ANSUR dataset. Before you can build a model on your dataset, you should first decide on which feature you want to predict. In this case, you're trying to predict gender.  </p>\n",
    "<p>You need to extract the column holding this feature from the dataset and then split the data into a training and test set. The training set will be used to train the model and the test set will be used to check its performance on unseen data.</p>\n",
    "<p><code>ansur_df</code> has been pre-loaded for you.</p>"
   ],
   "execution_count": null,
   "cell_type": "markdown"
  },
  {
   "cell_type": "code",
   "execution_count": 80,
   "outputs": [
    {
     "data": {
      "text/plain": "(200, 94)"
     },
     "execution_count": 80,
     "metadata": {},
     "output_type": "execute_result"
    }
   ],
   "source": [
    "ansur_df = pd.read_csv(\"data/ansur_df_3.csv\")\n",
    "ansur_df.shape"
   ],
   "metadata": {
    "collapsed": false,
    "pycharm": {
     "name": "#%%\n"
    }
   }
  },
  {
   "metadata": {
    "pycharm": {
     "name": "#%% md\n"
    }
   },
   "outputs": [],
   "source": [
    "Import the <code>train_test_split</code> function from <code>sklearn.model_selection</code>."
   ],
   "execution_count": null,
   "cell_type": "markdown"
  },
  {
   "metadata": {
    "pycharm": {
     "name": "#%% md\n"
    }
   },
   "outputs": [],
   "source": [
    "Assign the <code>'Gender'</code> column to y."
   ],
   "execution_count": null,
   "cell_type": "markdown"
  },
  {
   "metadata": {
    "pycharm": {
     "name": "#%% md\n"
    }
   },
   "outputs": [],
   "source": [
    "Remove the <code>'Gender'</code> column from the DataFrame and assign the result to <code>X</code>."
   ],
   "execution_count": null,
   "cell_type": "markdown"
  },
  {
   "metadata": {
    "pycharm": {
     "name": "#%% md\n"
    }
   },
   "outputs": [],
   "source": [
    "Set the test size to 30% to perform a 70% train and 30% test data split."
   ],
   "execution_count": null,
   "cell_type": "markdown"
  },
  {
   "cell_type": "code",
   "execution_count": 81,
   "outputs": [
    {
     "name": "stdout",
     "output_type": "stream",
     "text": [
      "60 rows in test set vs. 140 in training set, 93 Features.\n"
     ]
    }
   ],
   "source": [
    "# Import train_test_split()\n",
    "from sklearn.model_selection import train_test_split\n",
    "\n",
    "# Select the Gender column as the feature to be predicted (y)\n",
    "y = ansur_df[\"Gender\"]\n",
    "\n",
    "# Remove the Gender column to create the training data\n",
    "X = ansur_df.drop(\"Gender\", axis=1)\n",
    "\n",
    "# Perform a 70% train and 30% test data split\n",
    "X_train, X_test, y_train, y_test = train_test_split(X, y, test_size=0.3)\n",
    "\n",
    "print(f\"{X_test.shape[0]} rows in test set vs. {X_train.shape[0]} in training set, {X_test.shape[1]} Features.\")"
   ],
   "metadata": {
    "collapsed": false,
    "pycharm": {
     "name": "#%%\n"
    }
   }
  },
  {
   "metadata": {
    "pycharm": {
     "name": "#%% md\n"
    }
   },
   "outputs": [],
   "source": [
    "## Fitting and testing the model\n",
    "\n",
    "<p>In the previous exercise, you split the dataset into <code>X_train</code>, <code>X_test</code>, <code>y_train</code>, and <code>y_test</code>. These datasets have been pre-loaded for you.\n",
    "You'll now create a support vector machine classifier model (<code>SVC()</code>) and fit that to the training data.\n",
    "You'll then calculate the accuracy on both the test and training set to detect overfitting.</p>"
   ],
   "execution_count": null,
   "cell_type": "markdown"
  },
  {
   "metadata": {
    "pycharm": {
     "name": "#%% md\n"
    }
   },
   "outputs": [],
   "source": [
    "Import <code>SVC</code> from <code>sklearn.svm</code> and <code>accuracy_score</code> from <code>sklearn.metrics</code>"
   ],
   "execution_count": null,
   "cell_type": "markdown"
  },
  {
   "metadata": {
    "pycharm": {
     "name": "#%% md\n"
    }
   },
   "outputs": [],
   "source": [
    "Create an instance of the Support Vector Classification class (<code>SVC()</code>)."
   ],
   "execution_count": null,
   "cell_type": "markdown"
  },
  {
   "metadata": {
    "pycharm": {
     "name": "#%% md\n"
    }
   },
   "outputs": [],
   "source": [
    "Fit the model to the training data."
   ],
   "execution_count": null,
   "cell_type": "markdown"
  },
  {
   "metadata": {
    "pycharm": {
     "name": "#%% md\n"
    }
   },
   "outputs": [],
   "source": [
    "Calculate accuracy scores on both train and test data."
   ],
   "execution_count": null,
   "cell_type": "markdown"
  },
  {
   "cell_type": "code",
   "execution_count": 82,
   "outputs": [
    {
     "name": "stdout",
     "output_type": "stream",
     "text": [
      "90.0% accuracy on test set vs. 93.6% on training set\n"
     ]
    }
   ],
   "source": [
    "# Import SVC from sklearn.svm and accuracy_score from sklearn.metrics\n",
    "from sklearn.svm import SVC\n",
    "from sklearn.metrics import accuracy_score\n",
    "\n",
    "# Create an instance of the Support Vector Classification class\n",
    "svc = SVC()\n",
    "\n",
    "# Fit the model to the training data\n",
    "svc.fit(X_train, y_train)\n",
    "\n",
    "# Calculate accuracy scores on both train and test data\n",
    "accuracy_train = accuracy_score(y_train, svc.predict(X_train))\n",
    "accuracy_test = accuracy_score(y_test, svc.predict(X_test))\n",
    "\n",
    "print(f\"{accuracy_test:.1%} accuracy on test set vs. {accuracy_train:.1%} on training set\")"
   ],
   "metadata": {
    "collapsed": false,
    "pycharm": {
     "name": "#%%\n"
    }
   }
  },
  {
   "metadata": {
    "pycharm": {
     "name": "#%% md\n"
    }
   },
   "outputs": [],
   "source": [
    "## Accuracy after dimensionality reduction\n",
    "\n",
    "<p>You'll reduce the overfit with the help of dimensionality reduction. In this case, you'll apply a rather drastic form of dimensionality reduction by only selecting a single column that has some good information to distinguish between genders. You'll repeat the train-test split, model fit and prediction steps to compare the accuracy on test versus training data.</p>\n",
    "<p>All relevant packages and <code>y</code> have been pre-loaded.</p>"
   ],
   "execution_count": null,
   "cell_type": "markdown"
  },
  {
   "metadata": {
    "pycharm": {
     "name": "#%% md\n"
    }
   },
   "outputs": [],
   "source": [
    "Select just the neck circumference (<code>'neckcircumferencebase'</code>) column from <code>ansur_df</code>."
   ],
   "execution_count": null,
   "cell_type": "markdown"
  },
  {
   "metadata": {
    "pycharm": {
     "name": "#%% md\n"
    }
   },
   "outputs": [],
   "source": [
    "Split the data, instantiate a classifier and fit the data. This has been done for you."
   ],
   "execution_count": null,
   "cell_type": "markdown"
  },
  {
   "metadata": {
    "pycharm": {
     "name": "#%% md\n"
    }
   },
   "outputs": [],
   "source": [
    "Once again calculate the accuracy scores on both training and test set."
   ],
   "execution_count": null,
   "cell_type": "markdown"
  },
  {
   "cell_type": "code",
   "execution_count": 83,
   "outputs": [
    {
     "name": "stdout",
     "output_type": "stream",
     "text": [
      "95.0% accuracy on test set vs. 95.0% on training set\n"
     ]
    }
   ],
   "source": [
    "# Assign just the 'neckcircumferencebase' column from ansur_df to X\n",
    "X = ansur_df[[\"neckcircumferencebase\"]]\n",
    "\n",
    "# Split the data, instantiate a classifier and fit the data\n",
    "X_train, X_test, y_train, y_test = train_test_split(X, y, test_size=0.3)\n",
    "svc = SVC()\n",
    "svc.fit(X_train, y_train)\n",
    "\n",
    "# Calculate accuracy scores on both train and test data\n",
    "accuracy_train = accuracy_score(y_train, svc.predict(X_train))\n",
    "accuracy_test = accuracy_score(y_test, svc.predict(X_test))\n",
    "\n",
    "print(f\"{accuracy_test:.1%} accuracy on test set vs. {accuracy_train:.1%} on training set\")"
   ],
   "metadata": {
    "collapsed": false,
    "pycharm": {
     "name": "#%%\n"
    }
   }
  },
  {
   "metadata": {
    "pycharm": {
     "name": "#%% md\n"
    }
   },
   "outputs": [],
   "source": [
    "## Features with missing values or little variance"
   ],
   "execution_count": null,
   "cell_type": "markdown"
  },
  {
   "metadata": {
    "pycharm": {
     "name": "#%% md\n"
    }
   },
   "outputs": [],
   "source": [
    "### 1. Features with missing values or little variance\n",
    "\n",
    "In this lesson, we'll automate the selection of features that have sufficient variance and not too many missing values."
   ],
   "execution_count": null,
   "cell_type": "markdown"
  },
  {
   "metadata": {
    "pycharm": {
     "name": "#%% md\n"
    }
   },
   "outputs": [],
   "source": [
    "### 2. Creating a feature selector\n",
    "\n",
    "Let's once again use the ANSUR dataset which has 6068 rows and 94 numeric columns as an example. Like we saw in chapter one, low variance features are so similar between different observations that they may contain little information you can use in an analysis. To remove them, we can use one of Scikit-learn's built-in feature selection tools called VarianceThreshold(). When we create the selector we can set the minimal variance threshold. Here, we've set it to a variance of one. After fitting the selector to our dataset, its .get_support() method will give us a True or False value on whether each feature's variance is above the threshold or not. We call this type of boolean array a mask,"
   ],
   "execution_count": null,
   "cell_type": "markdown"
  },
  {
   "cell_type": "code",
   "execution_count": 84,
   "outputs": [
    {
     "data": {
      "text/plain": "(1986, 99)"
     },
     "execution_count": 84,
     "metadata": {},
     "output_type": "execute_result"
    }
   ],
   "source": [
    "ansur_female.shape"
   ],
   "metadata": {
    "collapsed": false,
    "pycharm": {
     "name": "#%%\n"
    }
   }
  },
  {
   "cell_type": "code",
   "execution_count": 86,
   "outputs": [
    {
     "data": {
      "text/plain": "(4082, 99)"
     },
     "execution_count": 86,
     "metadata": {},
     "output_type": "execute_result"
    }
   ],
   "source": [
    "ansur_male = pd.read_csv(\"data/ANSUR_II_MALE.csv\")\n",
    "ansur_male.shape"
   ],
   "metadata": {
    "collapsed": false,
    "pycharm": {
     "name": "#%%\n"
    }
   }
  },
  {
   "cell_type": "code",
   "execution_count": 100,
   "outputs": [
    {
     "data": {
      "text/plain": "(6068, 99)"
     },
     "execution_count": 100,
     "metadata": {},
     "output_type": "execute_result"
    }
   ],
   "source": [
    "ansur_df = pd.concat([ansur_male,ansur_female],ignore_index=True)\n",
    "ansur_df.shape"
   ],
   "metadata": {
    "collapsed": false,
    "pycharm": {
     "name": "#%%\n"
    }
   }
  },
  {
   "cell_type": "code",
   "execution_count": 102,
   "outputs": [
    {
     "data": {
      "text/plain": "(6068, 94)"
     },
     "execution_count": 102,
     "metadata": {},
     "output_type": "execute_result"
    }
   ],
   "source": [
    "ansur_df = ansur_df.drop(non_numeric,axis=1)\n",
    "ansur_df.shape"
   ],
   "metadata": {
    "collapsed": false,
    "pycharm": {
     "name": "#%%\n"
    }
   }
  },
  {
   "cell_type": "code",
   "execution_count": 103,
   "outputs": [],
   "source": [
    "from sklearn.feature_selection import VarianceThreshold\n",
    "\n",
    "sel = VarianceThreshold(threshold=1)\n",
    "\n",
    "sel.fit(ansur_df)\n",
    "\n",
    "mask = sel.get_support()\n"
   ],
   "metadata": {
    "collapsed": false,
    "pycharm": {
     "name": "#%%\n"
    }
   }
  },
  {
   "metadata": {
    "pycharm": {
     "name": "#%% md\n"
    }
   },
   "outputs": [],
   "source": [
    "### 3. Applying a feature selector\n",
    "\n",
    "and we can use this mask to reduce the number of dimensions in our dataset. We use the DataFrame's .loc[] method and specify we want to select all rows using a colon for the first argument and sub-select the columns by using our mask as the second. In this case, our selector has reduced the number of features by just one."
   ],
   "execution_count": null,
   "cell_type": "markdown"
  },
  {
   "cell_type": "code",
   "execution_count": 105,
   "outputs": [
    {
     "name": "stdout",
     "output_type": "stream",
     "text": [
      "(6068, 94)\n",
      "(6068, 93)\n"
     ]
    }
   ],
   "source": [
    "print(ansur_df.shape)\n",
    "\n",
    "reduced_df = ansur_df.loc[:,mask]\n",
    "\n",
    "print(reduced_df.shape)"
   ],
   "metadata": {
    "collapsed": false,
    "pycharm": {
     "name": "#%%\n"
    }
   }
  },
  {
   "metadata": {
    "pycharm": {
     "name": "#%% md\n"
    }
   },
   "outputs": [],
   "source": [
    "### 4. Variance selector caveats\n",
    "\n",
    "One problem with variance thresholds is that variance values aren't always easy to interpret or compare between features. We can illustrate this by looking at a number of buttock features from our ANSUR dataset. In the boxplot you can see that these different measurements have different medians, the green horizontal lines in each blue rectangle, and variances, the height of the blue rectangles and the length of the vertical lines coming from them. For this dataset higher values tend to have higher variances and we should therefore normalize the variance before using it for feature selection."
   ],
   "execution_count": null,
   "cell_type": "markdown"
  },
  {
   "cell_type": "code",
   "execution_count": 109,
   "outputs": [
    {
     "data": {
      "text/plain": "(6068, 5)"
     },
     "execution_count": 109,
     "metadata": {},
     "output_type": "execute_result"
    }
   ],
   "source": [
    "bottock_df = ansur_df.loc[:,ansur_df.columns.str.startswith(\"buttock\")]\n",
    "bottock_df.shape"
   ],
   "metadata": {
    "collapsed": false,
    "pycharm": {
     "name": "#%%\n"
    }
   }
  },
  {
   "cell_type": "code",
   "execution_count": 110,
   "outputs": [
    {
     "data": {
      "text/plain": "<AxesSubplot:>"
     },
     "execution_count": 110,
     "metadata": {},
     "output_type": "execute_result"
    },
    {
     "data": {
      "text/plain": "<Figure size 432x288 with 1 Axes>",
      "image/png": "[encoded data removed]"
     },
     "metadata": {},
     "output_type": "display_data"
    }
   ],
   "source": [
    "bottock_df.boxplot()"
   ],
   "metadata": {
    "collapsed": false,
    "pycharm": {
     "name": "#%%\n"
    }
   }
  },
  {
   "metadata": {
    "pycharm": {
     "name": "#%% md\n"
    }
   },
   "outputs": [],
   "source": [
    "### 5. Normalizing the variance\n",
    "\n",
    "To do so we divide each column by its mean value before fitting the selector. After normalization, the variance in the dataset will be lower. We therefore also reduced the variance threshold to 0.005. Make sure to inspect your data visually while setting this value. When we apply the selector to our dataset the number of features is more than halved, to 45."
   ],
   "execution_count": null,
   "cell_type": "markdown"
  },
  {
   "cell_type": "code",
   "execution_count": 113,
   "outputs": [
    {
     "data": {
      "text/plain": "(6068, 45)"
     },
     "execution_count": 113,
     "metadata": {},
     "output_type": "execute_result"
    }
   ],
   "source": [
    "from sklearn.feature_selection import VarianceThreshold\n",
    "\n",
    "sel = VarianceThreshold(threshold=0.005)\n",
    "\n",
    "sel.fit(ansur_df/ansur_df.mean())\n",
    "\n",
    "mask = sel.get_support()\n",
    "reduced_df = ansur_df.loc[:,mask]\n",
    "reduced_df.shape"
   ],
   "metadata": {
    "collapsed": false,
    "pycharm": {
     "name": "#%%\n"
    }
   }
  },
  {
   "metadata": {
    "pycharm": {
     "name": "#%% md\n"
    }
   },
   "outputs": [],
   "source": [
    "### 6. Missing value selector\n",
    "\n",
    "Another reason you might want to drop a feature is that it contains a lot of missing values."
   ],
   "execution_count": null,
   "cell_type": "markdown"
  },
  {
   "metadata": {
    "pycharm": {
     "name": "#%% md\n"
    }
   },
   "outputs": [],
   "source": [
    "### 7. Missing value selector\n",
    "\n",
    "These missing values show up in our pandas DataFrame of the Pokemon dataset as NaN."
   ],
   "execution_count": null,
   "cell_type": "markdown"
  },
  {
   "metadata": {
    "pycharm": {
     "name": "#%% md\n"
    }
   },
   "outputs": [],
   "source": [
    "### 8. Identifying missing values\n",
    "\n",
    "and with the .isna() method we can identify them with a boolean value."
   ],
   "execution_count": null,
   "cell_type": "markdown"
  },
  {
   "metadata": {
    "pycharm": {
     "name": "#%% md\n"
    }
   },
   "outputs": [],
   "source": [
    "### 9. Counting missing values\n",
    "\n",
    "Boolean values can be summed since a True value resembles a one and False a zero, so if we chain the .sum() method to .isna() we get the total number of missing values in each column."
   ],
   "execution_count": null,
   "cell_type": "markdown"
  },
  {
   "metadata": {
    "pycharm": {
     "name": "#%% md\n"
    }
   },
   "outputs": [],
   "source": [
    "### 10. Counting missing values\n",
    "\n",
    "If we then divide this number by the total number of rows in the DataFrame we get a ratio of missing values between zero and one. In this example it turns out that almost half the Pokemon don't have a value for the Type 2 feature."
   ],
   "execution_count": null,
   "cell_type": "markdown"
  },
  {
   "metadata": {
    "pycharm": {
     "name": "#%% md\n"
    }
   },
   "outputs": [],
   "source": [
    "### 11. Applying a missing value threshold\n",
    "\n",
    "Based on this ratio we can create a mask for features that have fewer missing values than a certain threshold. In this case, we set it to 0.3."
   ],
   "execution_count": null,
   "cell_type": "markdown"
  },
  {
   "metadata": {
    "pycharm": {
     "name": "#%% md\n"
    }
   },
   "outputs": [],
   "source": [
    "### 12. Applying a missing value threshold\n",
    "\n",
    "Once again we can pass our mask to the .loc[] method to sub-select the columns. You can see that the Type 2 feature is gone now. When features have some missing values, but not too much, we could apply imputation to fill in the blanks. But we won't go into that in this course."
   ],
   "execution_count": null,
   "cell_type": "markdown"
  },
  {
   "metadata": {
    "pycharm": {
     "name": "#%% md\n"
    }
   },
   "outputs": [],
   "source": [
    "### 13. Let's practice\n",
    "\n",
    "Now it's your turn to remove features with little variance or many missing values."
   ],
   "execution_count": null,
   "cell_type": "markdown"
  },
  {
   "metadata": {
    "pycharm": {
     "name": "#%% md\n"
    }
   },
   "outputs": [],
   "source": [
    "## Finding a good variance threshold\n",
    "\n",
    "<p>You'll be working on a slightly modified subsample of the ANSUR dataset with just head measurements pre-loaded as <code>head_df</code>.</p>"
   ],
   "execution_count": null,
   "cell_type": "markdown"
  },
  {
   "metadata": {
    "pycharm": {
     "name": "#%% md\n"
    }
   },
   "outputs": [],
   "source": [
    "Create a boxplot on <code>head_df</code>."
   ],
   "execution_count": null,
   "cell_type": "markdown"
  },
  {
   "metadata": {
    "pycharm": {
     "name": "#%% md\n"
    }
   },
   "outputs": [],
   "source": [
    "## Features with low variance\n",
    "\n",
    "<p>In the previous exercise you established that 0.001 is a good threshold to filter out low variance features in <code>head_df</code> after normalization. Now use the <code>VarianceThreshold</code> feature selector to remove these features.</p>"
   ],
   "execution_count": null,
   "cell_type": "markdown"
  },
  {
   "metadata": {
    "pycharm": {
     "name": "#%% md\n"
    }
   },
   "outputs": [],
   "source": [
    "Create the variance threshold selector with a threshold of 0.001."
   ],
   "execution_count": null,
   "cell_type": "markdown"
  },
  {
   "metadata": {
    "pycharm": {
     "name": "#%% md\n"
    }
   },
   "outputs": [],
   "source": [
    "Normalize the <code>head_df</code> DataFrame by dividing it by its mean values and fit the selector."
   ],
   "execution_count": null,
   "cell_type": "markdown"
  },
  {
   "metadata": {
    "pycharm": {
     "name": "#%% md\n"
    }
   },
   "outputs": [],
   "source": [
    "Create a boolean mask from the selector using <code>.get_support()</code>."
   ],
   "execution_count": null,
   "cell_type": "markdown"
  },
  {
   "metadata": {
    "pycharm": {
     "name": "#%% md\n"
    }
   },
   "outputs": [],
   "source": [
    "Create a reduced DataFrame by passing the mask to the <code>.loc[]</code> method."
   ],
   "execution_count": null,
   "cell_type": "markdown"
  },
  {
   "metadata": {
    "pycharm": {
     "name": "#%% md\n"
    }
   },
   "outputs": [],
   "source": [
    "## Removing features with many missing values\n",
    "\n",
    "<p>You'll apply feature selection on the Boston Public Schools dataset which has been pre-loaded as <code>school_df</code>. Calculate the missing value ratio per feature and then create a mask to remove features with many missing values.</p>"
   ],
   "execution_count": null,
   "cell_type": "markdown"
  },
  {
   "metadata": {
    "pycharm": {
     "name": "#%% md\n"
    }
   },
   "outputs": [],
   "source": [
    "## Pairwise correlation"
   ],
   "execution_count": null,
   "cell_type": "markdown"
  },
  {
   "metadata": {
    "pycharm": {
     "name": "#%% md\n"
    }
   },
   "outputs": [],
   "source": [
    "### 1. Pairwise correlation\n",
    "\n",
    "In the last two lessons, we focused on techniques to remove features based on their individual properties, such as the variance they show or the proportion of missing values they have. A next step is to look at how features relate to one another to decide if they are worth keeping."
   ],
   "execution_count": null,
   "cell_type": "markdown"
  },
  {
   "cell_type": "code",
   "execution_count": 115,
   "outputs": [
    {
     "data": {
      "text/plain": "                                abdominalextensiondepthsitting  \\\nabdominalextensiondepthsitting                        1.000000   \nacromialheight                                        0.360623   \nacromionradialelength                                 0.321755   \nanklecircumference                                    0.524747   \naxillaheight                                          0.290821   \n...                                                        ...   \nwristcircumference                                    0.550544   \nwristheight                                           0.389220   \nweight_kg                                             0.825714   \nstature_m                                             0.316876   \nBMI                                                   0.866356   \n\n                                acromialheight  acromionradialelength  \\\nabdominalextensiondepthsitting        0.360623               0.321755   \nacromialheight                        1.000000               0.872475   \nacromionradialelength                 0.872475               1.000000   \nanklecircumference                    0.512417               0.424626   \naxillaheight                          0.987452               0.862074   \n...                                        ...                    ...   \nwristcircumference                    0.734622               0.646149   \nwristheight                           0.922687               0.684979   \nweight_kg                             0.684610               0.603964   \nstature_m                             0.980269               0.859657   \nBMI                                   0.227299               0.206267   \n\n                                anklecircumference  axillaheight  \\\nabdominalextensiondepthsitting            0.524747      0.290821   \nacromialheight                            0.512417      0.987452   \nacromionradialelength                     0.424626      0.862074   \nanklecircumference                        1.000000      0.469964   \naxillaheight                              0.469964      1.000000   \n...                                            ...           ...   \nwristcircumference                        0.702178      0.687252   \nwristheight                               0.514394      0.905063   \nweight_kg                                 0.745950      0.621812   \nstature_m                                 0.517026      0.975837   \nBMI                                       0.625492      0.147598   \n\n                                balloffootcircumference  balloffootlength  \\\nabdominalextensiondepthsitting                 0.459174          0.342050   \nacromialheight                                 0.693403          0.802922   \nacromionradialelength                          0.605970          0.734323   \nanklecircumference                             0.711720          0.569457   \naxillaheight                                   0.657168          0.790214   \n...                                                 ...               ...   \nwristcircumference                             0.826903          0.745770   \nwristheight                                    0.628475          0.689499   \nweight_kg                                      0.731982          0.653566   \nstature_m                                      0.709889          0.815345   \nBMI                                            0.478538          0.304449   \n\n                                biacromialbreadth  bicepscircumferenceflexed  \\\nabdominalextensiondepthsitting           0.421544                   0.691460   \nacromialheight                           0.735565                   0.529353   \nacromionradialelength                    0.672158                   0.461094   \nanklecircumference                       0.541868                   0.643211   \naxillaheight                             0.707868                   0.465773   \n...                                           ...                        ...   \nwristcircumference                       0.803476                   0.765347   \nwristheight                              0.624097                   0.505623   \nweight_kg                                0.707292                   0.875688   \nstature_m                                0.772618                   0.520296   \nBMI                                      0.404814                   0.799640   \n\n                                bicristalbreadth  ...  waistbreadth  \\\nabdominalextensiondepthsitting          0.506497  ...      0.859924   \nacromialheight                          0.409043  ...      0.446707   \nacromionradialelength                   0.351546  ...      0.384245   \nanklecircumference                      0.453308  ...      0.589723   \naxillaheight                            0.369885  ...      0.372178   \n...                                          ...  ...           ...   \nwristcircumference                      0.350715  ...      0.581908   \nwristheight                             0.465766  ...      0.484488   \nweight_kg                               0.582281  ...      0.859654   \nstature_m                               0.375509  ...      0.408182   \nBMI                                     0.511033  ...      0.849954   \n\n                                waistcircumference  waistdepth  \\\nabdominalextensiondepthsitting            0.939899    0.958932   \nacromialheight                            0.413142    0.371948   \nacromionradialelength                     0.364133    0.338024   \nanklecircumference                        0.569306    0.517324   \naxillaheight                              0.337927    0.301106   \n...                                            ...         ...   \nwristcircumference                        0.579536    0.557457   \nwristheight                               0.446004    0.396134   \nweight_kg                                 0.872724    0.832213   \nstature_m                                 0.368734    0.327334   \nBMI                                       0.892948    0.869000   \n\n                                waistfrontlengthsitting  waistheightomphalion  \\\nabdominalextensiondepthsitting                 0.579296              0.162457   \nacromialheight                                 0.604967              0.933248   \nacromionradialelength                          0.481149              0.851464   \nanklecircumference                             0.479788              0.420109   \naxillaheight                                   0.565922              0.948190   \n...                                                 ...                   ...   \nwristcircumference                             0.614334              0.637957   \nwristheight                                    0.615569              0.817358   \nweight_kg                                      0.677454              0.532079   \nstature_m                                      0.611199              0.936726   \nBMI                                            0.470057              0.057782   \n\n                                wristcircumference  wristheight  weight_kg  \\\nabdominalextensiondepthsitting            0.550544     0.389220   0.825714   \nacromialheight                            0.734622     0.922687   0.684610   \nacromionradialelength                     0.646149     0.684979   0.603964   \nanklecircumference                        0.702178     0.514394   0.745950   \naxillaheight                              0.687252     0.905063   0.621812   \n...                                            ...          ...        ...   \nwristcircumference                        1.000000     0.663991   0.801215   \nwristheight                               0.663991     1.000000   0.671151   \nweight_kg                                 0.801215     0.671151   1.000000   \nstature_m                                 0.749818     0.892968   0.660265   \nBMI                                       0.544034     0.267193   0.854700   \n\n                                stature_m       BMI  \nabdominalextensiondepthsitting   0.316876  0.866356  \nacromialheight                   0.980269  0.227299  \nacromionradialelength            0.859657  0.206267  \nanklecircumference               0.517026  0.625492  \naxillaheight                     0.975837  0.147598  \n...                                   ...       ...  \nwristcircumference               0.749818  0.544034  \nwristheight                      0.892968  0.267193  \nweight_kg                        0.660265  0.854700  \nstature_m                        1.000000  0.183094  \nBMI                              0.183094  1.000000  \n\n[94 rows x 94 columns]",
      "text/html": "<div>\n<style scoped>\n    .dataframe tbody tr th:only-of-type {\n        vertical-align: middle;\n    }\n\n    .dataframe tbody tr th {\n        vertical-align: top;\n    }\n\n    .dataframe thead th {\n        text-align: right;\n    }\n</style>\n<table border=\"1\" class=\"dataframe\">\n  <thead>\n    <tr style=\"text-align: right;\">\n      <th></th>\n      <th>abdominalextensiondepthsitting</th>\n      <th>acromialheight</th>\n      <th>acromionradialelength</th>\n      <th>anklecircumference</th>\n      <th>axillaheight</th>\n      <th>balloffootcircumference</th>\n      <th>balloffootlength</th>\n      <th>biacromialbreadth</th>\n      <th>bicepscircumferenceflexed</th>\n      <th>bicristalbreadth</th>\n      <th>...</th>\n      <th>waistbreadth</th>\n      <th>waistcircumference</th>\n      <th>waistdepth</th>\n      <th>waistfrontlengthsitting</th>\n      <th>waistheightomphalion</th>\n      <th>wristcircumference</th>\n      <th>wristheight</th>\n      <th>weight_kg</th>\n      <th>stature_m</th>\n      <th>BMI</th>\n    </tr>\n  </thead>\n  <tbody>\n    <tr>\n      <th>abdominalextensiondepthsitting</th>\n      <td>1.000000</td>\n      <td>0.360623</td>\n      <td>0.321755</td>\n      <td>0.524747</td>\n      <td>0.290821</td>\n      <td>0.459174</td>\n      <td>0.342050</td>\n      <td>0.421544</td>\n      <td>0.691460</td>\n      <td>0.506497</td>\n      <td>...</td>\n      <td>0.859924</td>\n      <td>0.939899</td>\n      <td>0.958932</td>\n      <td>0.579296</td>\n      <td>0.162457</td>\n      <td>0.550544</td>\n      <td>0.389220</td>\n      <td>0.825714</td>\n      <td>0.316876</td>\n      <td>0.866356</td>\n    </tr>\n    <tr>\n      <th>acromialheight</th>\n      <td>0.360623</td>\n      <td>1.000000</td>\n      <td>0.872475</td>\n      <td>0.512417</td>\n      <td>0.987452</td>\n      <td>0.693403</td>\n      <td>0.802922</td>\n      <td>0.735565</td>\n      <td>0.529353</td>\n      <td>0.409043</td>\n      <td>...</td>\n      <td>0.446707</td>\n      <td>0.413142</td>\n      <td>0.371948</td>\n      <td>0.604967</td>\n      <td>0.933248</td>\n      <td>0.734622</td>\n      <td>0.922687</td>\n      <td>0.684610</td>\n      <td>0.980269</td>\n      <td>0.227299</td>\n    </tr>\n    <tr>\n      <th>acromionradialelength</th>\n      <td>0.321755</td>\n      <td>0.872475</td>\n      <td>1.000000</td>\n      <td>0.424626</td>\n      <td>0.862074</td>\n      <td>0.605970</td>\n      <td>0.734323</td>\n      <td>0.672158</td>\n      <td>0.461094</td>\n      <td>0.351546</td>\n      <td>...</td>\n      <td>0.384245</td>\n      <td>0.364133</td>\n      <td>0.338024</td>\n      <td>0.481149</td>\n      <td>0.851464</td>\n      <td>0.646149</td>\n      <td>0.684979</td>\n      <td>0.603964</td>\n      <td>0.859657</td>\n      <td>0.206267</td>\n    </tr>\n    <tr>\n      <th>anklecircumference</th>\n      <td>0.524747</td>\n      <td>0.512417</td>\n      <td>0.424626</td>\n      <td>1.000000</td>\n      <td>0.469964</td>\n      <td>0.711720</td>\n      <td>0.569457</td>\n      <td>0.541868</td>\n      <td>0.643211</td>\n      <td>0.453308</td>\n      <td>...</td>\n      <td>0.589723</td>\n      <td>0.569306</td>\n      <td>0.517324</td>\n      <td>0.479788</td>\n      <td>0.420109</td>\n      <td>0.702178</td>\n      <td>0.514394</td>\n      <td>0.745950</td>\n      <td>0.517026</td>\n      <td>0.625492</td>\n    </tr>\n    <tr>\n      <th>axillaheight</th>\n      <td>0.290821</td>\n      <td>0.987452</td>\n      <td>0.862074</td>\n      <td>0.469964</td>\n      <td>1.000000</td>\n      <td>0.657168</td>\n      <td>0.790214</td>\n      <td>0.707868</td>\n      <td>0.465773</td>\n      <td>0.369885</td>\n      <td>...</td>\n      <td>0.372178</td>\n      <td>0.337927</td>\n      <td>0.301106</td>\n      <td>0.565922</td>\n      <td>0.948190</td>\n      <td>0.687252</td>\n      <td>0.905063</td>\n      <td>0.621812</td>\n      <td>0.975837</td>\n      <td>0.147598</td>\n    </tr>\n    <tr>\n      <th>...</th>\n      <td>...</td>\n      <td>...</td>\n      <td>...</td>\n      <td>...</td>\n      <td>...</td>\n      <td>...</td>\n      <td>...</td>\n      <td>...</td>\n      <td>...</td>\n      <td>...</td>\n      <td>...</td>\n      <td>...</td>\n      <td>...</td>\n      <td>...</td>\n      <td>...</td>\n      <td>...</td>\n      <td>...</td>\n      <td>...</td>\n      <td>...</td>\n      <td>...</td>\n      <td>...</td>\n    </tr>\n    <tr>\n      <th>wristcircumference</th>\n      <td>0.550544</td>\n      <td>0.734622</td>\n      <td>0.646149</td>\n      <td>0.702178</td>\n      <td>0.687252</td>\n      <td>0.826903</td>\n      <td>0.745770</td>\n      <td>0.803476</td>\n      <td>0.765347</td>\n      <td>0.350715</td>\n      <td>...</td>\n      <td>0.581908</td>\n      <td>0.579536</td>\n      <td>0.557457</td>\n      <td>0.614334</td>\n      <td>0.637957</td>\n      <td>1.000000</td>\n      <td>0.663991</td>\n      <td>0.801215</td>\n      <td>0.749818</td>\n      <td>0.544034</td>\n    </tr>\n    <tr>\n      <th>wristheight</th>\n      <td>0.389220</td>\n      <td>0.922687</td>\n      <td>0.684979</td>\n      <td>0.514394</td>\n      <td>0.905063</td>\n      <td>0.628475</td>\n      <td>0.689499</td>\n      <td>0.624097</td>\n      <td>0.505623</td>\n      <td>0.465766</td>\n      <td>...</td>\n      <td>0.484488</td>\n      <td>0.446004</td>\n      <td>0.396134</td>\n      <td>0.615569</td>\n      <td>0.817358</td>\n      <td>0.663991</td>\n      <td>1.000000</td>\n      <td>0.671151</td>\n      <td>0.892968</td>\n      <td>0.267193</td>\n    </tr>\n    <tr>\n      <th>weight_kg</th>\n      <td>0.825714</td>\n      <td>0.684610</td>\n      <td>0.603964</td>\n      <td>0.745950</td>\n      <td>0.621812</td>\n      <td>0.731982</td>\n      <td>0.653566</td>\n      <td>0.707292</td>\n      <td>0.875688</td>\n      <td>0.582281</td>\n      <td>...</td>\n      <td>0.859654</td>\n      <td>0.872724</td>\n      <td>0.832213</td>\n      <td>0.677454</td>\n      <td>0.532079</td>\n      <td>0.801215</td>\n      <td>0.671151</td>\n      <td>1.000000</td>\n      <td>0.660265</td>\n      <td>0.854700</td>\n    </tr>\n    <tr>\n      <th>stature_m</th>\n      <td>0.316876</td>\n      <td>0.980269</td>\n      <td>0.859657</td>\n      <td>0.517026</td>\n      <td>0.975837</td>\n      <td>0.709889</td>\n      <td>0.815345</td>\n      <td>0.772618</td>\n      <td>0.520296</td>\n      <td>0.375509</td>\n      <td>...</td>\n      <td>0.408182</td>\n      <td>0.368734</td>\n      <td>0.327334</td>\n      <td>0.611199</td>\n      <td>0.936726</td>\n      <td>0.749818</td>\n      <td>0.892968</td>\n      <td>0.660265</td>\n      <td>1.000000</td>\n      <td>0.183094</td>\n    </tr>\n    <tr>\n      <th>BMI</th>\n      <td>0.866356</td>\n      <td>0.227299</td>\n      <td>0.206267</td>\n      <td>0.625492</td>\n      <td>0.147598</td>\n      <td>0.478538</td>\n      <td>0.304449</td>\n      <td>0.404814</td>\n      <td>0.799640</td>\n      <td>0.511033</td>\n      <td>...</td>\n      <td>0.849954</td>\n      <td>0.892948</td>\n      <td>0.869000</td>\n      <td>0.470057</td>\n      <td>0.057782</td>\n      <td>0.544034</td>\n      <td>0.267193</td>\n      <td>0.854700</td>\n      <td>0.183094</td>\n      <td>1.000000</td>\n    </tr>\n  </tbody>\n</table>\n<p>94 rows × 94 columns</p>\n</div>"
     },
     "execution_count": 115,
     "metadata": {},
     "output_type": "execute_result"
    }
   ],
   "source": [
    "ansur_df.corr()"
   ],
   "metadata": {
    "collapsed": false,
    "pycharm": {
     "name": "#%%\n"
    }
   }
  },
  {
   "metadata": {
    "pycharm": {
     "name": "#%% md\n"
    }
   },
   "outputs": [],
   "source": [
    "### 2. Pairwise correlation\n",
    "\n",
    "Remember the pairplot we made in the first chapter?"
   ],
   "execution_count": null,
   "cell_type": "markdown"
  },
  {
   "metadata": {
    "pycharm": {
     "name": "#%% md\n"
    }
   },
   "outputs": [],
   "source": [
    "### 3. Pairwise correlation\n",
    "\n",
    "It allowed us to visually identify strongly correlated features. However, if we want to quantify the correlation between features, this method would fall short."
   ],
   "execution_count": null,
   "cell_type": "markdown"
  },
  {
   "metadata": {
    "pycharm": {
     "name": "#%% md\n"
    }
   },
   "outputs": [],
   "source": [
    "### 4. Correlation coefficient\n",
    "\n",
    "To solve this, we need to have a measure for the strength of the correlation, this is where the correlation coefficient r comes in. The value of r always lies between minus one and plus one. Minus one describes a perfectly negative correlation, zero describes no correlation at all and plus one stands for a perfect positive correlation."
   ],
   "execution_count": null,
   "cell_type": "markdown"
  },
  {
   "metadata": {
    "pycharm": {
     "name": "#%% md\n"
    }
   },
   "outputs": [],
   "source": [
    "### 5. Correlation coefficient\n",
    "\n",
    "When the relation between two features shows more variance, as is usually the case in real-world data, the correlation coefficients will be a bit closer to zero."
   ],
   "execution_count": null,
   "cell_type": "markdown"
  },
  {
   "metadata": {
    "pycharm": {
     "name": "#%% md\n"
    }
   },
   "outputs": [],
   "source": [
    "### 6. Correlation matrix\n",
    "\n",
    "We can calculate correlation coefficients on pandas DataFrames with the .corr() method. If we call it on the dataset the pairplot was built on, we'd get a so-called correlation matrix. It shows the correlation coefficient for each pairwise combination of features in the dataset."
   ],
   "execution_count": null,
   "cell_type": "markdown"
  },
  {
   "metadata": {
    "pycharm": {
     "name": "#%% md\n"
    }
   },
   "outputs": [],
   "source": [
    "### 7. Correlation matrix\n",
    "\n",
    "In fact, it even shows every pairwise correlation coefficient twice, since the correlation of A to B equals that of B to A."
   ],
   "execution_count": null,
   "cell_type": "markdown"
  },
  {
   "metadata": {
    "pycharm": {
     "name": "#%% md\n"
    }
   },
   "outputs": [],
   "source": [
    "### 8. Correlation matrix\n",
    "\n",
    "Perfectly correlated features, such as weight in kilograms and weight in pounds marked in red here, get a correlation coefficient of one. Meaning that if you know one feature, you can perfectly predict the other for this dataset."
   ],
   "execution_count": null,
   "cell_type": "markdown"
  },
  {
   "metadata": {
    "pycharm": {
     "name": "#%% md\n"
    }
   },
   "outputs": [],
   "source": [
    "### 9. Correlation matrix\n",
    "\n",
    "By definition, the diagonal in our correlation matrix shows a series of ones, telling us that, not surprisingly, each feature is perfectly correlated to itself."
   ],
   "execution_count": null,
   "cell_type": "markdown"
  },
  {
   "metadata": {
    "pycharm": {
     "name": "#%% md\n"
    }
   },
   "outputs": [],
   "source": [
    "### 10. Visualizing the correlation matrix\n",
    "\n",
    "We can visualize this simple correlation matrix using Seaborn's heatmap() function. We've passed a custom color palette and some styling arguments to this function to get a nice looking plot. We can improve this plot further by removing duplicate and unnecessary information like the correlation coefficients of one on the diagonal."
   ],
   "execution_count": null,
   "cell_type": "markdown"
  },
  {
   "cell_type": "code",
   "execution_count": 119,
   "outputs": [],
   "source": [
    "body_df = ansur_df[[\"elbowrestheight\",\"wristcircumference\",\"anklecircumference\",\"buttockheight\",\"crotchheight\"]]"
   ],
   "metadata": {
    "collapsed": false,
    "pycharm": {
     "name": "#%%\n"
    }
   }
  },
  {
   "cell_type": "code",
   "execution_count": 122,
   "outputs": [
    {
     "data": {
      "text/plain": "<AxesSubplot:>"
     },
     "execution_count": 122,
     "metadata": {},
     "output_type": "execute_result"
    },
    {
     "data": {
      "text/plain": "<Figure size 432x288 with 2 Axes>",
      "image/png": "[encoded data removed]"
     },
     "metadata": {},
     "output_type": "display_data"
    }
   ],
   "source": [
    "cmap = sns.diverging_palette(h_neg=10,h_pos=240,as_cmap=True)\n",
    "\n",
    "sns.heatmap(body_df.corr(),center=0,cmap=cmap,linewidths=1,\n",
    "            annot=True,fmt=\".2f\")"
   ],
   "metadata": {
    "collapsed": false,
    "pycharm": {
     "name": "#%%\n"
    }
   }
  },
  {
   "metadata": {
    "pycharm": {
     "name": "#%% md\n"
    }
   },
   "outputs": [],
   "source": [
    "### 11. Visualizing the correlation matrix\n",
    "\n",
    "To do so we'll create a boolean mask. We use NumPy's ones_like() function to create a matrix filled with True values with the same dimensions as our correlation matrix and then pass this to NumPy's triu(), for triangle upper, function to set all non-upper triangle values to False."
   ],
   "execution_count": null,
   "cell_type": "markdown"
  },
  {
   "cell_type": "code",
   "execution_count": 123,
   "outputs": [
    {
     "data": {
      "text/plain": "<AxesSubplot:>"
     },
     "execution_count": 123,
     "metadata": {},
     "output_type": "execute_result"
    },
    {
     "data": {
      "text/plain": "<Figure size 432x288 with 2 Axes>",
      "image/png": "[encoded data removed]"
     },
     "metadata": {},
     "output_type": "display_data"
    }
   ],
   "source": [
    "mask = np.triu(np.ones_like(body_df.corr(),dtype=bool))\n",
    "\n",
    "sns.heatmap(body_df.corr(),center=0,cmap=cmap,linewidths=1,\n",
    "            annot=True,fmt=\".2f\",mask=mask)"
   ],
   "metadata": {
    "collapsed": false,
    "pycharm": {
     "name": "#%%\n"
    }
   }
  },
  {
   "metadata": {
    "pycharm": {
     "name": "#%% md\n"
    }
   },
   "outputs": [],
   "source": [
    "### 12. Visualizing the correlation matrix\n",
    "\n",
    "When we pass this mask to the heatmap() function it will ignore the upper triangle, allowing us to focus on the interesting part of the plot."
   ],
   "execution_count": null,
   "cell_type": "markdown"
  },
  {
   "metadata": {
    "pycharm": {
     "name": "#%% md\n"
    }
   },
   "outputs": [],
   "source": [
    "### 13. Visualising the correlation matrix\n",
    "\n",
    "When we apply this method to a slightly larger subset of the ANSUR data we can instantly spot that chest height is not correlated to the hip breadth while sitting, and that the suprasternale height is very strongly correlated to the chest height."
   ],
   "execution_count": null,
   "cell_type": "markdown"
  },
  {
   "metadata": {
    "pycharm": {
     "name": "#%% md\n"
    }
   },
   "outputs": [],
   "source": [
    "### 14. Let's practice!\n",
    "\n",
    "Now it's your turn to use the correlation matrix to gain insight into a dataset."
   ],
   "execution_count": null,
   "cell_type": "markdown"
  },
  {
   "metadata": {
    "pycharm": {
     "name": "#%% md\n"
    }
   },
   "outputs": [],
   "source": [
    "## Visualizing the correlation matrix\n",
    "\n",
    "<p>Reading the correlation matrix of <code>ansur_df</code> in its raw, numeric format doesn't allow us to get a quick overview.\n",
    "Let's improve this by removing redundant values and visualizing the matrix using seaborn.</p>\n",
    "<p>Seaborn has been pre-loaded as <code>sns</code>, matplotlib.pyplot as <code>plt</code>, NumPy as <code>np</code> and pandas as <code>pd</code>.</p>"
   ],
   "execution_count": null,
   "cell_type": "markdown"
  },
  {
   "metadata": {
    "pycharm": {
     "name": "#%% md\n"
    }
   },
   "outputs": [],
   "source": [
    "Create the correlation matrix."
   ],
   "execution_count": null,
   "cell_type": "markdown"
  },
  {
   "metadata": {
    "pycharm": {
     "name": "#%% md\n"
    }
   },
   "outputs": [],
   "source": [
    "Visualize it using Seaborn's heatmap function."
   ],
   "execution_count": null,
   "cell_type": "markdown"
  },
  {
   "metadata": {
    "pycharm": {
     "name": "#%% md\n"
    }
   },
   "outputs": [],
   "source": [
    "## Removing highly correlated features"
   ],
   "execution_count": null,
   "cell_type": "markdown"
  },
  {
   "metadata": {
    "pycharm": {
     "name": "#%% md\n"
    }
   },
   "outputs": [],
   "source": [
    "### 1. Removing highly correlated features\n",
    "\n",
    "Features that are perfectly correlated to each other, with a correlation coefficient of one or minus one, bring no new information to a dataset but do add to the complexity. So naturally, we would want to drop one of the two features that hold the same information. In addition to this we might want to drop features that have correlation coefficients close to one or minus one if they are measurements of the same or similar things."
   ],
   "execution_count": null,
   "cell_type": "markdown"
  },
  {
   "cell_type": "code",
   "execution_count": 125,
   "outputs": [
    {
     "data": {
      "text/plain": "(6068, 3)"
     },
     "execution_count": 125,
     "metadata": {},
     "output_type": "execute_result"
    }
   ],
   "source": [
    "chest_df = ansur_df[[\"chestheight\",\"cervicaleheight\",\"suprasternaleheight\"]]\n",
    "chest_df.shape"
   ],
   "metadata": {
    "collapsed": false,
    "pycharm": {
     "name": "#%%\n"
    }
   }
  },
  {
   "cell_type": "code",
   "execution_count": 126,
   "outputs": [
    {
     "data": {
      "text/plain": "<seaborn.axisgrid.PairGrid at 0x17009ba31f0>"
     },
     "execution_count": 126,
     "metadata": {},
     "output_type": "execute_result"
    },
    {
     "data": {
      "text/plain": "<Figure size 540x540 with 12 Axes>",
      "image/png": "[encoded data removed]"
     },
     "metadata": {},
     "output_type": "display_data"
    }
   ],
   "source": [
    "sns.pairplot(data=chest_df)"
   ],
   "metadata": {
    "collapsed": false,
    "pycharm": {
     "name": "#%%\n"
    }
   }
  },
  {
   "metadata": {
    "pycharm": {
     "name": "#%% md\n"
    }
   },
   "outputs": [],
   "source": [
    "### 2. Highly correlated data\n",
    "\n",
    "For example, in the ANSUR dataset there are measurements for suprasternale, cervicale and chest height. The suprasternale and cervicale are two bones in the chest region so these three measurements always have very similar values."
   ],
   "execution_count": null,
   "cell_type": "markdown"
  },
  {
   "cell_type": "code",
   "execution_count": 129,
   "outputs": [
    {
     "data": {
      "text/plain": "<Figure size 432x288 with 2 Axes>",
      "image/png": "[encoded data removed]"
     },
     "metadata": {},
     "output_type": "display_data"
    }
   ],
   "source": [
    "corr = chest_df.corr()\n",
    "\n",
    "mask = np.triu(np.ones_like(corr,dtype=bool))\n",
    "cmap = sns.diverging_palette(h_neg=10,h_pos=240,as_cmap=True)\n",
    "sns.heatmap(corr,mask=mask,center=0,cmap=cmap,annot=True,fmt=\".2f\",linewidths=1)\n",
    "plt.show()"
   ],
   "metadata": {
    "collapsed": false,
    "pycharm": {
     "name": "#%%\n"
    }
   }
  },
  {
   "metadata": {
    "pycharm": {
     "name": "#%% md\n"
    }
   },
   "outputs": [],
   "source": [
    "### 3. Highly correlated features\n",
    "\n",
    "We get correlation coefficients as high as 98%. So for these features it too makes sense to keep only one. Not just for simplicity's sake but also to avoid models to overfit on the small, probably meaningless, differences between these values. If you are confident that dropping highly correlated features will not cause you to lose too much information, you can filter them out using a threshold value."
   ],
   "execution_count": null,
   "cell_type": "markdown"
  },
  {
   "metadata": {
    "pycharm": {
     "name": "#%% md\n"
    }
   },
   "outputs": [],
   "source": [
    "### 4. Removing highly correlated features\n",
    "\n",
    "First create a correlation matrix and take the absolute values of that, to also filter out strong negative correlations. Then create a mask for the upper triangle of the dataset just like we did when we were visualizing the correlation matrix. When we pass this mask to the pandas DataFrame .mask() method it will replace all positions in the DataFrame where the mask has a True value with NA. So that our correlation matrix DataFrame looks like this."
   ],
   "execution_count": null,
   "cell_type": "markdown"
  },
  {
   "cell_type": "code",
   "execution_count": 130,
   "outputs": [
    {
     "data": {
      "text/plain": "                     chestheight  cervicaleheight  suprasternaleheight\nchestheight                  NaN              NaN                  NaN\ncervicaleheight         0.968008              NaN                  NaN\nsuprasternaleheight     0.968019         0.989308                  NaN",
      "text/html": "<div>\n<style scoped>\n    .dataframe tbody tr th:only-of-type {\n        vertical-align: middle;\n    }\n\n    .dataframe tbody tr th {\n        vertical-align: top;\n    }\n\n    .dataframe thead th {\n        text-align: right;\n    }\n</style>\n<table border=\"1\" class=\"dataframe\">\n  <thead>\n    <tr style=\"text-align: right;\">\n      <th></th>\n      <th>chestheight</th>\n      <th>cervicaleheight</th>\n      <th>suprasternaleheight</th>\n    </tr>\n  </thead>\n  <tbody>\n    <tr>\n      <th>chestheight</th>\n      <td>NaN</td>\n      <td>NaN</td>\n      <td>NaN</td>\n    </tr>\n    <tr>\n      <th>cervicaleheight</th>\n      <td>0.968008</td>\n      <td>NaN</td>\n      <td>NaN</td>\n    </tr>\n    <tr>\n      <th>suprasternaleheight</th>\n      <td>0.968019</td>\n      <td>0.989308</td>\n      <td>NaN</td>\n    </tr>\n  </tbody>\n</table>\n</div>"
     },
     "execution_count": 130,
     "metadata": {},
     "output_type": "execute_result"
    }
   ],
   "source": [
    "corr_df = corr.abs()\n",
    "\n",
    "tri_df = corr_df.mask(mask)\n",
    "tri_df"
   ],
   "metadata": {
    "collapsed": false,
    "pycharm": {
     "name": "#%%\n"
    }
   }
  },
  {
   "metadata": {
    "pycharm": {
     "name": "#%% md\n"
    }
   },
   "outputs": [],
   "source": [
    "### 5. Removing highly correlated features\n",
    "\n",
    "We can then use a list comprehension to find all columns that have a correlation to any feature stronger than the threshold value. The reason we used the mask to set half of the matrix to NA values is that we want to avoid removing both features when they have a strong correlation. Finally we drop the selected features from the DataFrame with the .drop() method."
   ],
   "execution_count": null,
   "cell_type": "markdown"
  },
  {
   "cell_type": "code",
   "execution_count": 131,
   "outputs": [
    {
     "data": {
      "text/plain": "['chestheight', 'cervicaleheight']"
     },
     "execution_count": 131,
     "metadata": {},
     "output_type": "execute_result"
    }
   ],
   "source": [
    "to_drop = [c for c in tri_df.columns if any(tri_df[c]>0.95)]\n",
    "to_drop"
   ],
   "metadata": {
    "collapsed": false,
    "pycharm": {
     "name": "#%%\n"
    }
   }
  },
  {
   "cell_type": "code",
   "execution_count": null,
   "outputs": [],
   "source": [],
   "metadata": {
    "collapsed": false,
    "pycharm": {
     "name": "#%%\n"
    }
   }
  },
  {
   "metadata": {
    "pycharm": {
     "name": "#%% md\n"
    }
   },
   "outputs": [],
   "source": [
    "### 6. Feature extraction as an alternative\n",
    "\n",
    "The method we just discussed is a bit of a brute force approach that should only be applied if you have a good understanding of the dataset. If you're unsure whether removing highly correlated features will remove important information from the data but still need to reduce dimensionality, you could consider feature extraction techniques. These remove correlated features for you, and we'll be looking into them in the final chapter."
   ],
   "execution_count": null,
   "cell_type": "markdown"
  },
  {
   "metadata": {
    "pycharm": {
     "name": "#%% md\n"
    }
   },
   "outputs": [],
   "source": [
    "### 7. Correlation caveats - Anscombe's quartet\n",
    "\n",
    "What's important to know about correlation coefficients is that they can produce weird results when the relation between two features is non-linear or when outliers are involved. For example, the four datasets displayed here, known as Anscombe's quartet, all have the same correlation coefficient of 0.82. To avoid unpleasant surprises like this, make sure you visually check your data early on."
   ],
   "execution_count": null,
   "cell_type": "markdown"
  },
  {
   "metadata": {
    "pycharm": {
     "name": "#%% md\n"
    }
   },
   "outputs": [],
   "source": [
    "### 8. Correlation caveats - causation\n",
    "\n",
    "A final thing to know about strong correlations is that they do not imply causation. In this example dataset, the number of firetrucks sent to a fire is correlated to the number of people wounded by that fire. Concluding that the higher number of wounded people is caused by sending more firetrucks would be wrong and even dangerous if used as a reason to send fewer trucks in the future."
   ],
   "execution_count": null,
   "cell_type": "markdown"
  },
  {
   "metadata": {
    "pycharm": {
     "name": "#%% md\n"
    }
   },
   "outputs": [],
   "source": [
    "### 9. Let's practice!\n",
    "\n",
    "For the moment, it's your turn to remove highly correlated features from a dataset."
   ],
   "execution_count": null,
   "cell_type": "markdown"
  },
  {
   "metadata": {
    "pycharm": {
     "name": "#%% md\n"
    }
   },
   "outputs": [],
   "source": [
    "## Filtering out highly correlated features\n",
    "\n",
    "<p>You're going to automate the removal of highly correlated features in the numeric ANSUR dataset. You'll calculate the correlation matrix and filter out columns that have a correlation coefficient of more than 0.95 or less than -0.95. </p>\n",
    "<p>Since each correlation coefficient occurs twice in the matrix (correlation of A to B equals correlation of B to A) you'll want to ignore half of the correlation matrix so that only one of the two correlated features is removed. Use a mask trick for this purpose.</p>"
   ],
   "execution_count": null,
   "cell_type": "markdown"
  },
  {
   "metadata": {
    "pycharm": {
     "name": "#%% md\n"
    }
   },
   "outputs": [],
   "source": [
    "Calculate the correlation matrix of <code>ansur_df</code> and take the absolute value of this matrix."
   ],
   "execution_count": null,
   "cell_type": "markdown"
  },
  {
   "metadata": {
    "pycharm": {
     "name": "#%% md\n"
    }
   },
   "outputs": [],
   "source": [
    "Create a boolean mask with <code>True</code> values in the upper right triangle and apply it to the correlation matrix."
   ],
   "execution_count": null,
   "cell_type": "markdown"
  },
  {
   "metadata": {
    "pycharm": {
     "name": "#%% md\n"
    }
   },
   "outputs": [],
   "source": [
    "Set the correlation coefficient threshold to <code>0.95</code>."
   ],
   "execution_count": null,
   "cell_type": "markdown"
  },
  {
   "metadata": {
    "pycharm": {
     "name": "#%% md\n"
    }
   },
   "outputs": [],
   "source": [
    "Drop all the columns listed in <code>to_drop</code> from the DataFrame."
   ],
   "execution_count": null,
   "cell_type": "markdown"
  },
  {
   "cell_type": "code",
   "execution_count": 135,
   "outputs": [
    {
     "data": {
      "text/plain": "(4082, 99)"
     },
     "execution_count": 135,
     "metadata": {},
     "output_type": "execute_result"
    }
   ],
   "source": [
    "ansur_male.shape"
   ],
   "metadata": {
    "collapsed": false,
    "pycharm": {
     "name": "#%%\n"
    }
   }
  },
  {
   "cell_type": "code",
   "execution_count": 134,
   "outputs": [
    {
     "name": "stdout",
     "output_type": "stream",
     "text": [
      "The reduced_df DataFrame has 88 columns.\n"
     ]
    }
   ],
   "source": [
    "# Calculate the correlation matrix and take the absolute value\n",
    "corr_df = ansur_male.corr().abs()\n",
    "\n",
    "# Create a True/False mask and apply it\n",
    "mask = np.triu(np.ones_like(corr_df, dtype=bool))\n",
    "tri_df = corr_df.mask(mask)\n",
    "\n",
    "# List column names of highly correlated features (r > 0.95)\n",
    "to_drop = [c for c in tri_df.columns if any(tri_df[c] >  0.95)]\n",
    "\n",
    "# Drop the features in the to_drop list\n",
    "reduced_df = ansur_male.drop(to_drop, axis=1)\n",
    "\n",
    "print(f\"The reduced_df DataFrame has {reduced_df.shape[1]} columns.\")"
   ],
   "metadata": {
    "collapsed": false,
    "pycharm": {
     "name": "#%%\n"
    }
   }
  },
  {
   "metadata": {
    "pycharm": {
     "name": "#%% md\n"
    }
   },
   "outputs": [],
   "source": [
    "## Nuclear energy and pool drownings\n",
    "\n",
    "<p>The dataset that has been pre-loaded for you as <code>weird_df</code> contains actual data provided by the US Centers for Disease Control &amp; Prevention and Department of Energy.</p>\n",
    "<p>Let's see if we can find a pattern.</p>\n",
    "<p>Seaborn has been pre-loaded as <code>sns</code> and matplotlib.pyplot as <code>plt</code>.</p>"
   ],
   "execution_count": null,
   "cell_type": "markdown"
  },
  {
   "metadata": {
    "pycharm": {
     "name": "#%% md\n"
    }
   },
   "outputs": [],
   "source": [
    "Print the first five lines of <code>weird_df</code>."
   ],
   "execution_count": null,
   "cell_type": "markdown"
  },
  {
   "metadata": {
    "pycharm": {
     "name": "#%% md\n"
    }
   },
   "outputs": [],
   "source": [
    "# Feature Selection II - Selecting for Model Accuracy"
   ],
   "execution_count": null,
   "cell_type": "markdown"
  },
  {
   "metadata": {
    "pycharm": {
     "name": "#%% md\n"
    }
   },
   "outputs": [],
   "source": [
    "## Selecting features for model performance"
   ],
   "execution_count": null,
   "cell_type": "markdown"
  },
  {
   "metadata": {
    "pycharm": {
     "name": "#%% md\n"
    }
   },
   "outputs": [],
   "source": [
    "### 1. Selecting features for model performance\n",
    "\n",
    "In previous chapters, we've always looked at individual or pairwise properties of features to decide on whether we keep them in the dataset or not. Another, more pragmatic, approach is to select features based on how they affect model performance."
   ],
   "execution_count": null,
   "cell_type": "markdown"
  },
  {
   "metadata": {
    "pycharm": {
     "name": "#%% md\n"
    }
   },
   "outputs": [],
   "source": [
    "### 2. Ansur dataset sample\n",
    "\n",
    "Consider this sample of the ANSUR dataset with one target variable, \"Gender\" which we'll try to predict, and five body measurement features to do so."
   ],
   "execution_count": null,
   "cell_type": "markdown"
  },
  {
   "cell_type": "code",
   "execution_count": 138,
   "outputs": [
    {
     "data": {
      "text/plain": "0         Male\n1         Male\n2         Male\n3         Male\n4         Male\n         ...  \n6063    Female\n6064    Female\n6065    Female\n6066    Female\n6067    Female\nName: Gender, Length: 6068, dtype: object"
     },
     "execution_count": 138,
     "metadata": {},
     "output_type": "execute_result"
    }
   ],
   "source": [
    "ansur_df = pd.concat([ansur_male,ansur_female],ignore_index=True)\n"
   ],
   "metadata": {
    "collapsed": false,
    "pycharm": {
     "name": "#%%\n"
    }
   }
  },
  {
   "cell_type": "code",
   "execution_count": 139,
   "outputs": [],
   "source": [
    "sample_df = ansur_df[[\"chestdepth\",\"handlength\",\"neckcircumference\",\"shoulderlength\",\"earlength\",\"Gender\"]]\n"
   ],
   "metadata": {
    "collapsed": false,
    "pycharm": {
     "name": "#%%\n"
    }
   }
  },
  {
   "metadata": {
    "pycharm": {
     "name": "#%% md\n"
    }
   },
   "outputs": [],
   "source": [
    "### 3. Pre-processing the data\n",
    "\n",
    "To train a model on this data we should first perform a train - test split, and in this case also standardize the training feature dataset X_train to have a mean of zero and a variance of one. Notice that we've used the .fit_transform() method to fit the scaler and transform the data in one command."
   ],
   "execution_count": null,
   "cell_type": "markdown"
  },
  {
   "cell_type": "code",
   "execution_count": 152,
   "outputs": [],
   "source": [
    "X = sample_df.drop(\"Gender\",axis=1)\n",
    "y = sample_df[\"Gender\"]\n",
    "X_train,X_test,y_train,y_test = train_test_split(X,\n",
    "                                                 y,\n",
    "                                                 test_size=0.3)"
   ],
   "metadata": {
    "collapsed": false,
    "pycharm": {
     "name": "#%%\n"
    }
   }
  },
  {
   "cell_type": "markdown",
   "source": [],
   "metadata": {
    "collapsed": false,
    "pycharm": {
     "name": "#%% md\n"
    }
   }
  },
  {
   "cell_type": "code",
   "execution_count": 154,
   "outputs": [],
   "source": [
    "from sklearn.preprocessing import StandardScaler\n",
    "\n",
    "scaler = StandardScaler()\n",
    "\n",
    "X_train_std = scaler.fit_transform(X_train)"
   ],
   "metadata": {
    "collapsed": false,
    "pycharm": {
     "name": "#%%\n"
    }
   }
  },
  {
   "metadata": {
    "pycharm": {
     "name": "#%% md\n"
    }
   },
   "outputs": [],
   "source": [
    "### 4. Creating a logistic regression model\n",
    "\n",
    "We can then create and fit a logistic regression model on this standardized training data. To see how the model performs on the test set we first scale these features with the .transform() method of the scaler that we just fit on the training set and then make our prediction. we get a test-set accuracy of 99%."
   ],
   "execution_count": null,
   "cell_type": "markdown"
  },
  {
   "cell_type": "code",
   "execution_count": 155,
   "outputs": [
    {
     "data": {
      "text/plain": "0.9912136188907194"
     },
     "execution_count": 155,
     "metadata": {},
     "output_type": "execute_result"
    }
   ],
   "source": [
    "from sklearn.linear_model import LogisticRegression\n",
    "from sklearn.metrics import accuracy_score\n",
    "\n",
    "lr = LogisticRegression()\n",
    "lr.fit(X_train_std,y_train)\n",
    "\n",
    "X_test_std = scaler.transform(X_test)\n",
    "\n",
    "y_pred = lr.predict(X_test_std)\n",
    "\n",
    "accuracy_score(y_test,y_pred)\n"
   ],
   "metadata": {
    "collapsed": false,
    "pycharm": {
     "name": "#%%\n"
    }
   }
  },
  {
   "metadata": {
    "pycharm": {
     "name": "#%% md\n"
    }
   },
   "outputs": [],
   "source": [
    "### 5. Inspecting the feature coefficients\n",
    "\n",
    "However, when we look at the feature coefficients that the logistic regression model uses in its decision function, we'll see that some values are pretty close to zero. Since these coefficients will be multiplied with the feature values when the model makes a prediction, features with coefficients close to zero will contribute little to the end result. We can use the zip function to transform the output into a dictionary that shows which feature has which coefficient. If we want to remove a feature from the initial dataset with as little effect on the predictions as possible, we should pick the one with the lowest coefficient, \"handlength\" in this case. The fact that we standardized the data first makes sure that we can compare the coefficients to one another."
   ],
   "execution_count": null,
   "cell_type": "markdown"
  },
  {
   "cell_type": "code",
   "execution_count": 156,
   "outputs": [
    {
     "data": {
      "text/plain": "array([[-3.08453044, -0.01025996,  7.64898578,  1.33153576,  0.79738495]])"
     },
     "execution_count": 156,
     "metadata": {},
     "output_type": "execute_result"
    }
   ],
   "source": [
    "lr.coef_"
   ],
   "metadata": {
    "collapsed": false,
    "pycharm": {
     "name": "#%%\n"
    }
   }
  },
  {
   "cell_type": "code",
   "execution_count": 157,
   "outputs": [
    {
     "data": {
      "text/plain": "{'chestdepth': -3.0845304406303353,\n 'handlength': -0.010259963576219656,\n 'neckcircumference': 7.648985778174097,\n 'shoulderlength': 1.3315357604082267,\n 'earlength': 0.797384948240833}"
     },
     "execution_count": 157,
     "metadata": {},
     "output_type": "execute_result"
    }
   ],
   "source": [
    "(dict(zip(sample_df.columns.drop(\"Gender\"),lr.coef_[0])))"
   ],
   "metadata": {
    "collapsed": false,
    "pycharm": {
     "name": "#%%\n"
    }
   }
  },
  {
   "metadata": {
    "pycharm": {
     "name": "#%% md\n"
    }
   },
   "outputs": [],
   "source": [
    "### 6. Features that contribute little to a model\n",
    "\n",
    "When we remove the \"handlength\" feature at the start of the process, our model accuracy remains unchanged at 99% while we did reduce our dataset's complexity. We could repeat this process until we have the desired number of features remaining, but it turns out, there's a Scikit-learn function that does just that."
   ],
   "execution_count": null,
   "cell_type": "markdown"
  },
  {
   "cell_type": "code",
   "execution_count": 158,
   "outputs": [
    {
     "data": {
      "text/plain": "0.985172981878089"
     },
     "execution_count": 158,
     "metadata": {},
     "output_type": "execute_result"
    }
   ],
   "source": [
    "X.drop(\"handlength\",axis=1,inplace=True)\n",
    "\n",
    "X_train,X_test,y_train,y_test = train_test_split(X,y,test_size=0.3)\n",
    "lr.fit(scaler.fit_transform(X_train),y_train)\n",
    "\n",
    "accuracy_score(y_test,lr.predict(scaler.transform(X_test)))"
   ],
   "metadata": {
    "collapsed": false,
    "pycharm": {
     "name": "#%%\n"
    }
   }
  },
  {
   "metadata": {
    "pycharm": {
     "name": "#%% md\n"
    }
   },
   "outputs": [],
   "source": [
    "### 7. Recursive Feature Elimination\n",
    "\n",
    "RFE for \"Recursive Feature Elimination\" is a feature selection algorithm that can be wrapped around any model that produces feature coefficients or feature importance values. We can pass it the model we want to use and the number of features we want to select. While fitting to our data it will repeat a process where it first fits the internal model and then drops the feature with the weakest coefficient. It will keep doing this until the desired number of features is reached. If we set RFE's verbose parameter higher than zero we'll be able to see that features are dropped one by one while fitting. We could also decide to just keep the 2 features with the highest coefficients after fitting the model once, but this recursive method is safer, since dropping one feature will cause the other coefficients to change."
   ],
   "execution_count": null,
   "cell_type": "markdown"
  },
  {
   "cell_type": "code",
   "execution_count": 159,
   "outputs": [],
   "source": [
    "X = sample_df.drop(\"Gender\",axis=1)\n",
    "y = sample_df[\"Gender\"]\n",
    "X_train,X_test,y_train,y_test = train_test_split(X,\n",
    "                                                 y,\n",
    "                                                 test_size=0.3)"
   ],
   "metadata": {
    "collapsed": false,
    "pycharm": {
     "name": "#%%\n"
    }
   }
  },
  {
   "cell_type": "code",
   "execution_count": 160,
   "outputs": [
    {
     "name": "stdout",
     "output_type": "stream",
     "text": [
      "Fitting estimator with 5 features.\n",
      "Fitting estimator with 4 features.\n",
      "Fitting estimator with 3 features.\n"
     ]
    },
    {
     "data": {
      "text/plain": "RFE(estimator=LogisticRegression(), n_features_to_select=2, verbose=1)",
      "text/html": "<style>#sk-container-id-1 {color: black;background-color: white;}#sk-container-id-1 pre{padding: 0;}#sk-container-id-1 div.sk-toggleable {background-color: white;}#sk-container-id-1 label.sk-toggleable__label {cursor: pointer;display: block;width: 100%;margin-bottom: 0;padding: 0.3em;box-sizing: border-box;text-align: center;}#sk-container-id-1 label.sk-toggleable__label-arrow:before {content: \"▸\";float: left;margin-right: 0.25em;color: #696969;}#sk-container-id-1 label.sk-toggleable__label-arrow:hover:before {color: black;}#sk-container-id-1 div.sk-estimator:hover label.sk-toggleable__label-arrow:before {color: black;}#sk-container-id-1 div.sk-toggleable__content {max-height: 0;max-width: 0;overflow: hidden;text-align: left;background-color: #f0f8ff;}#sk-container-id-1 div.sk-toggleable__content pre {margin: 0.2em;color: black;border-radius: 0.25em;background-color: #f0f8ff;}#sk-container-id-1 input.sk-toggleable__control:checked~div.sk-toggleable__content {max-height: 200px;max-width: 100%;overflow: auto;}#sk-container-id-1 input.sk-toggleable__control:checked~label.sk-toggleable__label-arrow:before {content: \"▾\";}#sk-container-id-1 div.sk-estimator input.sk-toggleable__control:checked~label.sk-toggleable__label {background-color: #d4ebff;}#sk-container-id-1 div.sk-label input.sk-toggleable__control:checked~label.sk-toggleable__label {background-color: #d4ebff;}#sk-container-id-1 input.sk-hidden--visually {border: 0;clip: rect(1px 1px 1px 1px);clip: rect(1px, 1px, 1px, 1px);height: 1px;margin: -1px;overflow: hidden;padding: 0;position: absolute;width: 1px;}#sk-container-id-1 div.sk-estimator {font-family: monospace;background-color: #f0f8ff;border: 1px dotted black;border-radius: 0.25em;box-sizing: border-box;margin-bottom: 0.5em;}#sk-container-id-1 div.sk-estimator:hover {background-color: #d4ebff;}#sk-container-id-1 div.sk-parallel-item::after {content: \"\";width: 100%;border-bottom: 1px solid gray;flex-grow: 1;}#sk-container-id-1 div.sk-label:hover label.sk-toggleable__label {background-color: #d4ebff;}#sk-container-id-1 div.sk-serial::before {content: \"\";position: absolute;border-left: 1px solid gray;box-sizing: border-box;top: 0;bottom: 0;left: 50%;z-index: 0;}#sk-container-id-1 div.sk-serial {display: flex;flex-direction: column;align-items: center;background-color: white;padding-right: 0.2em;padding-left: 0.2em;position: relative;}#sk-container-id-1 div.sk-item {position: relative;z-index: 1;}#sk-container-id-1 div.sk-parallel {display: flex;align-items: stretch;justify-content: center;background-color: white;position: relative;}#sk-container-id-1 div.sk-item::before, #sk-container-id-1 div.sk-parallel-item::before {content: \"\";position: absolute;border-left: 1px solid gray;box-sizing: border-box;top: 0;bottom: 0;left: 50%;z-index: -1;}#sk-container-id-1 div.sk-parallel-item {display: flex;flex-direction: column;z-index: 1;position: relative;background-color: white;}#sk-container-id-1 div.sk-parallel-item:first-child::after {align-self: flex-end;width: 50%;}#sk-container-id-1 div.sk-parallel-item:last-child::after {align-self: flex-start;width: 50%;}#sk-container-id-1 div.sk-parallel-item:only-child::after {width: 0;}#sk-container-id-1 div.sk-dashed-wrapped {border: 1px dashed gray;margin: 0 0.4em 0.5em 0.4em;box-sizing: border-box;padding-bottom: 0.4em;background-color: white;}#sk-container-id-1 div.sk-label label {font-family: monospace;font-weight: bold;display: inline-block;line-height: 1.2em;}#sk-container-id-1 div.sk-label-container {text-align: center;}#sk-container-id-1 div.sk-container {/* jupyter's `normalize.less` sets `[hidden] { display: none; }` but bootstrap.min.css set `[hidden] { display: none !important; }` so we also need the `!important` here to be able to override the default hidden behavior on the sphinx rendered scikit-learn.org. See: https://github.com/scikit-learn/scikit-learn/issues/21755 */display: inline-block !important;position: relative;}#sk-container-id-1 div.sk-text-repr-fallback {display: none;}</style><div id=\"sk-container-id-1\" class=\"sk-top-container\"><div class=\"sk-text-repr-fallback\"><pre>RFE(estimator=LogisticRegression(), n_features_to_select=2, verbose=1)</pre><b>In a Jupyter environment, please rerun this cell to show the HTML representation or trust the notebook. <br />On GitHub, the HTML representation is unable to render, please try loading this page with nbviewer.org.</b></div><div class=\"sk-container\" hidden><div class=\"sk-item sk-dashed-wrapped\"><div class=\"sk-label-container\"><div class=\"sk-label sk-toggleable\"><input class=\"sk-toggleable__control sk-hidden--visually\" id=\"sk-estimator-id-1\" type=\"checkbox\" ><label for=\"sk-estimator-id-1\" class=\"sk-toggleable__label sk-toggleable__label-arrow\">RFE</label><div class=\"sk-toggleable__content\"><pre>RFE(estimator=LogisticRegression(), n_features_to_select=2, verbose=1)</pre></div></div></div><div class=\"sk-parallel\"><div class=\"sk-parallel-item\"><div class=\"sk-item\"><div class=\"sk-label-container\"><div class=\"sk-label sk-toggleable\"><input class=\"sk-toggleable__control sk-hidden--visually\" id=\"sk-estimator-id-2\" type=\"checkbox\" ><label for=\"sk-estimator-id-2\" class=\"sk-toggleable__label sk-toggleable__label-arrow\">estimator: LogisticRegression</label><div class=\"sk-toggleable__content\"><pre>LogisticRegression()</pre></div></div></div><div class=\"sk-serial\"><div class=\"sk-item\"><div class=\"sk-estimator sk-toggleable\"><input class=\"sk-toggleable__control sk-hidden--visually\" id=\"sk-estimator-id-3\" type=\"checkbox\" ><label for=\"sk-estimator-id-3\" class=\"sk-toggleable__label sk-toggleable__label-arrow\">LogisticRegression</label><div class=\"sk-toggleable__content\"><pre>LogisticRegression()</pre></div></div></div></div></div></div></div></div></div></div>"
     },
     "execution_count": 160,
     "metadata": {},
     "output_type": "execute_result"
    }
   ],
   "source": [
    "from sklearn.feature_selection import RFE\n",
    "rfe =RFE(estimator=LogisticRegression(),\n",
    "         n_features_to_select=2,\n",
    "         verbose=1)\n",
    "rfe.fit(scaler.fit_transform(X_train),y_train)"
   ],
   "metadata": {
    "collapsed": false,
    "pycharm": {
     "name": "#%%\n"
    }
   }
  },
  {
   "metadata": {
    "pycharm": {
     "name": "#%% md\n"
    }
   },
   "outputs": [],
   "source": [
    "### 8. Inspecting the RFE results\n",
    "\n",
    "Once RFE is done we can check the support_ attribute that contains True/False values to see which features were kept in the dataset. Using the zip function once more, we can also check out rfe's ranking_ attribute to see in which iteration a feature was dropped. Values of 1 mean that the feature was kept in the dataset until the end while high values mean the feature was dropped early on. Finally, we can test the accuracy of the model with just two remaining features, 'chestdepth' and 'neckcircumference', turns out the accuracy is still untouched at 99%. This means the other 3 features had little to no impact on the model an its predictions."
   ],
   "execution_count": null,
   "cell_type": "markdown"
  },
  {
   "cell_type": "code",
   "execution_count": 162,
   "outputs": [
    {
     "data": {
      "text/plain": "Index(['chestdepth', 'neckcircumference'], dtype='object')"
     },
     "execution_count": 162,
     "metadata": {},
     "output_type": "execute_result"
    }
   ],
   "source": [
    "X.columns[rfe.support_]"
   ],
   "metadata": {
    "collapsed": false,
    "pycharm": {
     "name": "#%%\n"
    }
   }
  },
  {
   "cell_type": "code",
   "execution_count": 164,
   "outputs": [
    {
     "data": {
      "text/plain": "{'chestdepth': 1,\n 'handlength': 4,\n 'neckcircumference': 1,\n 'shoulderlength': 2,\n 'earlength': 3}"
     },
     "execution_count": 164,
     "metadata": {},
     "output_type": "execute_result"
    }
   ],
   "source": [
    "dict(zip(X.columns,rfe.ranking_))"
   ],
   "metadata": {
    "collapsed": false,
    "pycharm": {
     "name": "#%%\n"
    }
   }
  },
  {
   "metadata": {
    "pycharm": {
     "name": "#%% md\n"
    }
   },
   "outputs": [],
   "source": [
    "### 9. Let's practice!\n",
    "\n",
    "Now it's your turn to use recursive feature elimination."
   ],
   "execution_count": null,
   "cell_type": "markdown"
  },
  {
   "metadata": {
    "pycharm": {
     "name": "#%% md\n"
    }
   },
   "outputs": [],
   "source": [
    "## Building a diabetes classifier\n",
    "\n",
    "<p>You'll be using the Pima Indians diabetes dataset to predict whether a person has diabetes using logistic regression. There are 8 features and one target in this dataset. The data has been split into a training and test set and pre-loaded for you as <code>X_train</code>, <code>y_train</code>, <code>X_test</code>, and <code>y_test</code>.</p>\n",
    "<p>A <code>StandardScaler()</code> instance has been predefined as <code>scaler</code> and a <code>LogisticRegression()</code> one as <code>lr</code>.</p>"
   ],
   "execution_count": null,
   "cell_type": "markdown"
  },
  {
   "metadata": {
    "pycharm": {
     "name": "#%% md\n"
    }
   },
   "outputs": [],
   "source": [
    "Fit the scaler on the training features and transform these features in one go."
   ],
   "execution_count": null,
   "cell_type": "markdown"
  },
  {
   "metadata": {
    "pycharm": {
     "name": "#%% md\n"
    }
   },
   "outputs": [],
   "source": [
    "Fit the logistic regression model on the scaled training data."
   ],
   "execution_count": null,
   "cell_type": "markdown"
  },
  {
   "metadata": {
    "pycharm": {
     "name": "#%% md\n"
    }
   },
   "outputs": [],
   "source": [
    "Scale the test features."
   ],
   "execution_count": null,
   "cell_type": "markdown"
  },
  {
   "metadata": {
    "pycharm": {
     "name": "#%% md\n"
    }
   },
   "outputs": [],
   "source": [
    "Predict diabetes presence on the scaled test set."
   ],
   "execution_count": null,
   "cell_type": "markdown"
  },
  {
   "metadata": {
    "pycharm": {
     "name": "#%% md\n"
    }
   },
   "outputs": [],
   "source": [
    "## Manual Recursive Feature Elimination\n",
    "\n",
    "<p>Now that we've created a diabetes classifier, let's see if we can reduce the number of features without hurting the model accuracy too much.</p>\n",
    "<p>On the second line of code the features are selected from the original DataFrame. Adjust this selection.</p>\n",
    "<p>A <code>StandardScaler()</code> instance has been predefined as <code>scaler</code> and a <code>LogisticRegression()</code> one as <code>lr</code>.</p>\n",
    "<p>All necessary functions and packages have been pre-loaded too.</p>"
   ],
   "execution_count": null,
   "cell_type": "markdown"
  },
  {
   "metadata": {
    "pycharm": {
     "name": "#%% md\n"
    }
   },
   "outputs": [],
   "source": [
    "First, run the given code, then remove the feature with the lowest model coefficient from <code>X</code>."
   ],
   "execution_count": null,
   "cell_type": "markdown"
  },
  {
   "metadata": {
    "pycharm": {
     "name": "#%% md\n"
    }
   },
   "outputs": [],
   "source": [
    "Run the code and remove 2 more features with the lowest model coefficients."
   ],
   "execution_count": null,
   "cell_type": "markdown"
  },
  {
   "metadata": {
    "pycharm": {
     "name": "#%% md\n"
    }
   },
   "outputs": [],
   "source": [
    "Run the code and only keep the feature with the highest coefficient."
   ],
   "execution_count": null,
   "cell_type": "markdown"
  },
  {
   "metadata": {
    "pycharm": {
     "name": "#%% md\n"
    }
   },
   "outputs": [],
   "source": [
    "## Automatic Recursive Feature Elimination\n",
    "\n",
    "<p>Now let's automate this recursive process. Wrap a Recursive Feature Eliminator (RFE) around our logistic regression estimator and pass it the desired number of features.</p>\n",
    "<p>All the necessary functions and packages have been pre-loaded and the features have been scaled for you.</p>"
   ],
   "execution_count": null,
   "cell_type": "markdown"
  },
  {
   "metadata": {
    "pycharm": {
     "name": "#%% md\n"
    }
   },
   "outputs": [],
   "source": [
    "Create the RFE with a <code>LogisticRegression()</code> estimator and 3 features to select."
   ],
   "execution_count": null,
   "cell_type": "markdown"
  },
  {
   "metadata": {
    "pycharm": {
     "name": "#%% md\n"
    }
   },
   "outputs": [],
   "source": [
    "Print the features and their ranking."
   ],
   "execution_count": null,
   "cell_type": "markdown"
  },
  {
   "metadata": {
    "pycharm": {
     "name": "#%% md\n"
    }
   },
   "outputs": [],
   "source": [
    "Print the features that are not eliminated."
   ],
   "execution_count": null,
   "cell_type": "markdown"
  },
  {
   "metadata": {
    "pycharm": {
     "name": "#%% md\n"
    }
   },
   "outputs": [],
   "source": [
    "## Tree-based feature selection"
   ],
   "execution_count": null,
   "cell_type": "markdown"
  },
  {
   "metadata": {
    "pycharm": {
     "name": "#%% md\n"
    }
   },
   "outputs": [],
   "source": [
    "### 1. Tree-based feature selection\n",
    "\n",
    "Some models will perform feature selection by design to avoid overfitting."
   ],
   "execution_count": null,
   "cell_type": "markdown"
  },
  {
   "metadata": {
    "pycharm": {
     "name": "#%% md\n"
    }
   },
   "outputs": [],
   "source": [
    "### 2. Random forest classifier\n",
    "\n",
    "One of those, is the random forest classifier. It's an ensemble model that will pass different, random, subsets of features to a number of decision trees. To make a prediction it will aggregate over the predictions of the individual trees. The example forest shown here contains four decision trees. While simple in design, random forests often manage to be highly accurate and avoid overfitting even with the default Scikit-learn settings."
   ],
   "execution_count": null,
   "cell_type": "markdown"
  },
  {
   "metadata": {
    "pycharm": {
     "name": "#%% md\n"
    }
   },
   "outputs": [],
   "source": [
    "### 3. Random forest classifier\n",
    "\n",
    "If we train a random forest classifier on the 93 numeric features of the ANSUR dataset to predict gender, its test set accuracy is 99%. This means it managed to escape the curse of dimensionality and didn't overfit on the many features in the training set."
   ],
   "execution_count": null,
   "cell_type": "markdown"
  },
  {
   "cell_type": "code",
   "execution_count": 167,
   "outputs": [],
   "source": [
    "y = ansur_df[\"Gender\"]\n",
    "X = ansur_df.drop(non_numeric,axis=1)\n",
    "X_train,X_test,y_train,y_test = train_test_split(X,\n",
    "                                                 y,\n",
    "                                                 test_size=0.3)\n"
   ],
   "metadata": {
    "collapsed": false,
    "pycharm": {
     "name": "#%%\n"
    }
   }
  },
  {
   "metadata": {
    "pycharm": {
     "name": "#%% md\n"
    }
   },
   "outputs": [],
   "source": [
    "### 4. Random forest classifier\n",
    "\n",
    "In this illustration of what the trained model could look like, the first decision tree in the forest used the neck circumference feature on its first decision node and hand length later on to determine if a person was male or female. By averaging how often features are used to make decisions inside the different decision trees, and taking into account whether these are important decisions near the root of the tree or less important decisions in the smaller branches of the tree, the random forest algorithm manages to calculate feature importance values."
   ],
   "execution_count": null,
   "cell_type": "markdown"
  },
  {
   "cell_type": "code",
   "execution_count": 173,
   "outputs": [
    {
     "data": {
      "text/plain": "0.9890170236133993"
     },
     "execution_count": 173,
     "metadata": {},
     "output_type": "execute_result"
    }
   ],
   "source": [
    "from sklearn.ensemble import RandomForestClassifier\n",
    "from sklearn.metrics import accuracy_score\n",
    "\n",
    "rf = RandomForestClassifier()\n",
    "\n",
    "rf.fit(X_train,y_train)\n",
    "\n",
    "accuracy_score(y_test,rf.predict(X_test))"
   ],
   "metadata": {
    "collapsed": false,
    "pycharm": {
     "name": "#%%\n"
    }
   }
  },
  {
   "metadata": {
    "pycharm": {
     "name": "#%% md\n"
    }
   },
   "outputs": [],
   "source": [
    "### 5. Feature importance values\n",
    "\n",
    "These values can be extracted from a trained model using the feature_importances_ attribute. Just like the coefficients produced by the logistic regressor, these feature importance values can be used to perform feature selection, since for unimportant features they will be close to zero. An advantage of these feature importance values over coefficients is that they are comparable between features by default, since they always sum up to one. Which means we don't have to scale our input data first."
   ],
   "execution_count": null,
   "cell_type": "markdown"
  },
  {
   "cell_type": "code",
   "execution_count": 174,
   "outputs": [
    {
     "data": {
      "text/plain": "array([0.00114349, 0.0012577 , 0.00057619, 0.00058504, 0.00063801,\n       0.00739562, 0.0096936 , 0.07656101, 0.00342471, 0.00620733,\n       0.01194958, 0.0189454 , 0.00075271, 0.00593818, 0.00142306,\n       0.01299826, 0.00244427, 0.00058176, 0.00199995, 0.00199066,\n       0.00210499, 0.01629066, 0.00156486, 0.00129808, 0.00705037,\n       0.01778477, 0.00030056, 0.00677745, 0.00058915, 0.00066924,\n       0.00090561, 0.00233133, 0.00041048, 0.00729094, 0.00754894,\n       0.01097627, 0.00101352, 0.03209736, 0.00468495, 0.00149723,\n       0.00065233, 0.0504666 , 0.05118001, 0.0006414 , 0.00109219,\n       0.00097066, 0.00084592, 0.01312567, 0.00048224, 0.01518175,\n       0.02710272, 0.00072815, 0.00055541, 0.00504345, 0.02682977,\n       0.00040301, 0.00042531, 0.00116128, 0.02166984, 0.0042491 ,\n       0.00194947, 0.14223953, 0.11880504, 0.0012023 , 0.0003568 ,\n       0.00355603, 0.00497149, 0.03517448, 0.00051665, 0.00134076,\n       0.00295671, 0.0427825 , 0.00086216, 0.00926651, 0.00995805,\n       0.000931  , 0.00691547, 0.00113092, 0.00043433, 0.00067858,\n       0.00056105, 0.0005595 , 0.000975  , 0.01662303, 0.00136823,\n       0.00100588, 0.00093888, 0.00043501, 0.00056391, 0.06166181,\n       0.0004406 , 0.00192744, 0.01132207, 0.00308873])"
     },
     "execution_count": 174,
     "metadata": {},
     "output_type": "execute_result"
    }
   ],
   "source": [
    "rf.feature_importances_"
   ],
   "metadata": {
    "collapsed": false,
    "pycharm": {
     "name": "#%%\n"
    }
   }
  },
  {
   "cell_type": "code",
   "execution_count": 175,
   "outputs": [
    {
     "data": {
      "text/plain": "0.9999999999999999"
     },
     "execution_count": 175,
     "metadata": {},
     "output_type": "execute_result"
    }
   ],
   "source": [
    "sum(rf.feature_importances_)"
   ],
   "metadata": {
    "collapsed": false,
    "pycharm": {
     "name": "#%%\n"
    }
   }
  },
  {
   "metadata": {
    "pycharm": {
     "name": "#%% md\n"
    }
   },
   "outputs": [],
   "source": [
    "### 6. Feature importance as a feature selector\n",
    "\n",
    "We can use the feature importance values to create a True/False mask for features that meet a certain importance threshold. Then, we can apply that mask to our feature DataFrame to implement the actual feature selection."
   ],
   "execution_count": null,
   "cell_type": "markdown"
  },
  {
   "cell_type": "code",
   "execution_count": 176,
   "outputs": [
    {
     "data": {
      "text/plain": "Index(['neckcircumference', 'neckcircumferencebase'], dtype='object')"
     },
     "execution_count": 176,
     "metadata": {},
     "output_type": "execute_result"
    }
   ],
   "source": [
    "mask = rf.feature_importances_ > 0.1\n",
    "\n",
    "X.columns[mask]"
   ],
   "metadata": {
    "collapsed": false,
    "pycharm": {
     "name": "#%%\n"
    }
   }
  },
  {
   "metadata": {
    "pycharm": {
     "name": "#%% md\n"
    }
   },
   "outputs": [],
   "source": [
    "### 7. RFE with random forests\n",
    "\n",
    "Remember dropping one weak feature can make other features relatively more or less important. If you want to play safe and minimize the risk of dropping the wrong features, you should not drop all least important features at once but rather one by one. To do so we can once again wrap a Recursive Feature Eliminator, or RFE(), around our model. Here, we've reduced the number of features to six with no reduction in test set accuracy. However, training the model once for each feature we want to drop can result in too much computational overhead."
   ],
   "execution_count": null,
   "cell_type": "markdown"
  },
  {
   "cell_type": "code",
   "execution_count": 177,
   "outputs": [
    {
     "name": "stdout",
     "output_type": "stream",
     "text": [
      "Fitting estimator with 94 features.\n",
      "Fitting estimator with 93 features.\n",
      "Fitting estimator with 92 features.\n",
      "Fitting estimator with 91 features.\n",
      "Fitting estimator with 90 features.\n",
      "Fitting estimator with 89 features.\n",
      "Fitting estimator with 88 features.\n",
      "Fitting estimator with 87 features.\n",
      "Fitting estimator with 86 features.\n",
      "Fitting estimator with 85 features.\n",
      "Fitting estimator with 84 features.\n",
      "Fitting estimator with 83 features.\n",
      "Fitting estimator with 82 features.\n",
      "Fitting estimator with 81 features.\n",
      "Fitting estimator with 80 features.\n",
      "Fitting estimator with 79 features.\n",
      "Fitting estimator with 78 features.\n",
      "Fitting estimator with 77 features.\n",
      "Fitting estimator with 76 features.\n",
      "Fitting estimator with 75 features.\n",
      "Fitting estimator with 74 features.\n",
      "Fitting estimator with 73 features.\n",
      "Fitting estimator with 72 features.\n",
      "Fitting estimator with 71 features.\n",
      "Fitting estimator with 70 features.\n",
      "Fitting estimator with 69 features.\n",
      "Fitting estimator with 68 features.\n",
      "Fitting estimator with 67 features.\n",
      "Fitting estimator with 66 features.\n",
      "Fitting estimator with 65 features.\n",
      "Fitting estimator with 64 features.\n",
      "Fitting estimator with 63 features.\n",
      "Fitting estimator with 62 features.\n",
      "Fitting estimator with 61 features.\n",
      "Fitting estimator with 60 features.\n",
      "Fitting estimator with 59 features.\n",
      "Fitting estimator with 58 features.\n",
      "Fitting estimator with 57 features.\n",
      "Fitting estimator with 56 features.\n",
      "Fitting estimator with 55 features.\n",
      "Fitting estimator with 54 features.\n",
      "Fitting estimator with 53 features.\n",
      "Fitting estimator with 52 features.\n",
      "Fitting estimator with 51 features.\n",
      "Fitting estimator with 50 features.\n",
      "Fitting estimator with 49 features.\n",
      "Fitting estimator with 48 features.\n",
      "Fitting estimator with 47 features.\n",
      "Fitting estimator with 46 features.\n",
      "Fitting estimator with 45 features.\n",
      "Fitting estimator with 44 features.\n",
      "Fitting estimator with 43 features.\n",
      "Fitting estimator with 42 features.\n",
      "Fitting estimator with 41 features.\n",
      "Fitting estimator with 40 features.\n",
      "Fitting estimator with 39 features.\n",
      "Fitting estimator with 38 features.\n",
      "Fitting estimator with 37 features.\n",
      "Fitting estimator with 36 features.\n",
      "Fitting estimator with 35 features.\n",
      "Fitting estimator with 34 features.\n",
      "Fitting estimator with 33 features.\n",
      "Fitting estimator with 32 features.\n",
      "Fitting estimator with 31 features.\n",
      "Fitting estimator with 30 features.\n",
      "Fitting estimator with 29 features.\n",
      "Fitting estimator with 28 features.\n",
      "Fitting estimator with 27 features.\n",
      "Fitting estimator with 26 features.\n",
      "Fitting estimator with 25 features.\n",
      "Fitting estimator with 24 features.\n",
      "Fitting estimator with 23 features.\n",
      "Fitting estimator with 22 features.\n",
      "Fitting estimator with 21 features.\n",
      "Fitting estimator with 20 features.\n",
      "Fitting estimator with 19 features.\n",
      "Fitting estimator with 18 features.\n",
      "Fitting estimator with 17 features.\n",
      "Fitting estimator with 16 features.\n",
      "Fitting estimator with 15 features.\n",
      "Fitting estimator with 14 features.\n",
      "Fitting estimator with 13 features.\n",
      "Fitting estimator with 12 features.\n",
      "Fitting estimator with 11 features.\n",
      "Fitting estimator with 10 features.\n",
      "Fitting estimator with 9 features.\n",
      "Fitting estimator with 8 features.\n",
      "Fitting estimator with 7 features.\n"
     ]
    },
    {
     "data": {
      "text/plain": "RFE(estimator=RandomForestClassifier(), n_features_to_select=6, verbose=1)",
      "text/html": "<style>#sk-container-id-2 {color: black;background-color: white;}#sk-container-id-2 pre{padding: 0;}#sk-container-id-2 div.sk-toggleable {background-color: white;}#sk-container-id-2 label.sk-toggleable__label {cursor: pointer;display: block;width: 100%;margin-bottom: 0;padding: 0.3em;box-sizing: border-box;text-align: center;}#sk-container-id-2 label.sk-toggleable__label-arrow:before {content: \"▸\";float: left;margin-right: 0.25em;color: #696969;}#sk-container-id-2 label.sk-toggleable__label-arrow:hover:before {color: black;}#sk-container-id-2 div.sk-estimator:hover label.sk-toggleable__label-arrow:before {color: black;}#sk-container-id-2 div.sk-toggleable__content {max-height: 0;max-width: 0;overflow: hidden;text-align: left;background-color: #f0f8ff;}#sk-container-id-2 div.sk-toggleable__content pre {margin: 0.2em;color: black;border-radius: 0.25em;background-color: #f0f8ff;}#sk-container-id-2 input.sk-toggleable__control:checked~div.sk-toggleable__content {max-height: 200px;max-width: 100%;overflow: auto;}#sk-container-id-2 input.sk-toggleable__control:checked~label.sk-toggleable__label-arrow:before {content: \"▾\";}#sk-container-id-2 div.sk-estimator input.sk-toggleable__control:checked~label.sk-toggleable__label {background-color: #d4ebff;}#sk-container-id-2 div.sk-label input.sk-toggleable__control:checked~label.sk-toggleable__label {background-color: #d4ebff;}#sk-container-id-2 input.sk-hidden--visually {border: 0;clip: rect(1px 1px 1px 1px);clip: rect(1px, 1px, 1px, 1px);height: 1px;margin: -1px;overflow: hidden;padding: 0;position: absolute;width: 1px;}#sk-container-id-2 div.sk-estimator {font-family: monospace;background-color: #f0f8ff;border: 1px dotted black;border-radius: 0.25em;box-sizing: border-box;margin-bottom: 0.5em;}#sk-container-id-2 div.sk-estimator:hover {background-color: #d4ebff;}#sk-container-id-2 div.sk-parallel-item::after {content: \"\";width: 100%;border-bottom: 1px solid gray;flex-grow: 1;}#sk-container-id-2 div.sk-label:hover label.sk-toggleable__label {background-color: #d4ebff;}#sk-container-id-2 div.sk-serial::before {content: \"\";position: absolute;border-left: 1px solid gray;box-sizing: border-box;top: 0;bottom: 0;left: 50%;z-index: 0;}#sk-container-id-2 div.sk-serial {display: flex;flex-direction: column;align-items: center;background-color: white;padding-right: 0.2em;padding-left: 0.2em;position: relative;}#sk-container-id-2 div.sk-item {position: relative;z-index: 1;}#sk-container-id-2 div.sk-parallel {display: flex;align-items: stretch;justify-content: center;background-color: white;position: relative;}#sk-container-id-2 div.sk-item::before, #sk-container-id-2 div.sk-parallel-item::before {content: \"\";position: absolute;border-left: 1px solid gray;box-sizing: border-box;top: 0;bottom: 0;left: 50%;z-index: -1;}#sk-container-id-2 div.sk-parallel-item {display: flex;flex-direction: column;z-index: 1;position: relative;background-color: white;}#sk-container-id-2 div.sk-parallel-item:first-child::after {align-self: flex-end;width: 50%;}#sk-container-id-2 div.sk-parallel-item:last-child::after {align-self: flex-start;width: 50%;}#sk-container-id-2 div.sk-parallel-item:only-child::after {width: 0;}#sk-container-id-2 div.sk-dashed-wrapped {border: 1px dashed gray;margin: 0 0.4em 0.5em 0.4em;box-sizing: border-box;padding-bottom: 0.4em;background-color: white;}#sk-container-id-2 div.sk-label label {font-family: monospace;font-weight: bold;display: inline-block;line-height: 1.2em;}#sk-container-id-2 div.sk-label-container {text-align: center;}#sk-container-id-2 div.sk-container {/* jupyter's `normalize.less` sets `[hidden] { display: none; }` but bootstrap.min.css set `[hidden] { display: none !important; }` so we also need the `!important` here to be able to override the default hidden behavior on the sphinx rendered scikit-learn.org. See: https://github.com/scikit-learn/scikit-learn/issues/21755 */display: inline-block !important;position: relative;}#sk-container-id-2 div.sk-text-repr-fallback {display: none;}</style><div id=\"sk-container-id-2\" class=\"sk-top-container\"><div class=\"sk-text-repr-fallback\"><pre>RFE(estimator=RandomForestClassifier(), n_features_to_select=6, verbose=1)</pre><b>In a Jupyter environment, please rerun this cell to show the HTML representation or trust the notebook. <br />On GitHub, the HTML representation is unable to render, please try loading this page with nbviewer.org.</b></div><div class=\"sk-container\" hidden><div class=\"sk-item sk-dashed-wrapped\"><div class=\"sk-label-container\"><div class=\"sk-label sk-toggleable\"><input class=\"sk-toggleable__control sk-hidden--visually\" id=\"sk-estimator-id-4\" type=\"checkbox\" ><label for=\"sk-estimator-id-4\" class=\"sk-toggleable__label sk-toggleable__label-arrow\">RFE</label><div class=\"sk-toggleable__content\"><pre>RFE(estimator=RandomForestClassifier(), n_features_to_select=6, verbose=1)</pre></div></div></div><div class=\"sk-parallel\"><div class=\"sk-parallel-item\"><div class=\"sk-item\"><div class=\"sk-label-container\"><div class=\"sk-label sk-toggleable\"><input class=\"sk-toggleable__control sk-hidden--visually\" id=\"sk-estimator-id-5\" type=\"checkbox\" ><label for=\"sk-estimator-id-5\" class=\"sk-toggleable__label sk-toggleable__label-arrow\">estimator: RandomForestClassifier</label><div class=\"sk-toggleable__content\"><pre>RandomForestClassifier()</pre></div></div></div><div class=\"sk-serial\"><div class=\"sk-item\"><div class=\"sk-estimator sk-toggleable\"><input class=\"sk-toggleable__control sk-hidden--visually\" id=\"sk-estimator-id-6\" type=\"checkbox\" ><label for=\"sk-estimator-id-6\" class=\"sk-toggleable__label sk-toggleable__label-arrow\">RandomForestClassifier</label><div class=\"sk-toggleable__content\"><pre>RandomForestClassifier()</pre></div></div></div></div></div></div></div></div></div></div>"
     },
     "execution_count": 177,
     "metadata": {},
     "output_type": "execute_result"
    }
   ],
   "source": [
    "rfe = RFE(estimator=RandomForestClassifier(),\n",
    "          n_features_to_select=6,\n",
    "          verbose=1)\n",
    "rfe.fit(X_train,y_train)"
   ],
   "metadata": {
    "collapsed": false,
    "pycharm": {
     "name": "#%%\n"
    }
   }
  },
  {
   "metadata": {
    "pycharm": {
     "name": "#%% md\n"
    }
   },
   "outputs": [],
   "source": [
    "### 8. RFE with random forests\n",
    "\n",
    "To speed up the process we can pass the \"step\" parameter to RFE(). Here, we've set it to 10 so that on each iteration the 10 least important features are dropped. Once the final model is trained, we can use the feature eliminator's .support_ attribute as a mask to print the remaining column names."
   ],
   "execution_count": null,
   "cell_type": "markdown"
  },
  {
   "cell_type": "code",
   "execution_count": 178,
   "outputs": [
    {
     "name": "stdout",
     "output_type": "stream",
     "text": [
      "Fitting estimator with 94 features.\n",
      "Fitting estimator with 84 features.\n",
      "Fitting estimator with 74 features.\n",
      "Fitting estimator with 64 features.\n",
      "Fitting estimator with 54 features.\n",
      "Fitting estimator with 44 features.\n",
      "Fitting estimator with 34 features.\n",
      "Fitting estimator with 24 features.\n",
      "Fitting estimator with 14 features.\n"
     ]
    },
    {
     "data": {
      "text/plain": "RFE(estimator=RandomForestClassifier(), n_features_to_select=6, step=10,\n    verbose=1)",
      "text/html": "<style>#sk-container-id-3 {color: black;background-color: white;}#sk-container-id-3 pre{padding: 0;}#sk-container-id-3 div.sk-toggleable {background-color: white;}#sk-container-id-3 label.sk-toggleable__label {cursor: pointer;display: block;width: 100%;margin-bottom: 0;padding: 0.3em;box-sizing: border-box;text-align: center;}#sk-container-id-3 label.sk-toggleable__label-arrow:before {content: \"▸\";float: left;margin-right: 0.25em;color: #696969;}#sk-container-id-3 label.sk-toggleable__label-arrow:hover:before {color: black;}#sk-container-id-3 div.sk-estimator:hover label.sk-toggleable__label-arrow:before {color: black;}#sk-container-id-3 div.sk-toggleable__content {max-height: 0;max-width: 0;overflow: hidden;text-align: left;background-color: #f0f8ff;}#sk-container-id-3 div.sk-toggleable__content pre {margin: 0.2em;color: black;border-radius: 0.25em;background-color: #f0f8ff;}#sk-container-id-3 input.sk-toggleable__control:checked~div.sk-toggleable__content {max-height: 200px;max-width: 100%;overflow: auto;}#sk-container-id-3 input.sk-toggleable__control:checked~label.sk-toggleable__label-arrow:before {content: \"▾\";}#sk-container-id-3 div.sk-estimator input.sk-toggleable__control:checked~label.sk-toggleable__label {background-color: #d4ebff;}#sk-container-id-3 div.sk-label input.sk-toggleable__control:checked~label.sk-toggleable__label {background-color: #d4ebff;}#sk-container-id-3 input.sk-hidden--visually {border: 0;clip: rect(1px 1px 1px 1px);clip: rect(1px, 1px, 1px, 1px);height: 1px;margin: -1px;overflow: hidden;padding: 0;position: absolute;width: 1px;}#sk-container-id-3 div.sk-estimator {font-family: monospace;background-color: #f0f8ff;border: 1px dotted black;border-radius: 0.25em;box-sizing: border-box;margin-bottom: 0.5em;}#sk-container-id-3 div.sk-estimator:hover {background-color: #d4ebff;}#sk-container-id-3 div.sk-parallel-item::after {content: \"\";width: 100%;border-bottom: 1px solid gray;flex-grow: 1;}#sk-container-id-3 div.sk-label:hover label.sk-toggleable__label {background-color: #d4ebff;}#sk-container-id-3 div.sk-serial::before {content: \"\";position: absolute;border-left: 1px solid gray;box-sizing: border-box;top: 0;bottom: 0;left: 50%;z-index: 0;}#sk-container-id-3 div.sk-serial {display: flex;flex-direction: column;align-items: center;background-color: white;padding-right: 0.2em;padding-left: 0.2em;position: relative;}#sk-container-id-3 div.sk-item {position: relative;z-index: 1;}#sk-container-id-3 div.sk-parallel {display: flex;align-items: stretch;justify-content: center;background-color: white;position: relative;}#sk-container-id-3 div.sk-item::before, #sk-container-id-3 div.sk-parallel-item::before {content: \"\";position: absolute;border-left: 1px solid gray;box-sizing: border-box;top: 0;bottom: 0;left: 50%;z-index: -1;}#sk-container-id-3 div.sk-parallel-item {display: flex;flex-direction: column;z-index: 1;position: relative;background-color: white;}#sk-container-id-3 div.sk-parallel-item:first-child::after {align-self: flex-end;width: 50%;}#sk-container-id-3 div.sk-parallel-item:last-child::after {align-self: flex-start;width: 50%;}#sk-container-id-3 div.sk-parallel-item:only-child::after {width: 0;}#sk-container-id-3 div.sk-dashed-wrapped {border: 1px dashed gray;margin: 0 0.4em 0.5em 0.4em;box-sizing: border-box;padding-bottom: 0.4em;background-color: white;}#sk-container-id-3 div.sk-label label {font-family: monospace;font-weight: bold;display: inline-block;line-height: 1.2em;}#sk-container-id-3 div.sk-label-container {text-align: center;}#sk-container-id-3 div.sk-container {/* jupyter's `normalize.less` sets `[hidden] { display: none; }` but bootstrap.min.css set `[hidden] { display: none !important; }` so we also need the `!important` here to be able to override the default hidden behavior on the sphinx rendered scikit-learn.org. See: https://github.com/scikit-learn/scikit-learn/issues/21755 */display: inline-block !important;position: relative;}#sk-container-id-3 div.sk-text-repr-fallback {display: none;}</style><div id=\"sk-container-id-3\" class=\"sk-top-container\"><div class=\"sk-text-repr-fallback\"><pre>RFE(estimator=RandomForestClassifier(), n_features_to_select=6, step=10,\n    verbose=1)</pre><b>In a Jupyter environment, please rerun this cell to show the HTML representation or trust the notebook. <br />On GitHub, the HTML representation is unable to render, please try loading this page with nbviewer.org.</b></div><div class=\"sk-container\" hidden><div class=\"sk-item sk-dashed-wrapped\"><div class=\"sk-label-container\"><div class=\"sk-label sk-toggleable\"><input class=\"sk-toggleable__control sk-hidden--visually\" id=\"sk-estimator-id-7\" type=\"checkbox\" ><label for=\"sk-estimator-id-7\" class=\"sk-toggleable__label sk-toggleable__label-arrow\">RFE</label><div class=\"sk-toggleable__content\"><pre>RFE(estimator=RandomForestClassifier(), n_features_to_select=6, step=10,\n    verbose=1)</pre></div></div></div><div class=\"sk-parallel\"><div class=\"sk-parallel-item\"><div class=\"sk-item\"><div class=\"sk-label-container\"><div class=\"sk-label sk-toggleable\"><input class=\"sk-toggleable__control sk-hidden--visually\" id=\"sk-estimator-id-8\" type=\"checkbox\" ><label for=\"sk-estimator-id-8\" class=\"sk-toggleable__label sk-toggleable__label-arrow\">estimator: RandomForestClassifier</label><div class=\"sk-toggleable__content\"><pre>RandomForestClassifier()</pre></div></div></div><div class=\"sk-serial\"><div class=\"sk-item\"><div class=\"sk-estimator sk-toggleable\"><input class=\"sk-toggleable__control sk-hidden--visually\" id=\"sk-estimator-id-9\" type=\"checkbox\" ><label for=\"sk-estimator-id-9\" class=\"sk-toggleable__label sk-toggleable__label-arrow\">RandomForestClassifier</label><div class=\"sk-toggleable__content\"><pre>RandomForestClassifier()</pre></div></div></div></div></div></div></div></div></div></div>"
     },
     "execution_count": 178,
     "metadata": {},
     "output_type": "execute_result"
    }
   ],
   "source": [
    "rfe = RFE(estimator=RandomForestClassifier(),\n",
    "          n_features_to_select=6,\n",
    "          step=10,verbose=1)\n",
    "rfe.fit(X_train,y_train)"
   ],
   "metadata": {
    "collapsed": false,
    "pycharm": {
     "name": "#%%\n"
    }
   }
  },
  {
   "metadata": {
    "pycharm": {
     "name": "#%% md\n"
    }
   },
   "outputs": [],
   "source": [
    "### 9. Let's practice!\n",
    "\n",
    "Now its your turn to perform feature selection with random forests."
   ],
   "execution_count": null,
   "cell_type": "markdown"
  },
  {
   "cell_type": "code",
   "execution_count": 179,
   "outputs": [
    {
     "data": {
      "text/plain": "Index(['biacromialbreadth', 'handbreadth', 'handcircumference',\n       'neckcircumference', 'neckcircumferencebase', 'shouldercircumference'],\n      dtype='object')"
     },
     "execution_count": 179,
     "metadata": {},
     "output_type": "execute_result"
    }
   ],
   "source": [
    "X.columns[rfe.support_]"
   ],
   "metadata": {
    "collapsed": false,
    "pycharm": {
     "name": "#%%\n"
    }
   }
  },
  {
   "metadata": {
    "pycharm": {
     "name": "#%% md\n"
    }
   },
   "outputs": [],
   "source": [
    "## Building a random forest model\n",
    "\n",
    "<p>You'll again work on the Pima Indians dataset to predict whether an individual has diabetes. This time using a random forest classifier. You'll fit the model on the training data after performing the train-test split and consult the feature importance values.</p>\n",
    "<p>The feature and target datasets have been pre-loaded for you as <code>X</code> and <code>y</code>. Same goes for the necessary packages and functions.</p>"
   ],
   "execution_count": null,
   "cell_type": "markdown"
  },
  {
   "metadata": {
    "pycharm": {
     "name": "#%% md\n"
    }
   },
   "outputs": [],
   "source": [
    "Set a 25% test size to perform a 75%-25% train-test split."
   ],
   "execution_count": null,
   "cell_type": "markdown"
  },
  {
   "metadata": {
    "pycharm": {
     "name": "#%% md\n"
    }
   },
   "outputs": [],
   "source": [
    "Fit the random forest classifier to the training data."
   ],
   "execution_count": null,
   "cell_type": "markdown"
  },
  {
   "metadata": {
    "pycharm": {
     "name": "#%% md\n"
    }
   },
   "outputs": [],
   "source": [
    "Calculate the accuracy on the test set."
   ],
   "execution_count": null,
   "cell_type": "markdown"
  },
  {
   "metadata": {
    "pycharm": {
     "name": "#%% md\n"
    }
   },
   "outputs": [],
   "source": [
    "Print the feature importances per feature."
   ],
   "execution_count": null,
   "cell_type": "markdown"
  },
  {
   "metadata": {
    "pycharm": {
     "name": "#%% md\n"
    }
   },
   "outputs": [],
   "source": [
    "## Random forest for feature selection\n",
    "\n",
    "<p>Now lets use the fitted random model to select the most important features from our input dataset <code>X</code>.</p>\n",
    "<p>The trained model from the previous exercise has been pre-loaded for you as <code>rf</code>.</p>"
   ],
   "execution_count": null,
   "cell_type": "markdown"
  },
  {
   "metadata": {
    "pycharm": {
     "name": "#%% md\n"
    }
   },
   "outputs": [],
   "source": [
    "Create a mask for features with an importance higher than 0.15."
   ],
   "execution_count": null,
   "cell_type": "markdown"
  },
  {
   "metadata": {
    "pycharm": {
     "name": "#%% md\n"
    }
   },
   "outputs": [],
   "source": [
    "## Recursive Feature Elimination with random forests\n",
    "\n",
    "<p>You'll wrap a Recursive Feature Eliminator around a random forest model to remove features step by step. This method is more conservative compared to selecting features after applying a single importance threshold. Since dropping one feature can influence the relative importances of the others.</p>\n",
    "<p>You'll need these pre-loaded datasets: <code>X</code>, <code>X_train</code>, <code>y_train</code>.</p>\n",
    "<p>Functions and classes that have been pre-loaded for you are: <code>RandomForestClassifier()</code>, <code>RFE()</code>, <code>train_test_split()</code>.</p>"
   ],
   "execution_count": null,
   "cell_type": "markdown"
  },
  {
   "metadata": {
    "pycharm": {
     "name": "#%% md\n"
    }
   },
   "outputs": [],
   "source": [
    "Create a recursive feature eliminator that will select the 2 most important features using a random forest model."
   ],
   "execution_count": null,
   "cell_type": "markdown"
  },
  {
   "metadata": {
    "pycharm": {
     "name": "#%% md\n"
    }
   },
   "outputs": [],
   "source": [
    "## Regularized linear regression"
   ],
   "execution_count": null,
   "cell_type": "markdown"
  },
  {
   "metadata": {
    "pycharm": {
     "name": "#%% md\n"
    }
   },
   "outputs": [],
   "source": [
    "### 1. Regularized linear regression\n",
    "\n",
    "So far, we focused on how to reduce dimensionality using classification algorithms. Let's see what we can do with regressions."
   ],
   "execution_count": null,
   "cell_type": "markdown"
  },
  {
   "metadata": {
    "pycharm": {
     "name": "#%% md\n"
    }
   },
   "outputs": [],
   "source": [
    "### 2. Linear model concept\n",
    "\n",
    "To refresh how linear regressions work, we'll build a model that derives the linear function between three input values and a target. However, we'll be creating the feature dataset and linear function ourselves, so that we can control the ground truth that our model tries to derive."
   ],
   "execution_count": null,
   "cell_type": "markdown"
  },
  {
   "metadata": {
    "pycharm": {
     "name": "#%% md\n"
    }
   },
   "outputs": [],
   "source": [
    "### 3. Creating our own dataset\n",
    "\n",
    "We create three features x1, x2, and x3"
   ],
   "execution_count": null,
   "cell_type": "markdown"
  },
  {
   "metadata": {
    "pycharm": {
     "name": "#%% md\n"
    }
   },
   "outputs": [],
   "source": [
    "### 4. Creating our own dataset\n",
    "\n",
    "that all follow a simple normal distribution."
   ],
   "execution_count": null,
   "cell_type": "markdown"
  },
  {
   "metadata": {
    "pycharm": {
     "name": "#%% md\n"
    }
   },
   "outputs": [],
   "source": [
    "### 5. Creating our own dataset\n",
    "\n",
    "We can then create our own target y with a function of our choice. Let's say that y equals 20 plus 5 times x1, 2 times x2, zero times x3 and an error term. The 20 at the start is called the intercept; 5, 2 and 0 are the coefficients of our features, they determine how big an effect each has on the target. The third feature has a coefficient of zero and will therefore have no effect on the target whatsoever. It would be best to remove it from the dataset, since it could confuse a model and make it overfit. Now that we've set the ground truth for this dataset, let's see if a model can derive it."
   ],
   "execution_count": null,
   "cell_type": "markdown"
  },
  {
   "metadata": {
    "pycharm": {
     "name": "#%% md\n"
    }
   },
   "outputs": [],
   "source": [
    "### 6. Linear regression in Python\n",
    "\n",
    "When you fit a LinearRegression() model with Scikit Learn, the model object will have .coef_ for coefficient attribute that contains a NumPy array with a number of elements equal to the number of input features. These are the three values we just set to 5, 2, and 0 and the model was able to estimate them pretty accurately. Same goes for the intercept."
   ],
   "execution_count": null,
   "cell_type": "markdown"
  },
  {
   "metadata": {
    "pycharm": {
     "name": "#%% md\n"
    }
   },
   "outputs": [],
   "source": [
    "### 7. Linear regression in Python\n",
    "\n",
    "To check how accurate the model's predictions are we can calculate the R-squared value on the test set. This tells us how much of the variance in the target feature our model can predict. Our model scores an impressive 97.6%."
   ],
   "execution_count": null,
   "cell_type": "markdown"
  },
  {
   "metadata": {
    "pycharm": {
     "name": "#%% md\n"
    }
   },
   "outputs": [],
   "source": [
    "### 8. Linear regression in Python\n",
    "\n",
    "However, the third feature, which had no effect whatsoever, was estimated to have a small effect of -0.05. If there would be more of these irrelevant features, the model could overfit. To solve this, we'll have to look at what the model actually does while training."
   ],
   "execution_count": null,
   "cell_type": "markdown"
  },
  {
   "metadata": {
    "pycharm": {
     "name": "#%% md\n"
    }
   },
   "outputs": [],
   "source": [
    "### 9. Loss function: Mean Squared Error\n",
    "\n",
    "The model will try to find optimal values for the intercept and coefficients by minimizing a loss function."
   ],
   "execution_count": null,
   "cell_type": "markdown"
  },
  {
   "metadata": {
    "pycharm": {
     "name": "#%% md\n"
    }
   },
   "outputs": [],
   "source": [
    "### 10. Loss function: Mean Squared Error\n",
    "\n",
    "This function contains the mean sum of the squared differences between actual and predicted values, the gray squares in the plot. Minimizing this MSE makes the model as accurate a possible. However, we don't want our model to be super accurate on the training set if that means it no longer generalizes to new data."
   ],
   "execution_count": null,
   "cell_type": "markdown"
  },
  {
   "metadata": {
    "pycharm": {
     "name": "#%% md\n"
    }
   },
   "outputs": [],
   "source": [
    "### 11. Adding regularization\n",
    "\n",
    "To avoid this we can introduce regularization. The model will then not only try to be as accurate as possible by minimizing the MSE,"
   ],
   "execution_count": null,
   "cell_type": "markdown"
  },
  {
   "metadata": {
    "pycharm": {
     "name": "#%% md\n"
    }
   },
   "outputs": [],
   "source": [
    "### 12. Adding regularization\n",
    "\n",
    "it will also try to keep the model simple by keeping the coefficients low. The strength of regularization can be tweaked with"
   ],
   "execution_count": null,
   "cell_type": "markdown"
  },
  {
   "metadata": {
    "pycharm": {
     "name": "#%% md\n"
    }
   },
   "outputs": [],
   "source": [
    "### 13. Adding regularization\n",
    "\n"
   ],
   "execution_count": null,
   "cell_type": "markdown"
  },
  {
   "metadata": {
    "pycharm": {
     "name": "#%% md\n"
    }
   },
   "outputs": [],
   "source": [
    "### 14. Lasso regressor\n",
    "\n",
    "When we fit it on our dataset we see that it indeed reduced the coefficient of the third feature to zero, ignoring it, but also that it reduced the other coefficients resulting in a lower R squared."
   ],
   "execution_count": null,
   "cell_type": "markdown"
  },
  {
   "metadata": {
    "pycharm": {
     "name": "#%% md\n"
    }
   },
   "outputs": [],
   "source": [
    "### 15. Lasso regressor\n",
    "\n",
    "To avoid this we can change the alpha parameter. When we set it to 0.05 the third feature is still ignored but the other coefficients are reduced less and our R squared is up again."
   ],
   "execution_count": null,
   "cell_type": "markdown"
  },
  {
   "metadata": {
    "pycharm": {
     "name": "#%% md\n"
    }
   },
   "outputs": [],
   "source": [
    "### 16. Let's practice!\n",
    "\n",
    "Now its your turn to apply regularized linear regression."
   ],
   "execution_count": null,
   "cell_type": "markdown"
  },
  {
   "metadata": {
    "pycharm": {
     "name": "#%% md\n"
    }
   },
   "outputs": [],
   "source": [
    "## Creating a LASSO regressor\n",
    "\n",
    "<p>You'll be working on the numeric ANSUR body measurements dataset to predict a persons Body Mass Index (BMI) using the pre-imported <code>Lasso()</code> regressor. BMI is a metric derived from body height and weight but those two features have been removed from the dataset to give the model a challenge.</p>\n",
    "<p>You'll standardize the data first using the <code>StandardScaler()</code> that has been instantiated for you as <code>scaler</code> to make sure all coefficients face a comparable regularizing force trying to bring them down.</p>\n",
    "<p>All necessary functions and classes plus the input datasets <code>X</code> and <code>y</code> have been pre-loaded.</p>"
   ],
   "execution_count": null,
   "cell_type": "markdown"
  },
  {
   "metadata": {
    "pycharm": {
     "name": "#%% md\n"
    }
   },
   "outputs": [],
   "source": [
    "Set the test size to 30% to get a 70-30% train test split."
   ],
   "execution_count": null,
   "cell_type": "markdown"
  },
  {
   "metadata": {
    "pycharm": {
     "name": "#%% md\n"
    }
   },
   "outputs": [],
   "source": [
    "Fit the scaler on the training features and transform these in one go."
   ],
   "execution_count": null,
   "cell_type": "markdown"
  },
  {
   "metadata": {
    "pycharm": {
     "name": "#%% md\n"
    }
   },
   "outputs": [],
   "source": [
    "Create the Lasso model."
   ],
   "execution_count": null,
   "cell_type": "markdown"
  },
  {
   "metadata": {
    "pycharm": {
     "name": "#%% md\n"
    }
   },
   "outputs": [],
   "source": [
    "Fit it to the scaled training data."
   ],
   "execution_count": null,
   "cell_type": "markdown"
  },
  {
   "metadata": {
    "pycharm": {
     "name": "#%% md\n"
    }
   },
   "outputs": [],
   "source": [
    "## Lasso model results\n",
    "\n",
    "<p>Now that you've trained the Lasso model, you'll score its predictive capacity (<mjx-container class=\"MathJax CtxtMenu_Attached_0\" jax=\"CHTML\" role=\"presentation\" tabindex=\"0\" ctxtmenu_counter=\"2\" style=\"font-size: 116.7%; position: relative;\"><mjx-math class=\"MJX-TEX\" aria-hidden=\"true\"><mjx-msup><mjx-mi class=\"mjx-i\"><mjx-c class=\"mjx-c1D445 TEX-I\"></mjx-c></mjx-mi><mjx-script style=\"vertical-align: 0.363em;\"><mjx-mn class=\"mjx-n\" size=\"s\"><mjx-c class=\"mjx-c32\"></mjx-c></mjx-mn></mjx-script></mjx-msup></mjx-math><mjx-assistive-mml role=\"presentation\" unselectable=\"on\" display=\"inline\"><math xmlns=\"http://www.w3.org/1998/Math/MathML\"><msup><mi>R</mi><mn>2</mn></msup></math></mjx-assistive-mml></mjx-container>) on the test set and count how many features are ignored because their coefficient is reduced to zero.</p>\n",
    "<p>The <code>X_test</code> and <code>y_test</code> datasets have been pre-loaded for you.</p>\n",
    "<p>The <code>Lasso()</code> model and <code>StandardScaler()</code> have been instantiated as <code>la</code> and <code>scaler</code> respectively and both were fitted to the training data.</p>"
   ],
   "execution_count": null,
   "cell_type": "markdown"
  },
  {
   "metadata": {
    "pycharm": {
     "name": "#%% md\n"
    }
   },
   "outputs": [],
   "source": [
    "Transform the test set with the pre-fitted scaler."
   ],
   "execution_count": null,
   "cell_type": "markdown"
  },
  {
   "metadata": {
    "pycharm": {
     "name": "#%% md\n"
    }
   },
   "outputs": [],
   "source": [
    "Calculate the <mjx-container class=\"MathJax CtxtMenu_Attached_0\" jax=\"CHTML\" role=\"presentation\" tabindex=\"0\" ctxtmenu_counter=\"3\" style=\"font-size: 116.7%; position: relative;\"><mjx-math class=\"MJX-TEX\" aria-hidden=\"true\"><mjx-msup><mjx-mi class=\"mjx-i\"><mjx-c class=\"mjx-c1D445 TEX-I\"></mjx-c></mjx-mi><mjx-script style=\"vertical-align: 0.363em;\"><mjx-mn class=\"mjx-n\" size=\"s\"><mjx-c class=\"mjx-c32\"></mjx-c></mjx-mn></mjx-script></mjx-msup></mjx-math><mjx-assistive-mml role=\"presentation\" unselectable=\"on\" display=\"inline\"><math xmlns=\"http://www.w3.org/1998/Math/MathML\"><msup><mi>R</mi><mn>2</mn></msup></math></mjx-assistive-mml></mjx-container> value on the scaled test data."
   ],
   "execution_count": null,
   "cell_type": "markdown"
  },
  {
   "metadata": {
    "pycharm": {
     "name": "#%% md\n"
    }
   },
   "outputs": [],
   "source": [
    "Create a list that has True values when coefficients equal 0."
   ],
   "execution_count": null,
   "cell_type": "markdown"
  },
  {
   "metadata": {
    "pycharm": {
     "name": "#%% md\n"
    }
   },
   "outputs": [],
   "source": [
    "Calculate the total number of features with a coefficient of 0."
   ],
   "execution_count": null,
   "cell_type": "markdown"
  },
  {
   "metadata": {
    "pycharm": {
     "name": "#%% md\n"
    }
   },
   "outputs": [],
   "source": [
    "## Adjusting the regularization strength\n",
    "\n",
    "<p>Your current Lasso model has an <mjx-container class=\"MathJax CtxtMenu_Attached_0\" jax=\"CHTML\" role=\"presentation\" tabindex=\"0\" ctxtmenu_counter=\"2\" style=\"font-size: 116.7%; position: relative;\"><mjx-math class=\"MJX-TEX\" aria-hidden=\"true\"><mjx-msup><mjx-mi class=\"mjx-i\"><mjx-c class=\"mjx-c1D445 TEX-I\"></mjx-c></mjx-mi><mjx-script style=\"vertical-align: 0.363em;\"><mjx-mn class=\"mjx-n\" size=\"s\"><mjx-c class=\"mjx-c32\"></mjx-c></mjx-mn></mjx-script></mjx-msup></mjx-math><mjx-assistive-mml role=\"presentation\" unselectable=\"on\" display=\"inline\"><math xmlns=\"http://www.w3.org/1998/Math/MathML\"><msup><mi>R</mi><mn>2</mn></msup></math></mjx-assistive-mml></mjx-container> score of 84.7%. When a model applies overly powerful regularization it can suffer from high bias, hurting its predictive power.</p>\n",
    "<p>Let's improve the balance between predictive power and model simplicity by tweaking the <code>alpha</code> parameter.</p>"
   ],
   "execution_count": null,
   "cell_type": "markdown"
  },
  {
   "metadata": {
    "pycharm": {
     "name": "#%% md\n"
    }
   },
   "outputs": [],
   "source": [
    "Find the <strong>highest</strong> value for <code>alpha</code> that gives an <mjx-container class=\"MathJax CtxtMenu_Attached_0\" jax=\"CHTML\" role=\"presentation\" tabindex=\"0\" ctxtmenu_counter=\"3\" style=\"font-size: 116.7%; position: relative;\"><mjx-math class=\"MJX-TEX\" aria-hidden=\"true\"><mjx-msup><mjx-mi class=\"mjx-i\"><mjx-c class=\"mjx-c1D445 TEX-I\"></mjx-c></mjx-mi><mjx-script style=\"vertical-align: 0.363em;\"><mjx-mn class=\"mjx-n\" size=\"s\"><mjx-c class=\"mjx-c32\"></mjx-c></mjx-mn></mjx-script></mjx-msup></mjx-math><mjx-assistive-mml role=\"presentation\" unselectable=\"on\" display=\"inline\"><math xmlns=\"http://www.w3.org/1998/Math/MathML\"><msup><mi>R</mi><mn>2</mn></msup></math></mjx-assistive-mml></mjx-container> value above 98% from the options: <code>1</code>, <code>0.5</code>, <code>0.1</code>, and <code>0.01</code>."
   ],
   "execution_count": null,
   "cell_type": "markdown"
  },
  {
   "metadata": {
    "pycharm": {
     "name": "#%% md\n"
    }
   },
   "outputs": [],
   "source": [
    "## Combining feature selectors"
   ],
   "execution_count": null,
   "cell_type": "markdown"
  },
  {
   "metadata": {
    "pycharm": {
     "name": "#%% md\n"
    }
   },
   "outputs": [],
   "source": [
    "### 1. Combining feature selectors\n",
    "\n",
    "In the previous lesson we saw how Lasso models allow you to tweak the strength of regularization with the alpha parameter."
   ],
   "execution_count": null,
   "cell_type": "markdown"
  },
  {
   "metadata": {
    "pycharm": {
     "name": "#%% md\n"
    }
   },
   "outputs": [],
   "source": [
    "### 2. Lasso regressor\n",
    "\n",
    "We manually set this alpha parameter to find a balance between removing as much features as possible and model accuracy. However, manually finding a good alpha value can be tedious. Good news is, there is a way to automate this."
   ],
   "execution_count": null,
   "cell_type": "markdown"
  },
  {
   "metadata": {
    "pycharm": {
     "name": "#%% md\n"
    }
   },
   "outputs": [],
   "source": [
    "### 3. LassoCV regressor\n",
    "\n",
    "The LassoCV() class will use cross validation to try out different alpha settings and select the best one. When we fit this model to our training data it will get an alpha_ attribute with the optimal value."
   ],
   "execution_count": null,
   "cell_type": "markdown"
  },
  {
   "metadata": {
    "pycharm": {
     "name": "#%% md\n"
    }
   },
   "outputs": [],
   "source": [
    "### 4. LassoCV regressor\n",
    "\n",
    "To actually remove the features to which the Lasso regressor assigned a zero coefficient, we once again create a mask with True values for all non-zero coefficients. We can then apply it to our feature dataset X with the loc method."
   ],
   "execution_count": null,
   "cell_type": "markdown"
  },
  {
   "metadata": {
    "pycharm": {
     "name": "#%% md\n"
    }
   },
   "outputs": [],
   "source": [
    "### 5. Taking a step back\n",
    "\n",
    "Two lessons ago we talked about random forests, they're an example of an ensemble model. It's designed on the idea that a lot of weak predictors can combine to form a strong one. When we use models to perform feature selection we could apply the same idea. Instead of trusting a single model to tell us which features are important we could have multiple models each cast their vote on whether we should keep a feature or not. We could then combine the votes to make a decision."
   ],
   "execution_count": null,
   "cell_type": "markdown"
  },
  {
   "metadata": {
    "pycharm": {
     "name": "#%% md\n"
    }
   },
   "outputs": [],
   "source": [
    "### 6. Feature selection with LassoCV\n",
    "\n",
    "To do so lets first train the models one by one. We'll be predicting BMI in the ANSUR dataset just like you did in the last exercises. If we use LassoCV() we'll get an R squared of 99% and when we create a mask that tells us whether a feature has a coefficient different from 0 we can see that this is the case for 66 out of 91 features. We'll put this lcv_mask to the side for a moment and move on to the next model."
   ],
   "execution_count": null,
   "cell_type": "markdown"
  },
  {
   "cell_type": "code",
   "execution_count": 185,
   "outputs": [],
   "source": [
    "y = ansur_df[\"BMI\"]\n",
    "X = ansur_df.drop(list(non_numeric)+ [\"BMI\"] ,axis=1)\n"
   ],
   "metadata": {
    "collapsed": false,
    "pycharm": {
     "name": "#%%\n"
    }
   }
  },
  {
   "cell_type": "code",
   "execution_count": 189,
   "outputs": [],
   "source": [
    "X_train,X_test,y_train,y_test = train_test_split(X,y,test_size=0.3)"
   ],
   "metadata": {
    "collapsed": false,
    "pycharm": {
     "name": "#%%\n"
    }
   }
  },
  {
   "cell_type": "code",
   "execution_count": 190,
   "outputs": [
    {
     "name": "stderr",
     "output_type": "stream",
     "text": [
      "C:\\Users\\Lenovo\\anaconda3\\lib\\site-packages\\sklearn\\linear_model\\_coordinate_descent.py:648: ConvergenceWarning: Objective did not converge. You might want to increase the number of iterations, check the scale of the features or consider increasing regularisation. Duality gap: 1.113e+01, tolerance: 6.637e+00\n",
      "  model = cd_fast.enet_coordinate_descent(\n"
     ]
    },
    {
     "data": {
      "text/plain": "0.9898334499734232"
     },
     "execution_count": 190,
     "metadata": {},
     "output_type": "execute_result"
    }
   ],
   "source": [
    "from sklearn.linear_model import LassoCV\n",
    "\n",
    "lcv = LassoCV()\n",
    "\n",
    "lcv.fit(X_train,y_train)\n",
    "lcv.score(X_test,y_test)"
   ],
   "metadata": {
    "collapsed": false,
    "pycharm": {
     "name": "#%%\n"
    }
   }
  },
  {
   "cell_type": "code",
   "execution_count": 191,
   "outputs": [
    {
     "data": {
      "text/plain": "41"
     },
     "execution_count": 191,
     "metadata": {},
     "output_type": "execute_result"
    }
   ],
   "source": [
    "lcv_mask = lcv.coef_ != 0\n",
    "sum(lcv_mask)"
   ],
   "metadata": {
    "collapsed": false,
    "pycharm": {
     "name": "#%%\n"
    }
   }
  },
  {
   "cell_type": "markdown",
   "source": [
    "\n",
    "### 7. Feature selection with random forest\n",
    "\n",
    "The second model we train is a random forest regressor model. We've wrapped a Recursive Feature Selector or RFE, around the model to have it select the same number of features as the LassoCV()\n",
    " regressor did. We can then use the support_ attribute of the fitted model to create rf_mask."
   ],
   "metadata": {
    "collapsed": false,
    "pycharm": {
     "name": "#%% md\n"
    }
   }
  },
  {
   "cell_type": "code",
   "execution_count": 193,
   "outputs": [
    {
     "name": "stdout",
     "output_type": "stream",
     "text": [
      "Fitting estimator with 93 features.\n",
      "Fitting estimator with 88 features.\n",
      "Fitting estimator with 83 features.\n",
      "Fitting estimator with 78 features.\n",
      "Fitting estimator with 73 features.\n",
      "Fitting estimator with 68 features.\n",
      "Fitting estimator with 63 features.\n",
      "Fitting estimator with 58 features.\n",
      "Fitting estimator with 53 features.\n",
      "Fitting estimator with 48 features.\n",
      "Fitting estimator with 43 features.\n"
     ]
    }
   ],
   "source": [
    "from sklearn.ensemble import RandomForestRegressor\n",
    "\n",
    "rfe_rf = RFE(estimator=RandomForestRegressor(),\n",
    "             n_features_to_select=41,\n",
    "             step=5,\n",
    "             verbose=1)\n",
    "\n",
    "rfe_rf.fit(X_train,y_train)\n",
    "rfe_mask = rfe_rf.support_"
   ],
   "metadata": {
    "collapsed": false,
    "pycharm": {
     "name": "#%%\n"
    }
   }
  },
  {
   "metadata": {
    "pycharm": {
     "name": "#%% md\n"
    }
   },
   "outputs": [],
   "source": [
    "### 8. Feature selection with gradient boosting\n",
    "\n",
    "Then, we do the same thing with a gradient boosting regressor. Like random forests gradient boosting is an ensemble method that will calculate feature importance values. The trained model too has a support_ attribute that we can use to create gb_mask."
   ],
   "execution_count": null,
   "cell_type": "markdown"
  },
  {
   "cell_type": "code",
   "execution_count": 194,
   "outputs": [
    {
     "name": "stdout",
     "output_type": "stream",
     "text": [
      "Fitting estimator with 93 features.\n",
      "Fitting estimator with 87 features.\n",
      "Fitting estimator with 81 features.\n",
      "Fitting estimator with 75 features.\n",
      "Fitting estimator with 69 features.\n"
     ]
    }
   ],
   "source": [
    "from sklearn.ensemble import GradientBoostingRegressor\n",
    "\n",
    "rfe_gb = RFE(estimator=GradientBoostingRegressor(),\n",
    "             n_features_to_select=66,\n",
    "             step=6,\n",
    "             verbose=1)\n",
    "\n",
    "rfe_gb.fit(X_train,y_train)\n",
    "gb_mask = rfe_gb.support_"
   ],
   "metadata": {
    "collapsed": false,
    "pycharm": {
     "name": "#%%\n"
    }
   }
  },
  {
   "metadata": {
    "pycharm": {
     "name": "#%% md\n"
    }
   },
   "outputs": [],
   "source": [
    "### 9. Combining the feature selectors\n",
    "\n",
    "Finally, we can start counting the votes on whether to select a feature. We use NumPy's sum() function, pass it the three masks in a list, and set the axis argument to 0. We'll then get an array with the number of votes that each feature got. What we do with this vote then depends on how conservative we want to be. If we want to make sure we don't lose any information, we could select all features with at least one vote. In this example we chose to have at least two models voting for a feature in order to keep it. All that is left now is to actually implement the dimensionality reduction. We do that with the loc method of our feature DataFrame X."
   ],
   "execution_count": null,
   "cell_type": "markdown"
  },
  {
   "cell_type": "code",
   "execution_count": 195,
   "outputs": [
    {
     "name": "stdout",
     "output_type": "stream",
     "text": [
      "[3 1 0 2 3 1 1 1 3 1 3 1 2 0 1 3 3 3 0 2 3 3 1 3 3 2 2 2 1 0 1 1 1 2 1 0 0\n",
      " 3 3 0 3 0 1 0 1 2 0 2 1 0 1 3 1 2 0 1 0 2 1 3 1 3 1 1 1 2 0 3 0 0 3 1 0 1\n",
      " 2 2 3 3 2 3 1 2 1 2 2 3 3 1 3 1 2 3 2]\n"
     ]
    }
   ],
   "source": [
    "votes = np.sum([lcv_mask,rfe_mask,gb_mask],axis=0)\n",
    "print(votes)"
   ],
   "metadata": {
    "collapsed": false,
    "pycharm": {
     "name": "#%%\n"
    }
   }
  },
  {
   "cell_type": "code",
   "execution_count": 196,
   "outputs": [
    {
     "data": {
      "text/plain": "93"
     },
     "execution_count": 196,
     "metadata": {},
     "output_type": "execute_result"
    }
   ],
   "source": [
    "len(votes)"
   ],
   "metadata": {
    "collapsed": false,
    "pycharm": {
     "name": "#%%\n"
    }
   }
  },
  {
   "cell_type": "code",
   "execution_count": 197,
   "outputs": [],
   "source": [
    "mask = votes >= 2\n",
    "reduced_df = X.loc[:,mask]"
   ],
   "metadata": {
    "collapsed": false,
    "pycharm": {
     "name": "#%%\n"
    }
   }
  },
  {
   "cell_type": "code",
   "execution_count": 199,
   "outputs": [
    {
     "data": {
      "text/plain": "46"
     },
     "execution_count": 199,
     "metadata": {},
     "output_type": "execute_result"
    }
   ],
   "source": [
    "len(reduced_df.columns)"
   ],
   "metadata": {
    "collapsed": false,
    "pycharm": {
     "name": "#%%\n"
    }
   }
  },
  {
   "metadata": {
    "pycharm": {
     "name": "#%% md\n"
    }
   },
   "outputs": [],
   "source": [
    "### 10. Let's practice!\n",
    "\n",
    "Now it's your turn to combine the feature selection capabilities of multiple models."
   ],
   "execution_count": null,
   "cell_type": "markdown"
  },
  {
   "metadata": {
    "pycharm": {
     "name": "#%% md\n"
    }
   },
   "outputs": [],
   "source": [
    "## Creating a LassoCV regressor\n",
    "\n",
    "<p>You'll be predicting biceps circumference on a subsample of the male ANSUR dataset using the <code>LassoCV()</code> regressor that automatically tunes the regularization strength (alpha value) using Cross-Validation.</p>\n",
    "<p>The standardized training and test data has been pre-loaded for you as <code>X_train</code>, <code>X_test</code>, <code>y_train</code>, and <code>y_test</code>.</p>"
   ],
   "execution_count": null,
   "cell_type": "markdown"
  },
  {
   "metadata": {
    "pycharm": {
     "name": "#%% md\n"
    }
   },
   "outputs": [],
   "source": [
    "Create and fit the LassoCV model on the training set."
   ],
   "execution_count": null,
   "cell_type": "markdown"
  },
  {
   "metadata": {
    "pycharm": {
     "name": "#%% md\n"
    }
   },
   "outputs": [],
   "source": [
    "Calculate <mjx-container class=\"MathJax CtxtMenu_Attached_0\" jax=\"CHTML\" role=\"presentation\" tabindex=\"0\" ctxtmenu_counter=\"1\" style=\"font-size: 116.7%; position: relative;\"><mjx-math class=\"MJX-TEX\" aria-hidden=\"true\"><mjx-msup><mjx-mi class=\"mjx-i\"><mjx-c class=\"mjx-c1D445 TEX-I\"></mjx-c></mjx-mi><mjx-script style=\"vertical-align: 0.363em;\"><mjx-mn class=\"mjx-n\" size=\"s\"><mjx-c class=\"mjx-c32\"></mjx-c></mjx-mn></mjx-script></mjx-msup></mjx-math><mjx-assistive-mml role=\"presentation\" unselectable=\"on\" display=\"inline\"><math xmlns=\"http://www.w3.org/1998/Math/MathML\"><msup><mi>R</mi><mn>2</mn></msup></math></mjx-assistive-mml></mjx-container> on the test set."
   ],
   "execution_count": null,
   "cell_type": "markdown"
  },
  {
   "metadata": {
    "pycharm": {
     "name": "#%% md\n"
    }
   },
   "outputs": [],
   "source": [
    "Create a mask for coefficients not equal to zero."
   ],
   "execution_count": null,
   "cell_type": "markdown"
  },
  {
   "metadata": {
    "pycharm": {
     "name": "#%% md\n"
    }
   },
   "outputs": [],
   "source": [
    "## Ensemble models for extra votes\n",
    "\n",
    "<p>The <code>LassoCV()</code> model selected 22 out of 32 features. Not bad, but not a spectacular dimensionality reduction either. Let's use two more models to select the 10 features they consider most important using the Recursive Feature Eliminator (RFE).</p>\n",
    "<p>The standardized training and test data has been pre-loaded for you as <code>X_train</code>, <code>X_test</code>, <code>y_train</code>, and <code>y_test</code>.</p>"
   ],
   "execution_count": null,
   "cell_type": "markdown"
  },
  {
   "metadata": {
    "pycharm": {
     "name": "#%% md\n"
    }
   },
   "outputs": [],
   "source": [
    "Select 10 features with RFE on a <code>GradientBoostingRegressor</code> and drop 3 features on each step."
   ],
   "execution_count": null,
   "cell_type": "markdown"
  },
  {
   "metadata": {
    "pycharm": {
     "name": "#%% md\n"
    }
   },
   "outputs": [],
   "source": [
    "## Combining 3 feature selectors\n",
    "\n",
    "<p>We'll combine the votes of the 3 models you built in the previous exercises, to decide which features are important into a meta mask. We'll then use this mask to reduce dimensionality and see how a simple linear regressor performs on the reduced dataset.</p>\n",
    "<p>The per model votes have been pre-loaded as <code>lcv_mask</code>, <code>rf_mask</code>, and <code>gb_mask</code> and the feature and target datasets as <code>X</code> and <code>y</code>.</p>"
   ],
   "execution_count": null,
   "cell_type": "markdown"
  },
  {
   "metadata": {
    "pycharm": {
     "name": "#%% md\n"
    }
   },
   "outputs": [],
   "source": [
    "Sum the votes of the three models using <code>np.sum()</code>."
   ],
   "execution_count": null,
   "cell_type": "markdown"
  },
  {
   "metadata": {
    "pycharm": {
     "name": "#%% md\n"
    }
   },
   "outputs": [],
   "source": [
    "# Feature Extraction"
   ],
   "execution_count": null,
   "cell_type": "markdown"
  },
  {
   "metadata": {
    "pycharm": {
     "name": "#%% md\n"
    }
   },
   "outputs": [],
   "source": [
    "## Manual feature extraction I\n",
    "\n",
    "<p>You want to compare prices for specific products between stores. The features in the pre-loaded dataset <code>sales_df</code> are: <code>storeID</code>, <code>product</code>, <code>quantity</code> and <code>revenue</code>. The <code>quantity</code> and <code>revenue</code> features tell you how many items of a particular product were sold in a store and what the total revenue was. For the purpose of your analysis it's more interesting to know the average price per product.</p>"
   ],
   "execution_count": null,
   "cell_type": "markdown"
  },
  {
   "metadata": {
    "pycharm": {
     "name": "#%% md\n"
    }
   },
   "outputs": [],
   "source": [
    "Calculate the product price from the quantity sold and total revenue."
   ],
   "execution_count": null,
   "cell_type": "markdown"
  },
  {
   "metadata": {
    "pycharm": {
     "name": "#%% md\n"
    }
   },
   "outputs": [],
   "source": [
    "Drop the quantity and revenue features from the dataset."
   ],
   "execution_count": null,
   "cell_type": "markdown"
  },
  {
   "metadata": {
    "pycharm": {
     "name": "#%% md\n"
    }
   },
   "outputs": [],
   "source": [
    "## Manual feature extraction II\n",
    "\n",
    "<p>You're working on a variant of the ANSUR dataset, <code>height_df</code>, where a person's height was measured 3 times: <code>height_1</code>, <code>height_2</code>, <code>height_3</code>. Add a feature with the mean height to the dataset, then drop the 3 original features.</p>"
   ],
   "execution_count": null,
   "cell_type": "markdown"
  },
  {
   "metadata": {
    "pycharm": {
     "name": "#%% md\n"
    }
   },
   "outputs": [],
   "source": [
    "Add a feature with the mean height to the dataset. Use the <code>.mean()</code> method with <code>axis=1</code>."
   ],
   "execution_count": null,
   "cell_type": "markdown"
  },
  {
   "metadata": {
    "pycharm": {
     "name": "#%% md\n"
    }
   },
   "outputs": [],
   "source": [
    "Drop the 3 original height features from the dataset."
   ],
   "execution_count": null,
   "cell_type": "markdown"
  },
  {
   "metadata": {
    "pycharm": {
     "name": "#%% md\n"
    }
   },
   "outputs": [],
   "source": [
    "## Principal component analysis"
   ],
   "execution_count": null,
   "cell_type": "markdown"
  },
  {
   "metadata": {
    "pycharm": {
     "name": "#%% md\n"
    }
   },
   "outputs": [],
   "source": [
    "### 1. Principal component analysis\n",
    "\n",
    "Let's take a deeper look into principal component analysis."
   ],
   "execution_count": null,
   "cell_type": "markdown"
  },
  {
   "metadata": {
    "pycharm": {
     "name": "#%% md\n"
    }
   },
   "outputs": [],
   "source": [
    "### 2. PCA concept\n",
    "\n",
    "We already saw that you can describe the information captured by two features by using two perpendicular vectors that are aligned with the variance in the data."
   ],
   "execution_count": null,
   "cell_type": "markdown"
  },
  {
   "metadata": {
    "pycharm": {
     "name": "#%% md\n"
    }
   },
   "outputs": [],
   "source": [
    "### 3. PCA concept\n",
    "\n",
    "For instance the point highlighted here has coordinates 2.7 and 1 in the original hand length versus foot length reference system."
   ],
   "execution_count": null,
   "cell_type": "markdown"
  },
  {
   "metadata": {
    "pycharm": {
     "name": "#%% md\n"
    }
   },
   "outputs": [],
   "source": [
    "### 4. PCA concept\n",
    "\n",
    "But we could just as well describe this point using multiplications of the vectors. In this case it would be 2 times the red vector and minus 1 times the yellow vector. We call these values the first and second principal components respectively, where the red one is most important as it is aligned with the biggest source of variance in the data. We can calculate these principal components for all points in the dataset with sklearn's PCA() class."
   ],
   "execution_count": null,
   "cell_type": "markdown"
  },
  {
   "metadata": {
    "pycharm": {
     "name": "#%% md\n"
    }
   },
   "outputs": [],
   "source": [
    "### 5. Calculating the principal components\n",
    "\n",
    "But before we do this, we have to scale the values with the StandardScaler(). PCA can really underperform if you don't do this. We can then create our PCA instance and apply the .fit_transform() method to the scaled data to calculate the two principal components."
   ],
   "execution_count": null,
   "cell_type": "markdown"
  },
  {
   "metadata": {
    "pycharm": {
     "name": "#%% md\n"
    }
   },
   "outputs": [],
   "source": [
    "### 6. PCA removes correlation\n",
    "\n",
    "When we plot these values for all points in the dataset, you'll see that our resulting point cloud no longer shows any correlation and therefore, no more duplicate information. If we would add a third feature to the original dataset we would also have to add a third principal component if we don't want to lose any information. And this remains true as you keep adding features. You could describe a 100 feature dataset with 100 principal components. But why would you want to do such a thing? The components are much harder to understand than the original features."
   ],
   "execution_count": null,
   "cell_type": "markdown"
  },
  {
   "metadata": {
    "pycharm": {
     "name": "#%% md\n"
    }
   },
   "outputs": [],
   "source": [
    "### 7. Principal component explained variance ratio\n",
    "\n",
    "The answer lies in the fact that the components share no duplicate information and that they are ranked from most to least important. We can access the explained variance ratio of each principal component after fitting the algorithm to the data using the .explained_variance_ratio_ attribute. In this case it tells us that the first components explains 90% of the variance in the data and the second the remaining 10%. When you are dealing with a dataset with a lot of correlation the explained variance typically becomes concentrated in the first few components. The remaining components then explain so little variance that they can be dropped. This is why PCA is so powerful for dimensionality reduction."
   ],
   "execution_count": null,
   "cell_type": "markdown"
  },
  {
   "metadata": {
    "pycharm": {
     "name": "#%% md\n"
    }
   },
   "outputs": [],
   "source": [
    "### 8. PCA for dimensionality reduction\n",
    "\n",
    "Let's look at a data sample with very strong correlation. The right versus left leg length data we already saw last lesson."
   ],
   "execution_count": null,
   "cell_type": "markdown"
  },
  {
   "metadata": {
    "pycharm": {
     "name": "#%% md\n"
    }
   },
   "outputs": [],
   "source": [
    "### 9. PCA for dimensionality reduction\n",
    "\n",
    "The first component here explains more than 99.9% of the variance in the data and therefore it would clearly make sense to drop the second component. Two-feature datasets make it easier to see what PCA is doing behind the scenes but they are way too small for an actual dimensionality reduction use case."
   ],
   "execution_count": null,
   "cell_type": "markdown"
  },
  {
   "metadata": {
    "pycharm": {
     "name": "#%% md\n"
    }
   },
   "outputs": [],
   "source": [
    "### 10. PCA for dimensionality reduction\n",
    "\n",
    "So let's look at a more high dimensional example. The full ANSUR dataset has 94 highly correlated features. When we fit pca to this data we'll find that the 2 first components explain 44 and 18% of the variance in the data."
   ],
   "execution_count": null,
   "cell_type": "markdown"
  },
  {
   "metadata": {
    "pycharm": {
     "name": "#%% md\n"
    }
   },
   "outputs": [],
   "source": [
    "### 11. PCA for dimensionality reduction\n",
    "\n",
    "We can use NumPy's cumulative sum method on the .explained_variance_ratio_ attribute to see how much variance we can explain in total by using a certain number of components. Using just the first two components would still allow us to keep 62% of the variance in the data whereas we would have to use 10 components if we would want to keep 80% of the variance."
   ],
   "execution_count": null,
   "cell_type": "markdown"
  },
  {
   "metadata": {
    "pycharm": {
     "name": "#%% md\n"
    }
   },
   "outputs": [],
   "source": [
    "### 12. Let's practice!\n",
    "\n",
    "Now it's your turn to apply PCA."
   ],
   "execution_count": null,
   "cell_type": "markdown"
  },
  {
   "metadata": {
    "pycharm": {
     "name": "#%% md\n"
    }
   },
   "outputs": [],
   "source": [
    "## Calculating Principal Components\n",
    "\n",
    "<p>You'll visually inspect a 4 feature sample of the ANSUR dataset before and after PCA using Seaborn's <code>pairplot()</code>. This will allow you to inspect the pairwise correlations between the features.</p>\n",
    "<p>The data has been pre-loaded for you as <code>ansur_df</code>.</p>"
   ],
   "execution_count": null,
   "cell_type": "markdown"
  },
  {
   "metadata": {
    "pycharm": {
     "name": "#%% md\n"
    }
   },
   "outputs": [],
   "source": [
    "Create a Seaborn pairplot to inspect <code>ansur_df</code>."
   ],
   "execution_count": null,
   "cell_type": "markdown"
  },
  {
   "metadata": {
    "pycharm": {
     "name": "#%% md\n"
    }
   },
   "outputs": [],
   "source": [
    "## PCA on a larger dataset\n",
    "\n",
    "<p>You'll now apply PCA on a somewhat larger ANSUR datasample with 13 dimensions, once again pre-loaded as <code>ansur_df</code>. The fitted model will be used in the next exercise.\n",
    "Since we are not using the principal components themselves there is no need to transform the data, instead, it is sufficient to fit <code>pca</code> to the data.</p>"
   ],
   "execution_count": null,
   "cell_type": "markdown"
  },
  {
   "metadata": {
    "pycharm": {
     "name": "#%% md\n"
    }
   },
   "outputs": [],
   "source": [
    "Create the <code>scaler</code>."
   ],
   "execution_count": null,
   "cell_type": "markdown"
  },
  {
   "metadata": {
    "pycharm": {
     "name": "#%% md\n"
    }
   },
   "outputs": [],
   "source": [
    "Standardize the data."
   ],
   "execution_count": null,
   "cell_type": "markdown"
  },
  {
   "metadata": {
    "pycharm": {
     "name": "#%% md\n"
    }
   },
   "outputs": [],
   "source": [
    "Create the <code>PCA()</code> instance."
   ],
   "execution_count": null,
   "cell_type": "markdown"
  },
  {
   "metadata": {
    "pycharm": {
     "name": "#%% md\n"
    }
   },
   "outputs": [],
   "source": [
    "Fit it to the standardized data."
   ],
   "execution_count": null,
   "cell_type": "markdown"
  },
  {
   "metadata": {
    "pycharm": {
     "name": "#%% md\n"
    }
   },
   "outputs": [],
   "source": [
    "## PCA explained variance\n",
    "\n",
    "<p>You'll be inspecting the variance explained by the different principal components of the <code>pca</code> instance you created in the previous exercise.</p>"
   ],
   "execution_count": null,
   "cell_type": "markdown"
  },
  {
   "metadata": {
    "pycharm": {
     "name": "#%% md\n"
    }
   },
   "outputs": [],
   "source": [
    "Print the explained variance ratio per principal component."
   ],
   "execution_count": null,
   "cell_type": "markdown"
  },
  {
   "metadata": {
    "pycharm": {
     "name": "#%% md\n"
    }
   },
   "outputs": [],
   "source": [
    "## PCA applications"
   ],
   "execution_count": null,
   "cell_type": "markdown"
  },
  {
   "metadata": {
    "pycharm": {
     "name": "#%% md\n"
    }
   },
   "outputs": [],
   "source": [
    "### 1. PCA applications\n",
    "\n",
    "When you use PCA for dimensionality reduction you decide how much of the explained variance you're willing to sacrifice. However, one downside of PCA is that the remaining components can be hard to interpret."
   ],
   "execution_count": null,
   "cell_type": "markdown"
  },
  {
   "metadata": {
    "pycharm": {
     "name": "#%% md\n"
    }
   },
   "outputs": [],
   "source": [
    "### 2. Understanding the components\n",
    "\n",
    "To improve your understanding of the components it can help to look at the components_ attribute. This tells us to what extent each component's vector is affected by a particular feature. The features with the biggest positive or negative effects on a component can then be used to add a meaning to that component. In the example shown here the effects of the features on the first components are positive and equally strong at 0-point-71. So the first component is affected just as much by hand as foot length. However, the second component is negatively affected by hand length. So people who score high for the second component have short hands compared to their feet."
   ],
   "execution_count": null,
   "cell_type": "markdown"
  },
  {
   "metadata": {
    "pycharm": {
     "name": "#%% md\n"
    }
   },
   "outputs": [],
   "source": [
    "### 3. PCA for data exploration\n",
    "\n",
    "When we apply this technique to the combined male-female ANSUR dataset we find that the first component is mostly affected by overall body height. To verify this I've added body height categories to the data. When we plot the first two components and color the points with these categories, we can see that they pretty much align with the X-axis or first principal component. We therefore learn that the most important source of variance in this dataset, has something to do with how tall a person is."
   ],
   "execution_count": null,
   "cell_type": "markdown"
  },
  {
   "metadata": {
    "pycharm": {
     "name": "#%% md\n"
    }
   },
   "outputs": [],
   "source": [
    "### 4. PCA in a pipeline\n",
    "\n",
    "Let's look at the code to create this plot. Since we always scale the data before applying PCA we can combine both operations in a pipeline. We pass the two operations to the Pipeline() class in the form of two tuples inside a list. Within each tuple we give our operation a name, 'scaler' and 'reducer' in this example, and then fit and transform the data in one go."
   ],
   "execution_count": null,
   "cell_type": "markdown"
  },
  {
   "metadata": {
    "pycharm": {
     "name": "#%% md\n"
    }
   },
   "outputs": [],
   "source": [
    "### 5. Checking the effect of categorical features\n",
    "\n",
    "Our ANSUR dataset has a number of categorical features. PCA is not the preferred algorithm to reduce the dimensionality of categorical datasets, but we can check whether they align with the most important sources of variance in the data."
   ],
   "execution_count": null,
   "cell_type": "markdown"
  },
  {
   "metadata": {
    "pycharm": {
     "name": "#%% md\n"
    }
   },
   "outputs": [],
   "source": [
    "### 6. Checking the effect of categorical features\n",
    "\n",
    "We can add the first two principal components to our DataFrame and plot them with Seaborn's scatterplot(). To create the plot we saw earlier we set the hue parameter to 'Height_class'. Now that we know that tall individuals are on the left and shorter individuals on the right, let's have a look at how Gender is associated with the variance."
   ],
   "execution_count": null,
   "cell_type": "markdown"
  },
  {
   "metadata": {
    "pycharm": {
     "name": "#%% md\n"
    }
   },
   "outputs": [],
   "source": [
    "### 7. Checking the effect of categorical features\n",
    "\n",
    "It turns out females are mostly on the right, shorter side of our point cloud."
   ],
   "execution_count": null,
   "cell_type": "markdown"
  },
  {
   "metadata": {
    "pycharm": {
     "name": "#%% md\n"
    }
   },
   "outputs": [],
   "source": [
    "### 8. Checking the effect of categorical features\n",
    "\n",
    "When we use the BMI class to color the points we see that this feature is mostly aligned with the second principal component while also the first component has an effect."
   ],
   "execution_count": null,
   "cell_type": "markdown"
  },
  {
   "metadata": {
    "pycharm": {
     "name": "#%% md\n"
    }
   },
   "outputs": [],
   "source": [
    "### 9. PCA in a model pipeline\n",
    "\n",
    "To go beyond data exploration, we can add a model to the pipeline. In this case, we've added a random forest classifier and will predict gender on the 94 numeric features of the ANSUR dataset. Notice that we've told the PCA class to only calculate 3 components with the n_components parameter. We can access the different steps in the pipeline by using the names we gave each step as keys, just like a Python dictionary. When we use 'reducer' as the key, the PCA object is returned."
   ],
   "execution_count": null,
   "cell_type": "markdown"
  },
  {
   "metadata": {
    "pycharm": {
     "name": "#%% md\n"
    }
   },
   "outputs": [],
   "source": [
    "### 10. PCA in a model pipeline\n",
    "\n",
    "Once the pipeline has been fitted to the data, we can access attributes like the explained_variance_ratio_ like so. When we sum these, we see that the first three components only explain 74% of the variance in the dataset. However, when we check the classification accuracy on the test set, we get an impressive 98-point-6%!"
   ],
   "execution_count": null,
   "cell_type": "markdown"
  },
  {
   "metadata": {
    "pycharm": {
     "name": "#%% md\n"
    }
   },
   "outputs": [],
   "source": [
    "### 11. Let's practice!\n",
    "\n",
    "Now it's your turn to apply PCA for data exploration and modeling."
   ],
   "execution_count": null,
   "cell_type": "markdown"
  },
  {
   "metadata": {
    "pycharm": {
     "name": "#%% md\n"
    }
   },
   "outputs": [],
   "source": [
    "## Understanding the components\n",
    "\n",
    "<p>You'll apply PCA to the numeric features of the Pokemon dataset, <code>poke_df</code>, using a pipeline to combine the feature scaling and PCA in one go. You'll then interpret the meanings of the first two components.</p>\n",
    "<p>All relevant packages and classes have been pre-loaded for you (<code>Pipeline()</code>, <code>StandardScaler()</code>, <code>PCA()</code>).</p>"
   ],
   "execution_count": null,
   "cell_type": "markdown"
  },
  {
   "metadata": {
    "pycharm": {
     "name": "#%% md\n"
    }
   },
   "outputs": [],
   "source": [
    "Build the pipeline with the scaler and PCA, set the number of components to calculate to 2."
   ],
   "execution_count": null,
   "cell_type": "markdown"
  },
  {
   "metadata": {
    "pycharm": {
     "name": "#%% md\n"
    }
   },
   "outputs": [],
   "source": [
    "## PCA for feature exploration\n",
    "\n",
    "<p>You'll use the PCA pipeline you've built in the previous exercise to visually explore how some categorical features relate to the variance in <code>poke_df</code>.\n",
    "These categorical features (<code>Type</code> &amp; <code>Legendary</code>) can be found in a separate DataFrame <code>poke_cat_df</code>. </p>\n",
    "<p>All relevant packages and classes have been pre-loaded for you (<code>Pipeline()</code>, <code>StandardScaler()</code>, <code>PCA()</code>)</p>"
   ],
   "execution_count": null,
   "cell_type": "markdown"
  },
  {
   "metadata": {
    "pycharm": {
     "name": "#%% md\n"
    }
   },
   "outputs": [],
   "source": [
    "Fit and transform the pipeline to <code>poke_df</code> to extract the principal components."
   ],
   "execution_count": null,
   "cell_type": "markdown"
  },
  {
   "metadata": {
    "pycharm": {
     "name": "#%% md\n"
    }
   },
   "outputs": [],
   "source": [
    "## PCA in a model pipeline\n",
    "\n",
    "<p>We just saw that legendary Pokemon tend to have higher stats overall. Let's see if we can add a classifier to our pipeline that detects legendary versus non-legendary Pokemon based on the principal components.</p>\n",
    "<p>The data has been pre-loaded for you and split into training and tests datasets: <code>X_train</code>, <code>X_test</code>, <code>y_train</code>, <code>y_test</code>.</p>\n",
    "<p>Same goes for all relevant packages and classes(<code>Pipeline()</code>, <code>StandardScaler()</code>, <code>PCA()</code>, <code>RandomForestClassifier()</code>).</p>"
   ],
   "execution_count": null,
   "cell_type": "markdown"
  },
  {
   "metadata": {
    "pycharm": {
     "name": "#%% md\n"
    }
   },
   "outputs": [],
   "source": [
    "Add a scaler, PCA limited to 2 components, and random forest classifier with <code>random_state=0</code> to the pipeline."
   ],
   "execution_count": null,
   "cell_type": "markdown"
  },
  {
   "metadata": {
    "pycharm": {
     "name": "#%% md\n"
    }
   },
   "outputs": [],
   "source": [
    "## Principal Component selection"
   ],
   "execution_count": null,
   "cell_type": "markdown"
  },
  {
   "metadata": {
    "pycharm": {
     "name": "#%% md\n"
    }
   },
   "outputs": [],
   "source": [
    "### 1. Principal Component selection\n",
    "\n",
    "In the previous lesson we saw how you can set the number of components that the PCA algorithm should calculate. An alternative technique is telling PCA the minimal proportion of variance we want to keep and let the algorithm decide on the number of components it needs to achieve that."
   ],
   "execution_count": null,
   "cell_type": "markdown"
  },
  {
   "metadata": {
    "pycharm": {
     "name": "#%% md\n"
    }
   },
   "outputs": [],
   "source": [
    "### 2. Setting an explained variance threshold\n",
    "\n",
    "We can do this by passing a number between 0 and 1 to the n_components parameter of PCA. When we pass it 0-point-9 it will make sure to select enough components to explain 90% of the variance. This turns out to be 5 for the Pokemon data. One problem is that whether we set the number of components as an integer or a ratio, we're still just making these numbers up using gut feeling. Fact is, there is not a single right answer to the question \"how many components should I keep?\" since it depends on how much information you are willing to sacrifice to reduce complexity."
   ],
   "execution_count": null,
   "cell_type": "markdown"
  },
  {
   "metadata": {
    "pycharm": {
     "name": "#%% md\n"
    }
   },
   "outputs": [],
   "source": [
    "### 3. An optimal number of components\n",
    "\n",
    "There is, however, a trick that can help you find a good balance. When you plot the explained variance ratio of a fitted PCA instance, you'll get to see that most of the explained variance is concentrated in the first few components. As you go from left to right in this type of plot you'll often see that the explained variance ratio per component starts to level out quite abruptly. The location where this shift happens is known as"
   ],
   "execution_count": null,
   "cell_type": "markdown"
  },
  {
   "metadata": {
    "pycharm": {
     "name": "#%% md\n"
    }
   },
   "outputs": [],
   "source": [
    "### 4. An optimal number of components\n",
    "\n",
    "the 'elbow' in the plot. And it typically gives you a good starting point for the number of components to keep. Do note that the x-axis shows you the index of the components and not the total number. So since the elbow is at the component with index 1 here, we'd select 2 components."
   ],
   "execution_count": null,
   "cell_type": "markdown"
  },
  {
   "metadata": {
    "pycharm": {
     "name": "#%% md\n"
    }
   },
   "outputs": [],
   "source": [
    "### 5. PCA operations\n",
    "\n",
    "Up until now, we've seen how you can use PCA to go from an input feature dataset X to a NumPy array of principal components pc, either by first fitting pca to the data and then transforming that data in two operations"
   ],
   "execution_count": null,
   "cell_type": "markdown"
  },
  {
   "metadata": {
    "pycharm": {
     "name": "#%% md\n"
    }
   },
   "outputs": [],
   "source": [
    "### 6. PCA operations\n",
    "\n",
    "or in one go with the .fit_transform() method. A final trick that I'd like to teach you, is how to go back from the principal components to the original feature space."
   ],
   "execution_count": null,
   "cell_type": "markdown"
  },
  {
   "metadata": {
    "pycharm": {
     "name": "#%% md\n"
    }
   },
   "outputs": [],
   "source": [
    "### 7. PCA operations\n",
    "\n",
    "This can be done by calling the .inverse_transform() method on the principal component array. Because you typically lose information going from left to right in this overview, you'll see that the result from going back to the original feature space will have changed somewhat."
   ],
   "execution_count": null,
   "cell_type": "markdown"
  },
  {
   "metadata": {
    "pycharm": {
     "name": "#%% md\n"
    }
   },
   "outputs": [],
   "source": [
    "### 8. Compressing images\n",
    "\n",
    "An application where this is relevant is image compression. Let's have a look at the \"Labeled Faces in the Wild\" dataset. The 15 images you see here are the test set."
   ],
   "execution_count": null,
   "cell_type": "markdown"
  },
  {
   "metadata": {
    "pycharm": {
     "name": "#%% md\n"
    }
   },
   "outputs": [],
   "source": [
    "### 9. Compressing images\n",
    "\n",
    "It's a two dimensional NumPy array with 15 arrays of 2914 elements each. These elements correspond to the grayscale value of a pixel in the 62 by 47 pixel images. Our training set contains 1333 of such images."
   ],
   "execution_count": null,
   "cell_type": "markdown"
  },
  {
   "metadata": {
    "pycharm": {
     "name": "#%% md\n"
    }
   },
   "outputs": [],
   "source": [
    "### 10. Compressing images\n",
    "\n",
    "We can build a pipeline where we tell PCA to select only 290 components and then fit this pipeline to our training data. If we then use this fitted model to transform the unseen test data, we'll get a 10 fold reduction in the number of features. We could now save our images with 10 times less disk space!"
   ],
   "execution_count": null,
   "cell_type": "markdown"
  },
  {
   "metadata": {
    "pycharm": {
     "name": "#%% md\n"
    }
   },
   "outputs": [],
   "source": [
    "### 11. Rebuilding images\n",
    "\n",
    "Finally, we can perform the inverse transform operation to rebuild our pixels from the principal components. We then use a custom made img_plotter() function to create this output."
   ],
   "execution_count": null,
   "cell_type": "markdown"
  },
  {
   "metadata": {
    "pycharm": {
     "name": "#%% md\n"
    }
   },
   "outputs": [],
   "source": [
    "### 12. Rebuilding images\n",
    "\n",
    "While there is quality loss, the result is not bad."
   ],
   "execution_count": null,
   "cell_type": "markdown"
  },
  {
   "metadata": {
    "pycharm": {
     "name": "#%% md\n"
    }
   },
   "outputs": [],
   "source": [
    "### 13. Let's practice!\n",
    "\n",
    "Now it's your turn to practice these techniques."
   ],
   "execution_count": null,
   "cell_type": "markdown"
  },
  {
   "metadata": {
    "pycharm": {
     "name": "#%% md\n"
    }
   },
   "outputs": [],
   "source": [
    "## Selecting the proportion of variance to keep\n",
    "\n",
    "<p>You'll let PCA determine the number of components to calculate based on an explained variance threshold that you decide.</p>\n",
    "<p>You'll work on the numeric ANSUR female dataset pre-loaded as <code>ansur_df</code>.</p>\n",
    "<p>All relevant packages and classes have been pre-loaded too (<code>Pipeline()</code>, <code>StandardScaler()</code>, <code>PCA()</code>).</p>"
   ],
   "execution_count": null,
   "cell_type": "markdown"
  },
  {
   "metadata": {
    "pycharm": {
     "name": "#%% md\n"
    }
   },
   "outputs": [],
   "source": [
    "Pipe a scaler to PCA selecting 80% of the variance."
   ],
   "execution_count": null,
   "cell_type": "markdown"
  },
  {
   "metadata": {
    "pycharm": {
     "name": "#%% md\n"
    }
   },
   "outputs": [],
   "source": [
    "## Choosing the number of components\n",
    "\n",
    "<p>You'll now make a more informed decision on the number of principal components to reduce your data to using the \"elbow in the plot\" technique. One last time, you'll work on the numeric ANSUR female dataset pre-loaded as <code>ansur_df</code>.</p>\n",
    "<p>All relevant packages and classes have been pre-loaded for you (<code>Pipeline()</code>, <code>StandardScaler()</code>, <code>PCA()</code>).</p>"
   ],
   "execution_count": null,
   "cell_type": "markdown"
  },
  {
   "metadata": {
    "pycharm": {
     "name": "#%% md\n"
    }
   },
   "outputs": [],
   "source": [
    "Create a pipeline with a scaler and PCA selecting 10 components."
   ],
   "execution_count": null,
   "cell_type": "markdown"
  },
  {
   "metadata": {
    "pycharm": {
     "name": "#%% md\n"
    }
   },
   "outputs": [],
   "source": [
    "## PCA for image compression\n",
    "\n",
    "<p>You'll reduce the size of 16 images with hand written digits (MNIST dataset) using PCA.</p>\n",
    "<p>The samples are 28 by 28 pixel gray scale images that have been flattened to arrays with 784 elements each (28 x 28 = 784) and added to the 2D numpy array <code>X_test</code>. Each of the 784 pixels has a value between 0 and 255 and can be regarded as a feature. </p>\n",
    "<p>A pipeline with a scaler and PCA model to select 78 components has been pre-loaded for you as <code>pipe</code>. This pipeline has already been fitted to the entire MNIST dataset except for the 16 samples in <code>X_test</code>.</p>\n",
    "<p>Finally, a function <code>plot_digits</code> has been created for you that will plot 16 images in a grid.</p>"
   ],
   "execution_count": null,
   "cell_type": "markdown"
  },
  {
   "metadata": {
    "pycharm": {
     "name": "#%% md\n"
    }
   },
   "outputs": [],
   "source": [
    "Plot the MNIST sample data."
   ],
   "execution_count": null,
   "cell_type": "markdown"
  },
  {
   "metadata": {
    "pycharm": {
     "name": "#%% md\n"
    }
   },
   "outputs": [],
   "source": [
    "## Congratulations!"
   ],
   "execution_count": null,
   "cell_type": "markdown"
  },
  {
   "metadata": {
    "pycharm": {
     "name": "#%% md\n"
    }
   },
   "outputs": [],
   "source": [
    "### 1. Congratulations!\n",
    "\n",
    "Congratulations! You've made it all the way through this dimensionality reduction deep dive."
   ],
   "execution_count": null,
   "cell_type": "markdown"
  },
  {
   "metadata": {
    "pycharm": {
     "name": "#%% md\n"
    }
   },
   "outputs": [],
   "source": [
    "### 2. What you've learned\n",
    "\n",
    "You now know why dimensionality reduction is important and when to use it. You also understand the difference between feature selection and feature extraction and you've added multiple options to your toolkit to apply both. When you need to explore a new high dimensional dataset you can use techniques like t-SNE and PCA to find the strongest patterns in the data. When you want to use a dataset to predict some target feature you now know how to let models help you find the most important features in a dataset for that task. And you've got multiple tricks up your sleeve to remove the unimportant features. While you now have a solid foundation on dimensionality reduction there is always more to learn on this topic, for instance, we've been focusing on numerical data in this course and this has come at the cost of giving categorical features and text data a bit of a cold treatment. I encourage you to have a look at the specialized techniques for those data types."
   ],
   "execution_count": null,
   "cell_type": "markdown"
  },
  {
   "metadata": {
    "pycharm": {
     "name": "#%% md\n"
    }
   },
   "outputs": [],
   "source": [
    "### 3. Thank you!\n",
    "\n",
    "But for now, you deserve a break and my compliments for what you've achieved. I thank you for staying with me throughout this course and hope you've enjoyed it. Goodbye!"
   ],
   "execution_count": null,
   "cell_type": "markdown"
  }
 ],
 "metadata": {
  "kernelspec": {
   "display_name": "Python 3 (ipykernel)",
   "language": "python",
   "name": "python3"
  },
  "language_info": {
   "codemirror_mode": {
    "name": "ipython",
    "version": 3
   },
   "file_extension": ".py",
   "mimetype": "text/x-python",
   "name": "python",
   "nbconvert_exporter": "python",
   "pygments_lexer": "ipython3",
   "version": "3.9.12"
  },
  "toc": {
   "base_numbering": 1,
   "nav_menu": {},
   "number_sections": true,
   "sideBar": true,
   "skip_h1_title": false,
   "title_cell": "Table of Contents",
   "title_sidebar": "Contents",
   "toc_cell": false,
   "toc_position": {
    "height": "calc(100% - 180px)",
    "left": "10px",
    "top": "150px",
    "width": "165px"
   },
   "toc_section_display": true,
   "toc_window_display": true
  },
  "varInspector": {
   "cols": {
    "lenName": 16,
    "lenType": 16,
    "lenVar": 40
   },
   "kernels_config": {
    "python": {
     "delete_cmd_postfix": "",
     "delete_cmd_prefix": "del ",
     "library": "var_list.py",
     "varRefreshCmd": "print(var_dic_list())"
    },
    "r": {
     "delete_cmd_postfix": ") ",
     "delete_cmd_prefix": "rm(",
     "library": "var_list.r",
     "varRefreshCmd": "cat(var_dic_list()) "
    }
   },
   "types_to_exclude": [
    "module",
    "function",
    "builtin_function_or_method",
    "instance",
    "_Feature"
   ],
   "window_display": false
  }
 },
 "nbformat": 4,
 "nbformat_minor": 5
}